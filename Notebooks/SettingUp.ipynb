{
 "cells": [
  {
   "cell_type": "markdown",
   "id": "12c6c4dd",
   "metadata": {},
   "source": [
    "# Setting up a Local Python Programming Environment"
   ]
  },
  {
   "cell_type": "markdown",
   "id": "81d5da40",
   "metadata": {},
   "source": [
    "There are many different ways to install Python and to set up a local development environment. To make things easy, for this course we'll be using **conda** within **VS Code**. "
   ]
  },
  {
   "attachments": {
    "image.png": {
     "image/png": "[encoded data removed]"
    }
   },
   "cell_type": "markdown",
   "id": "3059b18a",
   "metadata": {},
   "source": [
    "## VS Code\n",
    "\n",
    "You can download VS Code at https://code.visualstudio.com/\n",
    "\n",
    "The website should automatically detect your system and display a download button:\n",
    "\n",
    "![image.png](attachment:image.png)\n",
    "\n",
    "Download and install VS Code."
   ]
  },
  {
   "cell_type": "markdown",
   "id": "da40be71",
   "metadata": {},
   "source": [
    "The rest of the process will be a slightly different between MacOS and Windows, please skip to the guide for your system."
   ]
  },
  {
   "attachments": {
    "image-2.png": {
     "image/png": "[encoded data removed]"
    },
    "image.png": {
     "image/png": "[encoded data removed]"
    }
   },
   "cell_type": "markdown",
   "id": "932ea88c",
   "metadata": {},
   "source": [
    "## Windows\n",
    "\n",
    "#### 1) Open a terminal (powershell) window\n",
    "\n",
    "In VS Code open a terminal window.\n",
    "\n",
    "![image.png](attachment:image.png)\n",
    "\n",
    "This should open a terminal window at the bottom of your VS Code screen:\n",
    "\n",
    "![image-2.png](attachment:image-2.png)\n",
    "\n",
    "Copy the commands below into the terminal:\n",
    "\n",
    "#### 2) Download conda \n",
    "```bash\n",
    "wget \"https://repo.anaconda.com/miniconda/Miniconda3-latest-Windows-x86_64.exe\" -outfile \".\\miniconda.exe\"\n",
    "```\n",
    "\n",
    "#### 3) Install conda\n",
    "```bash\n",
    "Start-Process -FilePath \".\\miniconda.exe\" -ArgumentList \"/S\" -Wait\n",
    "```\n",
    "\n",
    "#### 4) Clean-up the install files\n",
    "```bash\n",
    "del .\\miniconda.exe\n",
    "```"
   ]
  },
  {
   "cell_type": "markdown",
   "id": "b3ff8d24",
   "metadata": {},
   "source": [
    "## MacOS\n",
    "\n",
    "#### 1) Open a terminal window\n",
    "\n",
    "In VS Code open a terminal window.\n",
    "\n",
    "![image.png](attachment:image.png)\n",
    "\n",
    "This should open a terminal window at the bottom of your VS Code screen:\n",
    "\n",
    "![image-2.png](attachment:image-2.png)\n",
    "\n",
    "Copy the commands below into the terminal:\n",
    "\n",
    "#### 1) Naviate to your home directory\n",
    "```bash\n",
    "cd ~\n",
    "```\n",
    "\n",
    "#### 2) Make a new directory\n",
    "```bash\n",
    "mkdir -p ~/miniconda3\n",
    "```\n",
    "\n",
    "### 3) Download conda\n",
    "\n",
    "For Apple Silicon (M chips, roughly after 2021)\n",
    "```bash\n",
    "curl https://repo.anaconda.com/miniconda/Miniconda3-latest-MacOSX-arm64.sh -o ~/miniconda3/miniconda.sh\n",
    "```\n",
    "\n",
    "For Intel (Pre-2020)\n",
    "\n",
    "```bash\n",
    "curl https://repo.anaconda.com/miniconda/Miniconda3-latest-MacOSX-x86_64.sh -o ~/miniconda3/miniconda.sh\n",
    "```\n",
    "\n",
    "#### 3) Install conda\n",
    "```bash\n",
    "bash ~/miniconda3/miniconda.sh -b -u -p ~/miniconda3\n",
    "```\n",
    "\n",
    "#### 4) Clean-up the install files\n",
    "```bash\n",
    "rm ~/miniconda3/miniconda.sh\n",
    "```"
   ]
  },
  {
   "cell_type": "markdown",
   "id": "22a136ac",
   "metadata": {},
   "source": [
    "## MacOS"
   ]
  },
  {
   "cell_type": "markdown",
   "id": "d5772bd5",
   "metadata": {},
   "source": [
    "### 1) Open up the MacOS terminal\n",
    "We\"ll be working in the MacOS terminal so first thing is to open a terminal window. One way to do this is:\n",
    "\n",
    "```\n",
    "Press \"Cmd⌘ + Space\" to open spotlight search. Type \"terminal\" and press enter.\n",
    "```\n",
    "\n",
    "### 2) Install XCode Command Line Tools\n",
    "\n",
    "```bash \n",
    "xcode-select --install\n",
    "```\n",
    "\n",
    "### 3) Install Homebrew package manager\n",
    "\n",
    "Go to https://brew.sh/ and copy the line underneath the Install Homebrew title. It should be something like:\n",
    "```\n",
    "/bin/bash -c \"$(curl -fsSL https://raw.githubusercontent.com/Homebrew/install/HEAD/install.sh)\"\n",
    "```\n",
    "\n",
    "<img src=\"res/hmbrw_dl.png\" width=\"700\"/>\n",
    "\n",
    "### 4) Setup pyenv\n",
    "\n",
    "pyenv is a \"Python installation manager\". For various reasons we might want to have different versions of Python running on the same computer, pyenv makes this easy to do.\n",
    "\n",
    "First in the terminal run:\n",
    "\n",
    "``` bash\n",
    "brew update\n",
    "brew install pyenv\n",
    "```\n",
    "\n",
    "If you get an error message about \"brew\" not being recognised, try closing the terminal and opening a new terminal window.\n",
    "\n",
    "Next we have to add pyenv to the terminal \"PATH\". This is where the terminal will look for the commands we try to run.\n",
    "\n",
    "``` bash\n",
    "echo 'export PYENV_ROOT=\"$HOME/.pyenv\"' >> ~/.zshrc\n",
    "echo '[[ -d $PYENV_ROOT/bin ]] && export PATH=\"$PYENV_ROOT/bin:$PATH\"' >> ~/.zshrc\n",
    "echo 'eval \"$(pyenv init - zsh)\"' >> ~/.zshrc\n",
    "```\n",
    "\n",
    "### 5) Install python build tools\n",
    "\n",
    "Almost there, but there are some important tools still missing. These are used by pyenv when putting together (compilin and building) the python version we ask for.\n",
    "\n",
    "First, **close and reopen the terminal window.**\n",
    "\n",
    "Next, run this command in the new terminal:\n",
    "``` bash\n",
    "brew install openssl readline sqlite3 xz zlib tcl-tk@8 libb2\n",
    "```"
   ]
  },
  {
   "cell_type": "markdown",
   "id": "1d782cf2",
   "metadata": {},
   "source": [
    "### 6) Installing Python\n",
    "\n",
    "Finally we are ready to install Python. For this course we'll be using Python 3.13.5 (The most recent release at time of writing).\n",
    "\n",
    "To install a specific version of Python:\n",
    "\n",
    "```bash\n",
    "pyenv install 3.13.5\n",
    "```"
   ]
  }
 ],
 "metadata": {
  "language_info": {
   "name": "python"
  }
 },
 "nbformat": 4,
 "nbformat_minor": 5
}
