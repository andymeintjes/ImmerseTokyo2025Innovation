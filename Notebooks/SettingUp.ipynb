{
 "cells": [
  {
   "cell_type": "markdown",
   "id": "12c6c4dd",
   "metadata": {},
   "source": [
    "# Setting up a Local Python Programming Environment"
   ]
  },
  {
   "cell_type": "markdown",
   "id": "81d5da40",
   "metadata": {},
   "source": [
    "There are many different ways to install Python and to set up a local development environment. To make things easy, for this course we'll be using **conda** within **VS Code**. "
   ]
  },
  {
   "attachments": {
    "image.png": {
     "image/png": "[encoded data removed]"
    }
   },
   "cell_type": "markdown",
   "id": "3059b18a",
   "metadata": {},
   "source": [
    "## VS Code\n",
    "\n",
    "![image.png](attachment:image.png)\n"
   ]
  },
  {
   "cell_type": "markdown",
   "id": "da40be71",
   "metadata": {},
   "source": [
    "The process will be a slightly different between MacOS and Windows, please skip to the guide for your system."
   ]
  },
  {
   "cell_type": "markdown",
   "id": "932ea88c",
   "metadata": {},
   "source": [
    "## Windows\n",
    "\n",
    "1) Open Powershell\n",
    "\n",
    "Windows comes with a command prompt called Powershell. We'll use this to download and install conda.\n",
    "\n",
    "\n",
    "```bash\n",
    "wget \"https://repo.anaconda.com/miniconda/Miniconda3-latest-Windows-x86_64.exe\" -outfile \".\\miniconda.exe\"\n",
    "```\n",
    "\n",
    "`Start-Process -FilePath \".\\miniconda.exe\" -ArgumentList \"/S\" -Wait`\n",
    "\n",
    "`del .\\miniconda.exe`"
   ]
  },
  {
   "cell_type": "markdown",
   "id": "22a136ac",
   "metadata": {},
   "source": [
    "## MacOS"
   ]
  },
  {
   "cell_type": "markdown",
   "id": "d5772bd5",
   "metadata": {},
   "source": [
    "### 1) Open up the MacOS terminal\n",
    "We\"ll be working in the MacOS terminal so first thing is to open a terminal window. One way to do this is:\n",
    "\n",
    "```\n",
    "Press \"Cmd⌘ + Space\" to open spotlight search. Type \"terminal\" and press enter.\n",
    "```\n",
    "\n",
    "### 2) Install XCode Command Line Tools\n",
    "\n",
    "```bash \n",
    "xcode-select --install\n",
    "```\n",
    "\n",
    "### 3) Install Homebrew package manager\n",
    "\n",
    "Go to https://brew.sh/ and copy the line underneath the Install Homebrew title. It should be something like:\n",
    "```\n",
    "/bin/bash -c \"$(curl -fsSL https://raw.githubusercontent.com/Homebrew/install/HEAD/install.sh)\"\n",
    "```\n",
    "\n",
    "<img src=\"res/hmbrw_dl.png\" width=\"700\"/>\n",
    "\n",
    "### 4) Setup pyenv\n",
    "\n",
    "pyenv is a \"Python installation manager\". For various reasons we might want to have different versions of Python running on the same computer, pyenv makes this easy to do.\n",
    "\n",
    "First in the terminal run:\n",
    "\n",
    "``` bash\n",
    "brew update\n",
    "brew install pyenv\n",
    "```\n",
    "\n",
    "If you get an error message about \"brew\" not being recognised, try closing the terminal and opening a new terminal window.\n",
    "\n",
    "Next we have to add pyenv to the terminal \"PATH\". This is where the terminal will look for the commands we try to run.\n",
    "\n",
    "``` bash\n",
    "echo 'export PYENV_ROOT=\"$HOME/.pyenv\"' >> ~/.zshrc\n",
    "echo '[[ -d $PYENV_ROOT/bin ]] && export PATH=\"$PYENV_ROOT/bin:$PATH\"' >> ~/.zshrc\n",
    "echo 'eval \"$(pyenv init - zsh)\"' >> ~/.zshrc\n",
    "```\n",
    "\n",
    "### 5) Install python build tools\n",
    "\n",
    "Almost there, but there are some important tools still missing. These are used by pyenv when putting together (compilin and building) the python version we ask for.\n",
    "\n",
    "First, **close and reopen the terminal window.**\n",
    "\n",
    "Next, run this command in the new terminal:\n",
    "``` bash\n",
    "brew install openssl readline sqlite3 xz zlib tcl-tk@8 libb2\n",
    "```"
   ]
  },
  {
   "cell_type": "markdown",
   "id": "1d782cf2",
   "metadata": {},
   "source": [
    "### 6) Installing Python\n",
    "\n",
    "Finally we are ready to install Python. For this course we'll be using Python 3.13.5 (The most recent release at time of writing).\n",
    "\n",
    "To install a specific version of Python:\n",
    "\n",
    "```bash\n",
    "pyenv install 3.13.5\n",
    "```"
   ]
  }
 ],
 "metadata": {
  "language_info": {
   "name": "python"
  }
 },
 "nbformat": 4,
 "nbformat_minor": 5
}
