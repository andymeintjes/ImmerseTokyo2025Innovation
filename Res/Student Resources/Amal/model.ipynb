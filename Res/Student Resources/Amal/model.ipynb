{
 "cells": [
  {
   "cell_type": "code",
   "execution_count": 1,
   "id": "8f069674",
   "metadata": {},
   "outputs": [
    {
     "ename": "NameError",
     "evalue": "name 'screentime_data' is not defined",
     "output_type": "error",
     "traceback": [
      "\u001b[31m---------------------------------------------------------------------------\u001b[39m",
      "\u001b[31mNameError\u001b[39m                                 Traceback (most recent call last)",
      "\u001b[36mCell\u001b[39m\u001b[36m \u001b[39m\u001b[32mIn[1]\u001b[39m\u001b[32m, line 7\u001b[39m\n\u001b[32m      4\u001b[39m \u001b[38;5;28;01mfrom\u001b[39;00m\u001b[38;5;250m \u001b[39m\u001b[34;01msklearn\u001b[39;00m\u001b[34;01m.\u001b[39;00m\u001b[34;01mmetrics\u001b[39;00m\u001b[38;5;250m \u001b[39m\u001b[38;5;28;01mimport\u001b[39;00m mean_absolute_error, roc_auc_score, f1_score, confusion_matrix, precision_score, recall_score, precision_recall_curve, ConfusionMatrixDisplay\n\u001b[32m      5\u001b[39m \u001b[38;5;28;01mfrom\u001b[39;00m\u001b[38;5;250m \u001b[39m\u001b[34;01msklearn\u001b[39;00m\u001b[34;01m.\u001b[39;00m\u001b[34;01mutils\u001b[39;00m\u001b[34;01m.\u001b[39;00m\u001b[34;01mclass_weight\u001b[39;00m\u001b[38;5;250m \u001b[39m\u001b[38;5;28;01mimport\u001b[39;00m compute_sample_weight\n\u001b[32m----> \u001b[39m\u001b[32m7\u001b[39m y = \u001b[43mscreentime_data\u001b[49m[\u001b[33m'\u001b[39m\u001b[33mMental Health Treatment\u001b[39m\u001b[33m'\u001b[39m]\n\u001b[32m      8\u001b[39m X = screentime_data[[\u001b[33m'\u001b[39m\u001b[33mscreen_time\u001b[39m\u001b[33m'\u001b[39m,\u001b[33m'\u001b[39m\u001b[33mage\u001b[39m\u001b[33m'\u001b[39m]]\n\u001b[32m     10\u001b[39m rnd = \u001b[32m10\u001b[39m\n",
      "\u001b[31mNameError\u001b[39m: name 'screentime_data' is not defined"
     ]
    }
   ],
   "source": [
    "from sklearn.model_selection import train_test_split\n",
    "from sklearn.ensemble import RandomForestClassifier\n",
    "from sklearn.tree import DecisionTreeClassifier\n",
    "from sklearn.metrics import mean_absolute_error, roc_auc_score, f1_score, confusion_matrix, precision_score, recall_score, precision_recall_curve, ConfusionMatrixDisplay\n",
    "from sklearn.utils.class_weight import compute_sample_weight\n",
    "\n",
    "y = screentime_data['Mental Health Treatment']\n",
    "X = screentime_data[['screen_time','age']]\n",
    "\n",
    "rnd = 10\n",
    "\n",
    "train_X, val_X, train_y, val_y = train_test_split(X, y,random_state = rnd, stratify=y)\n",
    "\n",
    "class_weights = {'Does Not Need Treatment': 1, 'Needs Treatment': 5} \n",
    "sample_weights = compute_sample_weight(class_weights, train_y)\n",
    "# sample_weights = compute_sample_weight('balanced', train_y)\n",
    "\n",
    "\n",
    "forest_model = RandomForestClassifier(random_state=rnd, n_estimators=200)\n",
    "# forest_model = DecisionTreeClassifier()\n",
    "forest_model.fit(train_X, train_y, sample_weight=sample_weights)\n",
    "mht_preds = forest_model.predict(val_X)\n",
    "mht_probs = forest_model.predict_proba(val_X)[:, 1]  # Probabilities for class 1\n",
    "\n",
    "print(\"ROC AUC Score:\", roc_auc_score(val_y, mht_probs))\n",
    "print(\"F1 Score:\", f1_score(val_y, mht_preds, pos_label='Needs Treatment'))\n",
    "print(\"Confusion Matrix:\\n\", confusion_matrix(val_y, mht_preds))\n",
    "print(\"Precision:\", precision_score(val_y, mht_preds, pos_label='Needs Treatment'))\n",
    "print(\"Recall:\", recall_score(val_y, mht_preds, pos_label='Needs Treatment'))\n",
    "\n",
    "probs = forest_model.predict_proba(val_X)[:, 1]\n",
    "precision, recall, thresholds = precision_recall_curve(val_y, probs, pos_label='Needs Treatment')\n",
    "\n",
    "plt.plot(thresholds, precision[:-1], label='Precision')\n",
    "plt.plot(thresholds, recall[:-1], label='Recall')\n",
    "plt.xlabel('Threshold')\n",
    "plt.legend()\n",
    "plt.title('Precision-Recall Tradeoff')\n",
    "plt.show()\n",
    "\n",
    "plt.figure()\n",
    "\n",
    "ConfusionMatrixDisplay.from_estimator(forest_model, val_X, val_y, normalize='true')\n",
    "\n",
    "plt.show()"
   ]
  },
  {
   "cell_type": "code",
   "execution_count": null,
   "id": "42115410",
   "metadata": {},
   "outputs": [],
   "source": []
  }
 ],
 "metadata": {
  "kernelspec": {
   "display_name": ".venv",
   "language": "python",
   "name": "python3"
  },
  "language_info": {
   "codemirror_mode": {
    "name": "ipython",
    "version": 3
   },
   "file_extension": ".py",
   "mimetype": "text/x-python",
   "name": "python",
   "nbconvert_exporter": "python",
   "pygments_lexer": "ipython3",
   "version": "3.13.5"
  }
 },
 "nbformat": 4,
 "nbformat_minor": 5
}
