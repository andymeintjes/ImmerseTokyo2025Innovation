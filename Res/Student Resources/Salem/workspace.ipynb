{
 "cells": [
  {
   "cell_type": "code",
   "execution_count": 1,
   "id": "ee708b0d",
   "metadata": {},
   "outputs": [],
   "source": [
    "import numpy as np\n",
    "import pandas as pd\n",
    "import seaborn as sns\n",
    "from pathlib import Path\n",
    "import matplotlib.pyplot as plt\n",
    "import streamlit as st"
   ]
  },
  {
   "cell_type": "code",
   "execution_count": 2,
   "id": "0bd30cb7",
   "metadata": {},
   "outputs": [],
   "source": [
    "data_path = 'Global YouTube Statistics.csv'"
   ]
  },
  {
   "cell_type": "code",
   "execution_count": 282,
   "id": "f3d7afb8",
   "metadata": {},
   "outputs": [
    {
     "data": {
      "text/html": [
       "<div>\n",
       "<style scoped>\n",
       "    .dataframe tbody tr th:only-of-type {\n",
       "        vertical-align: middle;\n",
       "    }\n",
       "\n",
       "    .dataframe tbody tr th {\n",
       "        vertical-align: top;\n",
       "    }\n",
       "\n",
       "    .dataframe thead th {\n",
       "        text-align: right;\n",
       "    }\n",
       "</style>\n",
       "<table border=\"1\" class=\"dataframe\">\n",
       "  <thead>\n",
       "    <tr style=\"text-align: right;\">\n",
       "      <th></th>\n",
       "      <th>rank</th>\n",
       "      <th>Youtuber</th>\n",
       "      <th>subscribers</th>\n",
       "      <th>video views</th>\n",
       "      <th>category</th>\n",
       "      <th>Title</th>\n",
       "      <th>uploads</th>\n",
       "      <th>Country</th>\n",
       "      <th>Abbreviation</th>\n",
       "      <th>channel_type</th>\n",
       "      <th>...</th>\n",
       "      <th>subscribers_for_last_30_days</th>\n",
       "      <th>created_year</th>\n",
       "      <th>created_month</th>\n",
       "      <th>created_date</th>\n",
       "      <th>Gross tertiary education enrollment (%)</th>\n",
       "      <th>Population</th>\n",
       "      <th>Unemployment rate</th>\n",
       "      <th>Urban_population</th>\n",
       "      <th>Latitude</th>\n",
       "      <th>Longitude</th>\n",
       "    </tr>\n",
       "  </thead>\n",
       "  <tbody>\n",
       "    <tr>\n",
       "      <th>0</th>\n",
       "      <td>1</td>\n",
       "      <td>T-Series</td>\n",
       "      <td>245000000</td>\n",
       "      <td>2.280000e+11</td>\n",
       "      <td>Music</td>\n",
       "      <td>T-Series</td>\n",
       "      <td>20082</td>\n",
       "      <td>India</td>\n",
       "      <td>IN</td>\n",
       "      <td>Music</td>\n",
       "      <td>...</td>\n",
       "      <td>2000000.0</td>\n",
       "      <td>2006.0</td>\n",
       "      <td>Mar</td>\n",
       "      <td>13.0</td>\n",
       "      <td>28.1</td>\n",
       "      <td>1.366418e+09</td>\n",
       "      <td>5.36</td>\n",
       "      <td>471031528.0</td>\n",
       "      <td>20.593684</td>\n",
       "      <td>78.962880</td>\n",
       "    </tr>\n",
       "    <tr>\n",
       "      <th>1</th>\n",
       "      <td>3</td>\n",
       "      <td>MrBeast</td>\n",
       "      <td>166000000</td>\n",
       "      <td>2.836884e+10</td>\n",
       "      <td>Entertainment</td>\n",
       "      <td>MrBeast</td>\n",
       "      <td>741</td>\n",
       "      <td>United States</td>\n",
       "      <td>US</td>\n",
       "      <td>Entertainment</td>\n",
       "      <td>...</td>\n",
       "      <td>8000000.0</td>\n",
       "      <td>2012.0</td>\n",
       "      <td>Feb</td>\n",
       "      <td>20.0</td>\n",
       "      <td>88.2</td>\n",
       "      <td>3.282395e+08</td>\n",
       "      <td>14.70</td>\n",
       "      <td>270663028.0</td>\n",
       "      <td>37.090240</td>\n",
       "      <td>-95.712891</td>\n",
       "    </tr>\n",
       "    <tr>\n",
       "      <th>2</th>\n",
       "      <td>4</td>\n",
       "      <td>Cocomelon - Nursery Rhymes</td>\n",
       "      <td>162000000</td>\n",
       "      <td>1.640000e+11</td>\n",
       "      <td>Education</td>\n",
       "      <td>Cocomelon - Nursery Rhymes</td>\n",
       "      <td>966</td>\n",
       "      <td>United States</td>\n",
       "      <td>US</td>\n",
       "      <td>Education</td>\n",
       "      <td>...</td>\n",
       "      <td>1000000.0</td>\n",
       "      <td>2006.0</td>\n",
       "      <td>Sep</td>\n",
       "      <td>1.0</td>\n",
       "      <td>88.2</td>\n",
       "      <td>3.282395e+08</td>\n",
       "      <td>14.70</td>\n",
       "      <td>270663028.0</td>\n",
       "      <td>37.090240</td>\n",
       "      <td>-95.712891</td>\n",
       "    </tr>\n",
       "    <tr>\n",
       "      <th>3</th>\n",
       "      <td>5</td>\n",
       "      <td>SET India</td>\n",
       "      <td>159000000</td>\n",
       "      <td>1.480000e+11</td>\n",
       "      <td>Shows</td>\n",
       "      <td>SET India</td>\n",
       "      <td>116536</td>\n",
       "      <td>India</td>\n",
       "      <td>IN</td>\n",
       "      <td>Entertainment</td>\n",
       "      <td>...</td>\n",
       "      <td>1000000.0</td>\n",
       "      <td>2006.0</td>\n",
       "      <td>Sep</td>\n",
       "      <td>20.0</td>\n",
       "      <td>28.1</td>\n",
       "      <td>1.366418e+09</td>\n",
       "      <td>5.36</td>\n",
       "      <td>471031528.0</td>\n",
       "      <td>20.593684</td>\n",
       "      <td>78.962880</td>\n",
       "    </tr>\n",
       "    <tr>\n",
       "      <th>4</th>\n",
       "      <td>7</td>\n",
       "      <td>Kids Diana Show</td>\n",
       "      <td>112000000</td>\n",
       "      <td>9.324704e+10</td>\n",
       "      <td>People &amp; Blogs</td>\n",
       "      <td>Kids Diana Show</td>\n",
       "      <td>1111</td>\n",
       "      <td>United States</td>\n",
       "      <td>US</td>\n",
       "      <td>Entertainment</td>\n",
       "      <td>...</td>\n",
       "      <td>NaN</td>\n",
       "      <td>2015.0</td>\n",
       "      <td>May</td>\n",
       "      <td>12.0</td>\n",
       "      <td>88.2</td>\n",
       "      <td>3.282395e+08</td>\n",
       "      <td>14.70</td>\n",
       "      <td>270663028.0</td>\n",
       "      <td>37.090240</td>\n",
       "      <td>-95.712891</td>\n",
       "    </tr>\n",
       "    <tr>\n",
       "      <th>...</th>\n",
       "      <td>...</td>\n",
       "      <td>...</td>\n",
       "      <td>...</td>\n",
       "      <td>...</td>\n",
       "      <td>...</td>\n",
       "      <td>...</td>\n",
       "      <td>...</td>\n",
       "      <td>...</td>\n",
       "      <td>...</td>\n",
       "      <td>...</td>\n",
       "      <td>...</td>\n",
       "      <td>...</td>\n",
       "      <td>...</td>\n",
       "      <td>...</td>\n",
       "      <td>...</td>\n",
       "      <td>...</td>\n",
       "      <td>...</td>\n",
       "      <td>...</td>\n",
       "      <td>...</td>\n",
       "      <td>...</td>\n",
       "      <td>...</td>\n",
       "    </tr>\n",
       "    <tr>\n",
       "      <th>981</th>\n",
       "      <td>991</td>\n",
       "      <td>Natan por A</td>\n",
       "      <td>12300000</td>\n",
       "      <td>9.029610e+09</td>\n",
       "      <td>Sports</td>\n",
       "      <td>Natan por A</td>\n",
       "      <td>1200</td>\n",
       "      <td>Brazil</td>\n",
       "      <td>BR</td>\n",
       "      <td>Entertainment</td>\n",
       "      <td>...</td>\n",
       "      <td>700000.0</td>\n",
       "      <td>2017.0</td>\n",
       "      <td>Feb</td>\n",
       "      <td>12.0</td>\n",
       "      <td>51.3</td>\n",
       "      <td>2.125594e+08</td>\n",
       "      <td>12.08</td>\n",
       "      <td>183241641.0</td>\n",
       "      <td>-14.235004</td>\n",
       "      <td>-51.925280</td>\n",
       "    </tr>\n",
       "    <tr>\n",
       "      <th>982</th>\n",
       "      <td>992</td>\n",
       "      <td>Free Fire India Official</td>\n",
       "      <td>12300000</td>\n",
       "      <td>1.674410e+09</td>\n",
       "      <td>People &amp; Blogs</td>\n",
       "      <td>Free Fire India Official</td>\n",
       "      <td>1500</td>\n",
       "      <td>India</td>\n",
       "      <td>IN</td>\n",
       "      <td>Games</td>\n",
       "      <td>...</td>\n",
       "      <td>300000.0</td>\n",
       "      <td>2018.0</td>\n",
       "      <td>Sep</td>\n",
       "      <td>14.0</td>\n",
       "      <td>28.1</td>\n",
       "      <td>1.366418e+09</td>\n",
       "      <td>5.36</td>\n",
       "      <td>471031528.0</td>\n",
       "      <td>20.593684</td>\n",
       "      <td>78.962880</td>\n",
       "    </tr>\n",
       "    <tr>\n",
       "      <th>983</th>\n",
       "      <td>993</td>\n",
       "      <td>Panda</td>\n",
       "      <td>12300000</td>\n",
       "      <td>2.214684e+09</td>\n",
       "      <td>NaN</td>\n",
       "      <td>HybridPanda</td>\n",
       "      <td>2452</td>\n",
       "      <td>United Kingdom</td>\n",
       "      <td>GB</td>\n",
       "      <td>Games</td>\n",
       "      <td>...</td>\n",
       "      <td>1000.0</td>\n",
       "      <td>2006.0</td>\n",
       "      <td>Sep</td>\n",
       "      <td>11.0</td>\n",
       "      <td>60.0</td>\n",
       "      <td>6.683440e+07</td>\n",
       "      <td>3.85</td>\n",
       "      <td>55908316.0</td>\n",
       "      <td>55.378051</td>\n",
       "      <td>-3.435973</td>\n",
       "    </tr>\n",
       "    <tr>\n",
       "      <th>984</th>\n",
       "      <td>994</td>\n",
       "      <td>RobTopGames</td>\n",
       "      <td>12300000</td>\n",
       "      <td>3.741235e+08</td>\n",
       "      <td>Gaming</td>\n",
       "      <td>RobTopGames</td>\n",
       "      <td>39</td>\n",
       "      <td>Sweden</td>\n",
       "      <td>SE</td>\n",
       "      <td>Games</td>\n",
       "      <td>...</td>\n",
       "      <td>100000.0</td>\n",
       "      <td>2012.0</td>\n",
       "      <td>May</td>\n",
       "      <td>9.0</td>\n",
       "      <td>67.0</td>\n",
       "      <td>1.028545e+07</td>\n",
       "      <td>6.48</td>\n",
       "      <td>9021165.0</td>\n",
       "      <td>60.128161</td>\n",
       "      <td>18.643501</td>\n",
       "    </tr>\n",
       "    <tr>\n",
       "      <th>985</th>\n",
       "      <td>995</td>\n",
       "      <td>Make Joke Of</td>\n",
       "      <td>12300000</td>\n",
       "      <td>2.129774e+09</td>\n",
       "      <td>Comedy</td>\n",
       "      <td>Make Joke Of</td>\n",
       "      <td>62</td>\n",
       "      <td>India</td>\n",
       "      <td>IN</td>\n",
       "      <td>Comedy</td>\n",
       "      <td>...</td>\n",
       "      <td>100000.0</td>\n",
       "      <td>2017.0</td>\n",
       "      <td>Aug</td>\n",
       "      <td>1.0</td>\n",
       "      <td>28.1</td>\n",
       "      <td>1.366418e+09</td>\n",
       "      <td>5.36</td>\n",
       "      <td>471031528.0</td>\n",
       "      <td>20.593684</td>\n",
       "      <td>78.962880</td>\n",
       "    </tr>\n",
       "  </tbody>\n",
       "</table>\n",
       "<p>986 rows × 28 columns</p>\n",
       "</div>"
      ],
      "text/plain": [
       "     rank                    Youtuber  subscribers   video views  \\\n",
       "0       1                    T-Series    245000000  2.280000e+11   \n",
       "1       3                     MrBeast    166000000  2.836884e+10   \n",
       "2       4  Cocomelon - Nursery Rhymes    162000000  1.640000e+11   \n",
       "3       5                   SET India    159000000  1.480000e+11   \n",
       "4       7             Kids Diana Show    112000000  9.324704e+10   \n",
       "..    ...                         ...          ...           ...   \n",
       "981   991                 Natan por A     12300000  9.029610e+09   \n",
       "982   992    Free Fire India Official     12300000  1.674410e+09   \n",
       "983   993                       Panda     12300000  2.214684e+09   \n",
       "984   994                 RobTopGames     12300000  3.741235e+08   \n",
       "985   995                Make Joke Of     12300000  2.129774e+09   \n",
       "\n",
       "           category                       Title  uploads         Country  \\\n",
       "0             Music                    T-Series    20082           India   \n",
       "1     Entertainment                     MrBeast      741   United States   \n",
       "2         Education  Cocomelon - Nursery Rhymes      966   United States   \n",
       "3             Shows                   SET India   116536           India   \n",
       "4    People & Blogs             Kids Diana Show     1111   United States   \n",
       "..              ...                         ...      ...             ...   \n",
       "981          Sports                 Natan por A     1200          Brazil   \n",
       "982  People & Blogs    Free Fire India Official     1500           India   \n",
       "983             NaN                 HybridPanda     2452  United Kingdom   \n",
       "984          Gaming                 RobTopGames       39          Sweden   \n",
       "985          Comedy                Make Joke Of       62           India   \n",
       "\n",
       "    Abbreviation   channel_type  ...  subscribers_for_last_30_days  \\\n",
       "0             IN          Music  ...                     2000000.0   \n",
       "1             US  Entertainment  ...                     8000000.0   \n",
       "2             US      Education  ...                     1000000.0   \n",
       "3             IN  Entertainment  ...                     1000000.0   \n",
       "4             US  Entertainment  ...                           NaN   \n",
       "..           ...            ...  ...                           ...   \n",
       "981           BR  Entertainment  ...                      700000.0   \n",
       "982           IN          Games  ...                      300000.0   \n",
       "983           GB          Games  ...                        1000.0   \n",
       "984           SE          Games  ...                      100000.0   \n",
       "985           IN         Comedy  ...                      100000.0   \n",
       "\n",
       "     created_year  created_month  created_date  \\\n",
       "0          2006.0            Mar          13.0   \n",
       "1          2012.0            Feb          20.0   \n",
       "2          2006.0            Sep           1.0   \n",
       "3          2006.0            Sep          20.0   \n",
       "4          2015.0            May          12.0   \n",
       "..            ...            ...           ...   \n",
       "981        2017.0            Feb          12.0   \n",
       "982        2018.0            Sep          14.0   \n",
       "983        2006.0            Sep          11.0   \n",
       "984        2012.0            May           9.0   \n",
       "985        2017.0            Aug           1.0   \n",
       "\n",
       "     Gross tertiary education enrollment (%)    Population  Unemployment rate  \\\n",
       "0                                       28.1  1.366418e+09               5.36   \n",
       "1                                       88.2  3.282395e+08              14.70   \n",
       "2                                       88.2  3.282395e+08              14.70   \n",
       "3                                       28.1  1.366418e+09               5.36   \n",
       "4                                       88.2  3.282395e+08              14.70   \n",
       "..                                       ...           ...                ...   \n",
       "981                                     51.3  2.125594e+08              12.08   \n",
       "982                                     28.1  1.366418e+09               5.36   \n",
       "983                                     60.0  6.683440e+07               3.85   \n",
       "984                                     67.0  1.028545e+07               6.48   \n",
       "985                                     28.1  1.366418e+09               5.36   \n",
       "\n",
       "     Urban_population   Latitude  Longitude  \n",
       "0         471031528.0  20.593684  78.962880  \n",
       "1         270663028.0  37.090240 -95.712891  \n",
       "2         270663028.0  37.090240 -95.712891  \n",
       "3         471031528.0  20.593684  78.962880  \n",
       "4         270663028.0  37.090240 -95.712891  \n",
       "..                ...        ...        ...  \n",
       "981       183241641.0 -14.235004 -51.925280  \n",
       "982       471031528.0  20.593684  78.962880  \n",
       "983        55908316.0  55.378051  -3.435973  \n",
       "984         9021165.0  60.128161  18.643501  \n",
       "985       471031528.0  20.593684  78.962880  \n",
       "\n",
       "[986 rows x 28 columns]"
      ]
     },
     "execution_count": 282,
     "metadata": {},
     "output_type": "execute_result"
    }
   ],
   "source": [
    "df"
   ]
  },
  {
   "cell_type": "code",
   "execution_count": 281,
   "id": "e2bb6afb",
   "metadata": {},
   "outputs": [],
   "source": [
    "df = pd.read_csv(data_path, on_bad_lines='skip', encoding_errors='ignore')\n",
    "df = df[df['video views']>0].reset_index(drop=True)\n",
    "df = df[df['Country']!='Andorra'].reset_index(drop=True)"
   ]
  },
  {
   "cell_type": "code",
   "execution_count": 157,
   "id": "56dd4ca0",
   "metadata": {},
   "outputs": [],
   "source": [
    "countries = ['United States', 'Japan', 'United Arab Emirates']\n",
    "df_countries = df[df['Country'].isin(countries)]\n",
    "df_countries_views = df_countries[df_countries['video views']>0]"
   ]
  },
  {
   "cell_type": "code",
   "execution_count": 5,
   "id": "ffc7f877",
   "metadata": {},
   "outputs": [
    {
     "data": {
      "text/html": [
       "<div>\n",
       "<style scoped>\n",
       "    .dataframe tbody tr th:only-of-type {\n",
       "        vertical-align: middle;\n",
       "    }\n",
       "\n",
       "    .dataframe tbody tr th {\n",
       "        vertical-align: top;\n",
       "    }\n",
       "\n",
       "    .dataframe thead th {\n",
       "        text-align: right;\n",
       "    }\n",
       "</style>\n",
       "<table border=\"1\" class=\"dataframe\">\n",
       "  <thead>\n",
       "    <tr style=\"text-align: right;\">\n",
       "      <th></th>\n",
       "      <th>rank</th>\n",
       "      <th>Youtuber</th>\n",
       "      <th>subscribers</th>\n",
       "      <th>video views</th>\n",
       "      <th>category</th>\n",
       "      <th>Title</th>\n",
       "      <th>uploads</th>\n",
       "      <th>Country</th>\n",
       "      <th>Abbreviation</th>\n",
       "      <th>channel_type</th>\n",
       "      <th>...</th>\n",
       "      <th>subscribers_for_last_30_days</th>\n",
       "      <th>created_year</th>\n",
       "      <th>created_month</th>\n",
       "      <th>created_date</th>\n",
       "      <th>Gross tertiary education enrollment (%)</th>\n",
       "      <th>Population</th>\n",
       "      <th>Unemployment rate</th>\n",
       "      <th>Urban_population</th>\n",
       "      <th>Latitude</th>\n",
       "      <th>Longitude</th>\n",
       "    </tr>\n",
       "  </thead>\n",
       "  <tbody>\n",
       "    <tr>\n",
       "      <th>3</th>\n",
       "      <td>4</td>\n",
       "      <td>Cocomelon - Nursery Rhymes</td>\n",
       "      <td>162000000</td>\n",
       "      <td>1.640000e+11</td>\n",
       "      <td>Education</td>\n",
       "      <td>Cocomelon - Nursery Rhymes</td>\n",
       "      <td>966</td>\n",
       "      <td>United States</td>\n",
       "      <td>US</td>\n",
       "      <td>Education</td>\n",
       "      <td>...</td>\n",
       "      <td>1000000.0</td>\n",
       "      <td>2006.0</td>\n",
       "      <td>Sep</td>\n",
       "      <td>1.0</td>\n",
       "      <td>88.2</td>\n",
       "      <td>328239523.0</td>\n",
       "      <td>14.7</td>\n",
       "      <td>270663028.0</td>\n",
       "      <td>37.09024</td>\n",
       "      <td>-95.712891</td>\n",
       "    </tr>\n",
       "    <tr>\n",
       "      <th>6</th>\n",
       "      <td>7</td>\n",
       "      <td>Kids Diana Show</td>\n",
       "      <td>112000000</td>\n",
       "      <td>9.324704e+10</td>\n",
       "      <td>People &amp; Blogs</td>\n",
       "      <td>Kids Diana Show</td>\n",
       "      <td>1111</td>\n",
       "      <td>United States</td>\n",
       "      <td>US</td>\n",
       "      <td>Entertainment</td>\n",
       "      <td>...</td>\n",
       "      <td>NaN</td>\n",
       "      <td>2015.0</td>\n",
       "      <td>May</td>\n",
       "      <td>12.0</td>\n",
       "      <td>88.2</td>\n",
       "      <td>328239523.0</td>\n",
       "      <td>14.7</td>\n",
       "      <td>270663028.0</td>\n",
       "      <td>37.09024</td>\n",
       "      <td>-95.712891</td>\n",
       "    </tr>\n",
       "    <tr>\n",
       "      <th>11</th>\n",
       "      <td>12</td>\n",
       "      <td>WWE</td>\n",
       "      <td>96000000</td>\n",
       "      <td>7.742847e+10</td>\n",
       "      <td>Sports</td>\n",
       "      <td>WWE</td>\n",
       "      <td>70127</td>\n",
       "      <td>United States</td>\n",
       "      <td>US</td>\n",
       "      <td>Sports</td>\n",
       "      <td>...</td>\n",
       "      <td>600000.0</td>\n",
       "      <td>2007.0</td>\n",
       "      <td>May</td>\n",
       "      <td>11.0</td>\n",
       "      <td>88.2</td>\n",
       "      <td>328239523.0</td>\n",
       "      <td>14.7</td>\n",
       "      <td>270663028.0</td>\n",
       "      <td>37.09024</td>\n",
       "      <td>-95.712891</td>\n",
       "    </tr>\n",
       "    <tr>\n",
       "      <th>9</th>\n",
       "      <td>10</td>\n",
       "      <td>Vlad and Niki</td>\n",
       "      <td>98900000</td>\n",
       "      <td>7.718017e+10</td>\n",
       "      <td>Entertainment</td>\n",
       "      <td>Vlad and Niki</td>\n",
       "      <td>574</td>\n",
       "      <td>United States</td>\n",
       "      <td>US</td>\n",
       "      <td>Entertainment</td>\n",
       "      <td>...</td>\n",
       "      <td>600000.0</td>\n",
       "      <td>2018.0</td>\n",
       "      <td>Apr</td>\n",
       "      <td>23.0</td>\n",
       "      <td>88.2</td>\n",
       "      <td>328239523.0</td>\n",
       "      <td>14.7</td>\n",
       "      <td>270663028.0</td>\n",
       "      <td>37.09024</td>\n",
       "      <td>-95.712891</td>\n",
       "    </tr>\n",
       "    <tr>\n",
       "      <th>29</th>\n",
       "      <td>30</td>\n",
       "      <td>Movieclips</td>\n",
       "      <td>59500000</td>\n",
       "      <td>5.931647e+10</td>\n",
       "      <td>Film &amp; Animation</td>\n",
       "      <td>Movieclips</td>\n",
       "      <td>39113</td>\n",
       "      <td>United States</td>\n",
       "      <td>US</td>\n",
       "      <td>Film</td>\n",
       "      <td>...</td>\n",
       "      <td>100000.0</td>\n",
       "      <td>2006.0</td>\n",
       "      <td>Apr</td>\n",
       "      <td>28.0</td>\n",
       "      <td>88.2</td>\n",
       "      <td>328239523.0</td>\n",
       "      <td>14.7</td>\n",
       "      <td>270663028.0</td>\n",
       "      <td>37.09024</td>\n",
       "      <td>-95.712891</td>\n",
       "    </tr>\n",
       "    <tr>\n",
       "      <th>...</th>\n",
       "      <td>...</td>\n",
       "      <td>...</td>\n",
       "      <td>...</td>\n",
       "      <td>...</td>\n",
       "      <td>...</td>\n",
       "      <td>...</td>\n",
       "      <td>...</td>\n",
       "      <td>...</td>\n",
       "      <td>...</td>\n",
       "      <td>...</td>\n",
       "      <td>...</td>\n",
       "      <td>...</td>\n",
       "      <td>...</td>\n",
       "      <td>...</td>\n",
       "      <td>...</td>\n",
       "      <td>...</td>\n",
       "      <td>...</td>\n",
       "      <td>...</td>\n",
       "      <td>...</td>\n",
       "      <td>...</td>\n",
       "      <td>...</td>\n",
       "    </tr>\n",
       "    <tr>\n",
       "      <th>519</th>\n",
       "      <td>520</td>\n",
       "      <td>Apple</td>\n",
       "      <td>17300000</td>\n",
       "      <td>1.026425e+09</td>\n",
       "      <td>Science &amp; Technology</td>\n",
       "      <td>Apple</td>\n",
       "      <td>180</td>\n",
       "      <td>United States</td>\n",
       "      <td>US</td>\n",
       "      <td>Tech</td>\n",
       "      <td>...</td>\n",
       "      <td>100000.0</td>\n",
       "      <td>2005.0</td>\n",
       "      <td>Jun</td>\n",
       "      <td>22.0</td>\n",
       "      <td>88.2</td>\n",
       "      <td>328239523.0</td>\n",
       "      <td>14.7</td>\n",
       "      <td>270663028.0</td>\n",
       "      <td>37.09024</td>\n",
       "      <td>-95.712891</td>\n",
       "    </tr>\n",
       "    <tr>\n",
       "      <th>401</th>\n",
       "      <td>402</td>\n",
       "      <td>Vevo</td>\n",
       "      <td>20000000</td>\n",
       "      <td>5.597655e+08</td>\n",
       "      <td>Music</td>\n",
       "      <td>Vevo</td>\n",
       "      <td>1527</td>\n",
       "      <td>United States</td>\n",
       "      <td>US</td>\n",
       "      <td>Music</td>\n",
       "      <td>...</td>\n",
       "      <td>NaN</td>\n",
       "      <td>2006.0</td>\n",
       "      <td>Apr</td>\n",
       "      <td>14.0</td>\n",
       "      <td>88.2</td>\n",
       "      <td>328239523.0</td>\n",
       "      <td>14.7</td>\n",
       "      <td>270663028.0</td>\n",
       "      <td>37.09024</td>\n",
       "      <td>-95.712891</td>\n",
       "    </tr>\n",
       "    <tr>\n",
       "      <th>256</th>\n",
       "      <td>257</td>\n",
       "      <td>Super JoJo - Nursery Rhymes &amp; Kids Songs</td>\n",
       "      <td>24100000</td>\n",
       "      <td>3.297749e+08</td>\n",
       "      <td>NaN</td>\n",
       "      <td>Super JoJo - Nursery Rhymes &amp; Kids Songs</td>\n",
       "      <td>36</td>\n",
       "      <td>United States</td>\n",
       "      <td>US</td>\n",
       "      <td>Education</td>\n",
       "      <td>...</td>\n",
       "      <td>100000.0</td>\n",
       "      <td>2019.0</td>\n",
       "      <td>May</td>\n",
       "      <td>31.0</td>\n",
       "      <td>88.2</td>\n",
       "      <td>328239523.0</td>\n",
       "      <td>14.7</td>\n",
       "      <td>270663028.0</td>\n",
       "      <td>37.09024</td>\n",
       "      <td>-95.712891</td>\n",
       "    </tr>\n",
       "    <tr>\n",
       "      <th>950</th>\n",
       "      <td>951</td>\n",
       "      <td>Wolfoo Family</td>\n",
       "      <td>12500000</td>\n",
       "      <td>1.612540e+08</td>\n",
       "      <td>NaN</td>\n",
       "      <td>Wolfoo Family</td>\n",
       "      <td>61</td>\n",
       "      <td>United States</td>\n",
       "      <td>US</td>\n",
       "      <td>Film</td>\n",
       "      <td>...</td>\n",
       "      <td>NaN</td>\n",
       "      <td>2019.0</td>\n",
       "      <td>Oct</td>\n",
       "      <td>21.0</td>\n",
       "      <td>88.2</td>\n",
       "      <td>328239523.0</td>\n",
       "      <td>14.7</td>\n",
       "      <td>270663028.0</td>\n",
       "      <td>37.09024</td>\n",
       "      <td>-95.712891</td>\n",
       "    </tr>\n",
       "    <tr>\n",
       "      <th>286</th>\n",
       "      <td>287</td>\n",
       "      <td>Happy Lives</td>\n",
       "      <td>23200000</td>\n",
       "      <td>2.634000e+03</td>\n",
       "      <td>Science &amp; Technology</td>\n",
       "      <td>Happy Lives</td>\n",
       "      <td>1</td>\n",
       "      <td>United States</td>\n",
       "      <td>US</td>\n",
       "      <td>Entertainment</td>\n",
       "      <td>...</td>\n",
       "      <td>100000.0</td>\n",
       "      <td>2016.0</td>\n",
       "      <td>Mar</td>\n",
       "      <td>15.0</td>\n",
       "      <td>88.2</td>\n",
       "      <td>328239523.0</td>\n",
       "      <td>14.7</td>\n",
       "      <td>270663028.0</td>\n",
       "      <td>37.09024</td>\n",
       "      <td>-95.712891</td>\n",
       "    </tr>\n",
       "  </tbody>\n",
       "</table>\n",
       "<p>333 rows × 28 columns</p>\n",
       "</div>"
      ],
      "text/plain": [
       "     rank                                  Youtuber  subscribers  \\\n",
       "3       4                Cocomelon - Nursery Rhymes    162000000   \n",
       "6       7                           Kids Diana Show    112000000   \n",
       "11     12                                       WWE     96000000   \n",
       "9      10                             Vlad and Niki     98900000   \n",
       "29     30                                Movieclips     59500000   \n",
       "..    ...                                       ...          ...   \n",
       "519   520                                     Apple     17300000   \n",
       "401   402                                      Vevo     20000000   \n",
       "256   257  Super JoJo - Nursery Rhymes & Kids Songs     24100000   \n",
       "950   951                             Wolfoo Family     12500000   \n",
       "286   287                               Happy Lives     23200000   \n",
       "\n",
       "      video views              category  \\\n",
       "3    1.640000e+11             Education   \n",
       "6    9.324704e+10        People & Blogs   \n",
       "11   7.742847e+10                Sports   \n",
       "9    7.718017e+10         Entertainment   \n",
       "29   5.931647e+10      Film & Animation   \n",
       "..            ...                   ...   \n",
       "519  1.026425e+09  Science & Technology   \n",
       "401  5.597655e+08                 Music   \n",
       "256  3.297749e+08                   NaN   \n",
       "950  1.612540e+08                   NaN   \n",
       "286  2.634000e+03  Science & Technology   \n",
       "\n",
       "                                        Title  uploads        Country  \\\n",
       "3                  Cocomelon - Nursery Rhymes      966  United States   \n",
       "6                             Kids Diana Show     1111  United States   \n",
       "11                                        WWE    70127  United States   \n",
       "9                               Vlad and Niki      574  United States   \n",
       "29                                 Movieclips    39113  United States   \n",
       "..                                        ...      ...            ...   \n",
       "519                                     Apple      180  United States   \n",
       "401                                      Vevo     1527  United States   \n",
       "256  Super JoJo - Nursery Rhymes & Kids Songs       36  United States   \n",
       "950                             Wolfoo Family       61  United States   \n",
       "286                               Happy Lives        1  United States   \n",
       "\n",
       "    Abbreviation   channel_type  ...  subscribers_for_last_30_days  \\\n",
       "3             US      Education  ...                     1000000.0   \n",
       "6             US  Entertainment  ...                           NaN   \n",
       "11            US         Sports  ...                      600000.0   \n",
       "9             US  Entertainment  ...                      600000.0   \n",
       "29            US           Film  ...                      100000.0   \n",
       "..           ...            ...  ...                           ...   \n",
       "519           US           Tech  ...                      100000.0   \n",
       "401           US          Music  ...                           NaN   \n",
       "256           US      Education  ...                      100000.0   \n",
       "950           US           Film  ...                           NaN   \n",
       "286           US  Entertainment  ...                      100000.0   \n",
       "\n",
       "     created_year  created_month  created_date  \\\n",
       "3          2006.0            Sep           1.0   \n",
       "6          2015.0            May          12.0   \n",
       "11         2007.0            May          11.0   \n",
       "9          2018.0            Apr          23.0   \n",
       "29         2006.0            Apr          28.0   \n",
       "..            ...            ...           ...   \n",
       "519        2005.0            Jun          22.0   \n",
       "401        2006.0            Apr          14.0   \n",
       "256        2019.0            May          31.0   \n",
       "950        2019.0            Oct          21.0   \n",
       "286        2016.0            Mar          15.0   \n",
       "\n",
       "     Gross tertiary education enrollment (%)   Population  Unemployment rate  \\\n",
       "3                                       88.2  328239523.0               14.7   \n",
       "6                                       88.2  328239523.0               14.7   \n",
       "11                                      88.2  328239523.0               14.7   \n",
       "9                                       88.2  328239523.0               14.7   \n",
       "29                                      88.2  328239523.0               14.7   \n",
       "..                                       ...          ...                ...   \n",
       "519                                     88.2  328239523.0               14.7   \n",
       "401                                     88.2  328239523.0               14.7   \n",
       "256                                     88.2  328239523.0               14.7   \n",
       "950                                     88.2  328239523.0               14.7   \n",
       "286                                     88.2  328239523.0               14.7   \n",
       "\n",
       "     Urban_population  Latitude  Longitude  \n",
       "3         270663028.0  37.09024 -95.712891  \n",
       "6         270663028.0  37.09024 -95.712891  \n",
       "11        270663028.0  37.09024 -95.712891  \n",
       "9         270663028.0  37.09024 -95.712891  \n",
       "29        270663028.0  37.09024 -95.712891  \n",
       "..                ...       ...        ...  \n",
       "519       270663028.0  37.09024 -95.712891  \n",
       "401       270663028.0  37.09024 -95.712891  \n",
       "256       270663028.0  37.09024 -95.712891  \n",
       "950       270663028.0  37.09024 -95.712891  \n",
       "286       270663028.0  37.09024 -95.712891  \n",
       "\n",
       "[333 rows x 28 columns]"
      ]
     },
     "execution_count": 5,
     "metadata": {},
     "output_type": "execute_result"
    }
   ],
   "source": [
    "df_countries_views.sort_values(by='video views', ascending=False)"
   ]
  },
  {
   "cell_type": "code",
   "execution_count": 158,
   "id": "66512a31",
   "metadata": {},
   "outputs": [
    {
     "data": {
      "image/png": "[encoded data removed]",
      "text/plain": [
       "<Figure size 640x480 with 1 Axes>"
      ]
     },
     "metadata": {},
     "output_type": "display_data"
    }
   ],
   "source": [
    "sns.boxplot(data=df_countries_views.sort_values(by='video views', ascending=False), x='channel_type', y='video views')\n",
    "plt.xticks(rotation=45);"
   ]
  },
  {
   "cell_type": "code",
   "execution_count": 159,
   "id": "b23a26ef",
   "metadata": {},
   "outputs": [],
   "source": [
    "import numpy as np\n",
    "rng = np.random.default_rng()\n",
    "df['Longitude'] = df['Longitude'] + rng.integers(1)"
   ]
  },
  {
   "cell_type": "code",
   "execution_count": 160,
   "id": "9a77aa93",
   "metadata": {},
   "outputs": [
    {
     "data": {
      "text/plain": [
       "Index(['index', 'rank', 'Youtuber', 'subscribers', 'video views', 'category',\n",
       "       'Title', 'uploads', 'Country', 'Abbreviation', 'channel_type',\n",
       "       'video_views_rank', 'country_rank', 'channel_type_rank',\n",
       "       'video_views_for_the_last_30_days', 'lowest_monthly_earnings',\n",
       "       'highest_monthly_earnings', 'lowest_yearly_earnings',\n",
       "       'highest_yearly_earnings', 'subscribers_for_last_30_days',\n",
       "       'created_year', 'created_month', 'created_date',\n",
       "       'Gross tertiary education enrollment (%)', 'Population',\n",
       "       'Unemployment rate', 'Urban_population', 'Latitude', 'Longitude'],\n",
       "      dtype='object')"
      ]
     },
     "execution_count": 160,
     "metadata": {},
     "output_type": "execute_result"
    }
   ],
   "source": [
    "df_countries.columns"
   ]
  },
  {
   "cell_type": "code",
   "execution_count": 34,
   "id": "c060a131",
   "metadata": {},
   "outputs": [
    {
     "data": {
      "text/html": [
       "<div>\n",
       "<style scoped>\n",
       "    .dataframe tbody tr th:only-of-type {\n",
       "        vertical-align: middle;\n",
       "    }\n",
       "\n",
       "    .dataframe tbody tr th {\n",
       "        vertical-align: top;\n",
       "    }\n",
       "\n",
       "    .dataframe thead th {\n",
       "        text-align: right;\n",
       "    }\n",
       "</style>\n",
       "<table border=\"1\" class=\"dataframe\">\n",
       "  <thead>\n",
       "    <tr style=\"text-align: right;\">\n",
       "      <th></th>\n",
       "      <th>rank</th>\n",
       "      <th>Youtuber</th>\n",
       "      <th>subscribers</th>\n",
       "      <th>video views</th>\n",
       "      <th>category</th>\n",
       "      <th>Title</th>\n",
       "      <th>uploads</th>\n",
       "      <th>Country</th>\n",
       "      <th>Abbreviation</th>\n",
       "      <th>channel_type</th>\n",
       "      <th>...</th>\n",
       "      <th>subscribers_for_last_30_days</th>\n",
       "      <th>created_year</th>\n",
       "      <th>created_month</th>\n",
       "      <th>created_date</th>\n",
       "      <th>Gross tertiary education enrollment (%)</th>\n",
       "      <th>Population</th>\n",
       "      <th>Unemployment rate</th>\n",
       "      <th>Urban_population</th>\n",
       "      <th>Latitude</th>\n",
       "      <th>Longitude</th>\n",
       "    </tr>\n",
       "  </thead>\n",
       "  <tbody>\n",
       "    <tr>\n",
       "      <th>1</th>\n",
       "      <td>2</td>\n",
       "      <td>YouTube Movies</td>\n",
       "      <td>170000000</td>\n",
       "      <td>0.000000e+00</td>\n",
       "      <td>Film &amp; Animation</td>\n",
       "      <td>youtubemovies</td>\n",
       "      <td>1</td>\n",
       "      <td>United States</td>\n",
       "      <td>US</td>\n",
       "      <td>Games</td>\n",
       "      <td>...</td>\n",
       "      <td>NaN</td>\n",
       "      <td>2006.0</td>\n",
       "      <td>Mar</td>\n",
       "      <td>5.0</td>\n",
       "      <td>88.2</td>\n",
       "      <td>328239523.0</td>\n",
       "      <td>14.70</td>\n",
       "      <td>270663028.0</td>\n",
       "      <td>37.090240</td>\n",
       "      <td>-95.712891</td>\n",
       "    </tr>\n",
       "    <tr>\n",
       "      <th>2</th>\n",
       "      <td>3</td>\n",
       "      <td>MrBeast</td>\n",
       "      <td>166000000</td>\n",
       "      <td>2.836884e+10</td>\n",
       "      <td>Entertainment</td>\n",
       "      <td>MrBeast</td>\n",
       "      <td>741</td>\n",
       "      <td>United States</td>\n",
       "      <td>US</td>\n",
       "      <td>Entertainment</td>\n",
       "      <td>...</td>\n",
       "      <td>8000000.0</td>\n",
       "      <td>2012.0</td>\n",
       "      <td>Feb</td>\n",
       "      <td>20.0</td>\n",
       "      <td>88.2</td>\n",
       "      <td>328239523.0</td>\n",
       "      <td>14.70</td>\n",
       "      <td>270663028.0</td>\n",
       "      <td>37.090240</td>\n",
       "      <td>-95.712891</td>\n",
       "    </tr>\n",
       "    <tr>\n",
       "      <th>3</th>\n",
       "      <td>4</td>\n",
       "      <td>Cocomelon - Nursery Rhymes</td>\n",
       "      <td>162000000</td>\n",
       "      <td>1.640000e+11</td>\n",
       "      <td>Education</td>\n",
       "      <td>Cocomelon - Nursery Rhymes</td>\n",
       "      <td>966</td>\n",
       "      <td>United States</td>\n",
       "      <td>US</td>\n",
       "      <td>Education</td>\n",
       "      <td>...</td>\n",
       "      <td>1000000.0</td>\n",
       "      <td>2006.0</td>\n",
       "      <td>Sep</td>\n",
       "      <td>1.0</td>\n",
       "      <td>88.2</td>\n",
       "      <td>328239523.0</td>\n",
       "      <td>14.70</td>\n",
       "      <td>270663028.0</td>\n",
       "      <td>37.090240</td>\n",
       "      <td>-95.712891</td>\n",
       "    </tr>\n",
       "    <tr>\n",
       "      <th>6</th>\n",
       "      <td>7</td>\n",
       "      <td>Kids Diana Show</td>\n",
       "      <td>112000000</td>\n",
       "      <td>9.324704e+10</td>\n",
       "      <td>People &amp; Blogs</td>\n",
       "      <td>Kids Diana Show</td>\n",
       "      <td>1111</td>\n",
       "      <td>United States</td>\n",
       "      <td>US</td>\n",
       "      <td>Entertainment</td>\n",
       "      <td>...</td>\n",
       "      <td>NaN</td>\n",
       "      <td>2015.0</td>\n",
       "      <td>May</td>\n",
       "      <td>12.0</td>\n",
       "      <td>88.2</td>\n",
       "      <td>328239523.0</td>\n",
       "      <td>14.70</td>\n",
       "      <td>270663028.0</td>\n",
       "      <td>37.090240</td>\n",
       "      <td>-95.712891</td>\n",
       "    </tr>\n",
       "    <tr>\n",
       "      <th>7</th>\n",
       "      <td>8</td>\n",
       "      <td>PewDiePie</td>\n",
       "      <td>111000000</td>\n",
       "      <td>2.905804e+10</td>\n",
       "      <td>Gaming</td>\n",
       "      <td>PewDiePie</td>\n",
       "      <td>4716</td>\n",
       "      <td>Japan</td>\n",
       "      <td>JP</td>\n",
       "      <td>Entertainment</td>\n",
       "      <td>...</td>\n",
       "      <td>NaN</td>\n",
       "      <td>2010.0</td>\n",
       "      <td>Apr</td>\n",
       "      <td>29.0</td>\n",
       "      <td>63.2</td>\n",
       "      <td>126226568.0</td>\n",
       "      <td>2.29</td>\n",
       "      <td>115782416.0</td>\n",
       "      <td>36.204824</td>\n",
       "      <td>138.252924</td>\n",
       "    </tr>\n",
       "    <tr>\n",
       "      <th>...</th>\n",
       "      <td>...</td>\n",
       "      <td>...</td>\n",
       "      <td>...</td>\n",
       "      <td>...</td>\n",
       "      <td>...</td>\n",
       "      <td>...</td>\n",
       "      <td>...</td>\n",
       "      <td>...</td>\n",
       "      <td>...</td>\n",
       "      <td>...</td>\n",
       "      <td>...</td>\n",
       "      <td>...</td>\n",
       "      <td>...</td>\n",
       "      <td>...</td>\n",
       "      <td>...</td>\n",
       "      <td>...</td>\n",
       "      <td>...</td>\n",
       "      <td>...</td>\n",
       "      <td>...</td>\n",
       "      <td>...</td>\n",
       "      <td>...</td>\n",
       "    </tr>\n",
       "    <tr>\n",
       "      <th>973</th>\n",
       "      <td>974</td>\n",
       "      <td>LOUD</td>\n",
       "      <td>12400000</td>\n",
       "      <td>2.394143e+09</td>\n",
       "      <td>Gaming</td>\n",
       "      <td>WatchLOUD</td>\n",
       "      <td>690</td>\n",
       "      <td>United States</td>\n",
       "      <td>US</td>\n",
       "      <td>Entertainment</td>\n",
       "      <td>...</td>\n",
       "      <td>NaN</td>\n",
       "      <td>2006.0</td>\n",
       "      <td>Jan</td>\n",
       "      <td>4.0</td>\n",
       "      <td>88.2</td>\n",
       "      <td>328239523.0</td>\n",
       "      <td>14.70</td>\n",
       "      <td>270663028.0</td>\n",
       "      <td>37.090240</td>\n",
       "      <td>-95.712891</td>\n",
       "    </tr>\n",
       "    <tr>\n",
       "      <th>983</th>\n",
       "      <td>984</td>\n",
       "      <td>MoniLina</td>\n",
       "      <td>12400000</td>\n",
       "      <td>1.608681e+10</td>\n",
       "      <td>Comedy</td>\n",
       "      <td>MoniLinaFamily</td>\n",
       "      <td>0</td>\n",
       "      <td>United States</td>\n",
       "      <td>US</td>\n",
       "      <td>People</td>\n",
       "      <td>...</td>\n",
       "      <td>100.0</td>\n",
       "      <td>2016.0</td>\n",
       "      <td>May</td>\n",
       "      <td>10.0</td>\n",
       "      <td>88.2</td>\n",
       "      <td>328239523.0</td>\n",
       "      <td>14.70</td>\n",
       "      <td>270663028.0</td>\n",
       "      <td>37.090240</td>\n",
       "      <td>-95.712891</td>\n",
       "    </tr>\n",
       "    <tr>\n",
       "      <th>987</th>\n",
       "      <td>988</td>\n",
       "      <td>Avril Lavigne</td>\n",
       "      <td>12400000</td>\n",
       "      <td>6.202090e+09</td>\n",
       "      <td>Music</td>\n",
       "      <td>Avril Lavigne</td>\n",
       "      <td>205</td>\n",
       "      <td>United States</td>\n",
       "      <td>US</td>\n",
       "      <td>Music</td>\n",
       "      <td>...</td>\n",
       "      <td>NaN</td>\n",
       "      <td>2005.0</td>\n",
       "      <td>Oct</td>\n",
       "      <td>8.0</td>\n",
       "      <td>88.2</td>\n",
       "      <td>328239523.0</td>\n",
       "      <td>14.70</td>\n",
       "      <td>270663028.0</td>\n",
       "      <td>37.090240</td>\n",
       "      <td>-95.712891</td>\n",
       "    </tr>\n",
       "    <tr>\n",
       "      <th>988</th>\n",
       "      <td>989</td>\n",
       "      <td>Caylus</td>\n",
       "      <td>12400000</td>\n",
       "      <td>4.779140e+09</td>\n",
       "      <td>Education</td>\n",
       "      <td>Caylus</td>\n",
       "      <td>1340</td>\n",
       "      <td>United States</td>\n",
       "      <td>US</td>\n",
       "      <td>Games</td>\n",
       "      <td>...</td>\n",
       "      <td>400000.0</td>\n",
       "      <td>2016.0</td>\n",
       "      <td>Apr</td>\n",
       "      <td>6.0</td>\n",
       "      <td>88.2</td>\n",
       "      <td>328239523.0</td>\n",
       "      <td>14.70</td>\n",
       "      <td>270663028.0</td>\n",
       "      <td>37.090240</td>\n",
       "      <td>-95.712891</td>\n",
       "    </tr>\n",
       "    <tr>\n",
       "      <th>989</th>\n",
       "      <td>990</td>\n",
       "      <td>Migos ATL</td>\n",
       "      <td>12400000</td>\n",
       "      <td>6.993406e+09</td>\n",
       "      <td>Music</td>\n",
       "      <td>Migos ATL</td>\n",
       "      <td>99</td>\n",
       "      <td>United States</td>\n",
       "      <td>US</td>\n",
       "      <td>Entertainment</td>\n",
       "      <td>...</td>\n",
       "      <td>100000.0</td>\n",
       "      <td>2012.0</td>\n",
       "      <td>Jan</td>\n",
       "      <td>17.0</td>\n",
       "      <td>88.2</td>\n",
       "      <td>328239523.0</td>\n",
       "      <td>14.70</td>\n",
       "      <td>270663028.0</td>\n",
       "      <td>37.090240</td>\n",
       "      <td>-95.712891</td>\n",
       "    </tr>\n",
       "  </tbody>\n",
       "</table>\n",
       "<p>325 rows × 28 columns</p>\n",
       "</div>"
      ],
      "text/plain": [
       "     rank                    Youtuber  subscribers   video views  \\\n",
       "1       2              YouTube Movies    170000000  0.000000e+00   \n",
       "2       3                     MrBeast    166000000  2.836884e+10   \n",
       "3       4  Cocomelon - Nursery Rhymes    162000000  1.640000e+11   \n",
       "6       7             Kids Diana Show    112000000  9.324704e+10   \n",
       "7       8                   PewDiePie    111000000  2.905804e+10   \n",
       "..    ...                         ...          ...           ...   \n",
       "973   974                        LOUD     12400000  2.394143e+09   \n",
       "983   984                    MoniLina     12400000  1.608681e+10   \n",
       "987   988               Avril Lavigne     12400000  6.202090e+09   \n",
       "988   989                      Caylus     12400000  4.779140e+09   \n",
       "989   990                   Migos ATL     12400000  6.993406e+09   \n",
       "\n",
       "             category                       Title  uploads        Country  \\\n",
       "1    Film & Animation               youtubemovies        1  United States   \n",
       "2       Entertainment                     MrBeast      741  United States   \n",
       "3           Education  Cocomelon - Nursery Rhymes      966  United States   \n",
       "6      People & Blogs             Kids Diana Show     1111  United States   \n",
       "7              Gaming                   PewDiePie     4716          Japan   \n",
       "..                ...                         ...      ...            ...   \n",
       "973            Gaming                   WatchLOUD      690  United States   \n",
       "983            Comedy              MoniLinaFamily        0  United States   \n",
       "987             Music               Avril Lavigne      205  United States   \n",
       "988         Education                      Caylus     1340  United States   \n",
       "989             Music                   Migos ATL       99  United States   \n",
       "\n",
       "    Abbreviation   channel_type  ...  subscribers_for_last_30_days  \\\n",
       "1             US          Games  ...                           NaN   \n",
       "2             US  Entertainment  ...                     8000000.0   \n",
       "3             US      Education  ...                     1000000.0   \n",
       "6             US  Entertainment  ...                           NaN   \n",
       "7             JP  Entertainment  ...                           NaN   \n",
       "..           ...            ...  ...                           ...   \n",
       "973           US  Entertainment  ...                           NaN   \n",
       "983           US         People  ...                         100.0   \n",
       "987           US          Music  ...                           NaN   \n",
       "988           US          Games  ...                      400000.0   \n",
       "989           US  Entertainment  ...                      100000.0   \n",
       "\n",
       "     created_year  created_month  created_date  \\\n",
       "1          2006.0            Mar           5.0   \n",
       "2          2012.0            Feb          20.0   \n",
       "3          2006.0            Sep           1.0   \n",
       "6          2015.0            May          12.0   \n",
       "7          2010.0            Apr          29.0   \n",
       "..            ...            ...           ...   \n",
       "973        2006.0            Jan           4.0   \n",
       "983        2016.0            May          10.0   \n",
       "987        2005.0            Oct           8.0   \n",
       "988        2016.0            Apr           6.0   \n",
       "989        2012.0            Jan          17.0   \n",
       "\n",
       "     Gross tertiary education enrollment (%)   Population  Unemployment rate  \\\n",
       "1                                       88.2  328239523.0              14.70   \n",
       "2                                       88.2  328239523.0              14.70   \n",
       "3                                       88.2  328239523.0              14.70   \n",
       "6                                       88.2  328239523.0              14.70   \n",
       "7                                       63.2  126226568.0               2.29   \n",
       "..                                       ...          ...                ...   \n",
       "973                                     88.2  328239523.0              14.70   \n",
       "983                                     88.2  328239523.0              14.70   \n",
       "987                                     88.2  328239523.0              14.70   \n",
       "988                                     88.2  328239523.0              14.70   \n",
       "989                                     88.2  328239523.0              14.70   \n",
       "\n",
       "     Urban_population   Latitude   Longitude  \n",
       "1         270663028.0  37.090240  -95.712891  \n",
       "2         270663028.0  37.090240  -95.712891  \n",
       "3         270663028.0  37.090240  -95.712891  \n",
       "6         270663028.0  37.090240  -95.712891  \n",
       "7         115782416.0  36.204824  138.252924  \n",
       "..                ...        ...         ...  \n",
       "973       270663028.0  37.090240  -95.712891  \n",
       "983       270663028.0  37.090240  -95.712891  \n",
       "987       270663028.0  37.090240  -95.712891  \n",
       "988       270663028.0  37.090240  -95.712891  \n",
       "989       270663028.0  37.090240  -95.712891  \n",
       "\n",
       "[325 rows x 28 columns]"
      ]
     },
     "execution_count": 34,
     "metadata": {},
     "output_type": "execute_result"
    }
   ],
   "source": [
    "df_countries\n"
   ]
  },
  {
   "cell_type": "code",
   "execution_count": 49,
   "id": "4aa630d8",
   "metadata": {},
   "outputs": [
    {
     "data": {
      "text/plain": [
       "rank                                                      2\n",
       "Youtuber                                     YouTube Movies\n",
       "subscribers                                       170000000\n",
       "video views                                             0.0\n",
       "category                                   Film & Animation\n",
       "Title                                         youtubemovies\n",
       "uploads                                                   1\n",
       "Country                                       United States\n",
       "Abbreviation                                             US\n",
       "channel_type                                          Games\n",
       "video_views_rank                                  4055159.0\n",
       "country_rank                                         7670.0\n",
       "channel_type_rank                                    7423.0\n",
       "video_views_for_the_last_30_days                       12.0\n",
       "lowest_monthly_earnings                                 0.0\n",
       "highest_monthly_earnings                               0.05\n",
       "lowest_yearly_earnings                                 0.04\n",
       "highest_yearly_earnings                                0.58\n",
       "subscribers_for_last_30_days                            NaN\n",
       "created_year                                         2006.0\n",
       "created_month                                           Mar\n",
       "created_date                                            5.0\n",
       "Gross tertiary education enrollment (%)                88.2\n",
       "Population                                      328239523.0\n",
       "Unemployment rate                                      14.7\n",
       "Urban_population                                270663028.0\n",
       "Latitude                                           37.09024\n",
       "Longitude                                        -95.712891\n",
       "Name: 1, dtype: object"
      ]
     },
     "execution_count": 49,
     "metadata": {},
     "output_type": "execute_result"
    }
   ],
   "source": [
    "df_countries[df_countries['Country'] == 'United States'].iloc[0]"
   ]
  },
  {
   "cell_type": "code",
   "execution_count": 125,
   "id": "c401dd62",
   "metadata": {},
   "outputs": [],
   "source": [
    "country_totals = df_countries.pivot_table(\n",
    "     values=[\"video views\", \"subscribers\"], index=\"Country\",\n",
    "     aggfunc=\"sum\"\n",
    " )\n",
    "country_totals['Longitude'] = np.zeros(3,)\n",
    "country_totals['Latitude'] = np.zeros(3,)\n",
    "country_totals['views_to_pop'] = np.zeros(3,)\n",
    "\n",
    "for x in countries:\n",
    "    country_totals.loc[x, 'Longitude'] = df_countries[df_countries['Country'] == x]['Longitude'].iloc[0]\n",
    "    country_totals.loc[x, 'Latitude'] = df_countries[df_countries['Country'] == x]['Latitude'].iloc[0]\n",
    "    country_totals.loc[x, 'views_to_pop'] = country_totals.loc[x, 'subscribers'] / df_countries[df_countries['Country'] == x]['Population'].iloc[0]\n",
    "\n"
   ]
  },
  {
   "cell_type": "code",
   "execution_count": 117,
   "id": "62ac06b2",
   "metadata": {},
   "outputs": [
    {
     "data": {
      "text/html": [
       "<div>\n",
       "<style scoped>\n",
       "    .dataframe tbody tr th:only-of-type {\n",
       "        vertical-align: middle;\n",
       "    }\n",
       "\n",
       "    .dataframe tbody tr th {\n",
       "        vertical-align: top;\n",
       "    }\n",
       "\n",
       "    .dataframe thead th {\n",
       "        text-align: right;\n",
       "    }\n",
       "</style>\n",
       "<table border=\"1\" class=\"dataframe\">\n",
       "  <thead>\n",
       "    <tr style=\"text-align: right;\">\n",
       "      <th></th>\n",
       "      <th>subscribers</th>\n",
       "      <th>video views</th>\n",
       "      <th>Longitude</th>\n",
       "      <th>Latitude</th>\n",
       "      <th>views_to_pop</th>\n",
       "      <th>views to pop</th>\n",
       "    </tr>\n",
       "    <tr>\n",
       "      <th>Country</th>\n",
       "      <th></th>\n",
       "      <th></th>\n",
       "      <th></th>\n",
       "      <th></th>\n",
       "      <th></th>\n",
       "      <th></th>\n",
       "    </tr>\n",
       "  </thead>\n",
       "  <tbody>\n",
       "    <tr>\n",
       "      <th>Japan</th>\n",
       "      <td>189100000</td>\n",
       "      <td>8.568202e+10</td>\n",
       "      <td>138.252924</td>\n",
       "      <td>36.204824</td>\n",
       "      <td>0.0</td>\n",
       "      <td>1.498100</td>\n",
       "    </tr>\n",
       "    <tr>\n",
       "      <th>United Arab Emirates</th>\n",
       "      <td>148200000</td>\n",
       "      <td>7.532061e+10</td>\n",
       "      <td>53.847818</td>\n",
       "      <td>23.424076</td>\n",
       "      <td>0.0</td>\n",
       "      <td>15.168063</td>\n",
       "    </tr>\n",
       "    <tr>\n",
       "      <th>United States</th>\n",
       "      <td>7329500000</td>\n",
       "      <td>3.690292e+12</td>\n",
       "      <td>-95.712891</td>\n",
       "      <td>37.090240</td>\n",
       "      <td>0.0</td>\n",
       "      <td>22.329730</td>\n",
       "    </tr>\n",
       "  </tbody>\n",
       "</table>\n",
       "</div>"
      ],
      "text/plain": [
       "                      subscribers   video views   Longitude   Latitude  \\\n",
       "Country                                                                  \n",
       "Japan                   189100000  8.568202e+10  138.252924  36.204824   \n",
       "United Arab Emirates    148200000  7.532061e+10   53.847818  23.424076   \n",
       "United States          7329500000  3.690292e+12  -95.712891  37.090240   \n",
       "\n",
       "                      views_to_pop  views to pop  \n",
       "Country                                           \n",
       "Japan                          0.0      1.498100  \n",
       "United Arab Emirates           0.0     15.168063  \n",
       "United States                  0.0     22.329730  "
      ]
     },
     "execution_count": 117,
     "metadata": {},
     "output_type": "execute_result"
    }
   ],
   "source": [
    "country_totals"
   ]
  },
  {
   "cell_type": "code",
   "execution_count": 161,
   "id": "63999dfa",
   "metadata": {},
   "outputs": [
    {
     "data": {
      "application/vnd.plotly.v1+json": {
       "config": {
        "plotlyServerURL": "https://plot.ly"
       },
       "data": [
        {
         "geo": "geo",
         "hovertemplate": "views_to_pop=%{marker.size}<br>Latitude=%{lat}<br>Longitude=%{lon}<br>subscribers=%{marker.color}<extra></extra>",
         "lat": {
          "bdata": "zLc+rDcaQkC8BKc+kGw3QEFl/PuMi0JA",
          "dtype": "f8"
         },
         "legendgroup": "",
         "lon": {
          "bdata": "9IsS9BdIYUDlettMhexKQDenkgGg7VfA",
          "dtype": "f8"
         },
         "marker": {
          "color": [
           189100000,
           148200000,
           7329500000
          ],
          "coloraxis": "coloraxis",
          "size": {
           "bdata": "i/vdhjf49z9pXINcDFYuQJgFUjNpVDZA",
           "dtype": "f8"
          },
          "sizemode": "area",
          "sizeref": 0.05582432557946412,
          "symbol": "circle"
         },
         "mode": "markers",
         "name": "",
         "showlegend": false,
         "type": "scattergeo"
        }
       ],
       "layout": {
        "coloraxis": {
         "colorbar": {
          "title": {
           "text": "subscribers"
          }
         },
         "colorscale": [
          [
           0,
           "#440154"
          ],
          [
           0.1111111111111111,
           "#482878"
          ],
          [
           0.2222222222222222,
           "#3e4989"
          ],
          [
           0.3333333333333333,
           "#31688e"
          ],
          [
           0.4444444444444444,
           "#26828e"
          ],
          [
           0.5555555555555556,
           "#1f9e89"
          ],
          [
           0.6666666666666666,
           "#35b779"
          ],
          [
           0.7777777777777778,
           "#6ece58"
          ],
          [
           0.8888888888888888,
           "#b5de2b"
          ],
          [
           1,
           "#fde725"
          ]
         ]
        },
        "geo": {
         "center": {},
         "domain": {
          "x": [
           0,
           1
          ],
          "y": [
           0,
           1
          ]
         },
         "projection": {
          "type": "equirectangular"
         }
        },
        "legend": {
         "itemsizing": "constant",
         "tracegroupgap": 0
        },
        "margin": {
         "t": 60
        },
        "template": {
         "data": {
          "candlestick": [
           {
            "decreasing": {
             "line": {
              "color": "#000033"
             }
            },
            "increasing": {
             "line": {
              "color": "#000032"
             }
            },
            "type": "candlestick"
           }
          ],
          "contour": [
           {
            "colorscale": [
             [
              0,
              "#000011"
             ],
             [
              0.1111111111111111,
              "#000012"
             ],
             [
              0.2222222222222222,
              "#000013"
             ],
             [
              0.3333333333333333,
              "#000014"
             ],
             [
              0.4444444444444444,
              "#000015"
             ],
             [
              0.5555555555555556,
              "#000016"
             ],
             [
              0.6666666666666666,
              "#000017"
             ],
             [
              0.7777777777777778,
              "#000018"
             ],
             [
              0.8888888888888888,
              "#000019"
             ],
             [
              1,
              "#000020"
             ]
            ],
            "type": "contour"
           }
          ],
          "contourcarpet": [
           {
            "colorscale": [
             [
              0,
              "#000011"
             ],
             [
              0.1111111111111111,
              "#000012"
             ],
             [
              0.2222222222222222,
              "#000013"
             ],
             [
              0.3333333333333333,
              "#000014"
             ],
             [
              0.4444444444444444,
              "#000015"
             ],
             [
              0.5555555555555556,
              "#000016"
             ],
             [
              0.6666666666666666,
              "#000017"
             ],
             [
              0.7777777777777778,
              "#000018"
             ],
             [
              0.8888888888888888,
              "#000019"
             ],
             [
              1,
              "#000020"
             ]
            ],
            "type": "contourcarpet"
           }
          ],
          "heatmap": [
           {
            "colorscale": [
             [
              0,
              "#000011"
             ],
             [
              0.1111111111111111,
              "#000012"
             ],
             [
              0.2222222222222222,
              "#000013"
             ],
             [
              0.3333333333333333,
              "#000014"
             ],
             [
              0.4444444444444444,
              "#000015"
             ],
             [
              0.5555555555555556,
              "#000016"
             ],
             [
              0.6666666666666666,
              "#000017"
             ],
             [
              0.7777777777777778,
              "#000018"
             ],
             [
              0.8888888888888888,
              "#000019"
             ],
             [
              1,
              "#000020"
             ]
            ],
            "type": "heatmap"
           }
          ],
          "histogram2d": [
           {
            "colorscale": [
             [
              0,
              "#000011"
             ],
             [
              0.1111111111111111,
              "#000012"
             ],
             [
              0.2222222222222222,
              "#000013"
             ],
             [
              0.3333333333333333,
              "#000014"
             ],
             [
              0.4444444444444444,
              "#000015"
             ],
             [
              0.5555555555555556,
              "#000016"
             ],
             [
              0.6666666666666666,
              "#000017"
             ],
             [
              0.7777777777777778,
              "#000018"
             ],
             [
              0.8888888888888888,
              "#000019"
             ],
             [
              1,
              "#000020"
             ]
            ],
            "type": "histogram2d"
           }
          ],
          "icicle": [
           {
            "textfont": {
             "color": "white"
            },
            "type": "icicle"
           }
          ],
          "sankey": [
           {
            "textfont": {
             "color": "#000036"
            },
            "type": "sankey"
           }
          ],
          "scatter": [
           {
            "marker": {
             "line": {
              "width": 0
             }
            },
            "type": "scatter"
           }
          ],
          "table": [
           {
            "cells": {
             "fill": {
              "color": "#000038"
             },
             "font": {
              "color": "#000037"
             },
             "line": {
              "color": "#000039"
             }
            },
            "header": {
             "fill": {
              "color": "#000040"
             },
             "font": {
              "color": "#000036"
             },
             "line": {
              "color": "#000039"
             }
            },
            "type": "table"
           }
          ],
          "waterfall": [
           {
            "connector": {
             "line": {
              "color": "#000036",
              "width": 2
             }
            },
            "decreasing": {
             "marker": {
              "color": "#000033"
             }
            },
            "increasing": {
             "marker": {
              "color": "#000032"
             }
            },
            "totals": {
             "marker": {
              "color": "#000034"
             }
            },
            "type": "waterfall"
           }
          ]
         },
         "layout": {
          "coloraxis": {
           "colorscale": [
            [
             0,
             "#000011"
            ],
            [
             0.1111111111111111,
             "#000012"
            ],
            [
             0.2222222222222222,
             "#000013"
            ],
            [
             0.3333333333333333,
             "#000014"
            ],
            [
             0.4444444444444444,
             "#000015"
            ],
            [
             0.5555555555555556,
             "#000016"
            ],
            [
             0.6666666666666666,
             "#000017"
            ],
            [
             0.7777777777777778,
             "#000018"
            ],
            [
             0.8888888888888888,
             "#000019"
            ],
            [
             1,
             "#000020"
            ]
           ]
          },
          "colorscale": {
           "diverging": [
            [
             0,
             "#000021"
            ],
            [
             0.1,
             "#000022"
            ],
            [
             0.2,
             "#000023"
            ],
            [
             0.3,
             "#000024"
            ],
            [
             0.4,
             "#000025"
            ],
            [
             0.5,
             "#000026"
            ],
            [
             0.6,
             "#000027"
            ],
            [
             0.7,
             "#000028"
            ],
            [
             0.8,
             "#000029"
            ],
            [
             0.9,
             "#000030"
            ],
            [
             1,
             "#000031"
            ]
           ],
           "sequential": [
            [
             0,
             "#000011"
            ],
            [
             0.1111111111111111,
             "#000012"
            ],
            [
             0.2222222222222222,
             "#000013"
            ],
            [
             0.3333333333333333,
             "#000014"
            ],
            [
             0.4444444444444444,
             "#000015"
            ],
            [
             0.5555555555555556,
             "#000016"
            ],
            [
             0.6666666666666666,
             "#000017"
            ],
            [
             0.7777777777777778,
             "#000018"
            ],
            [
             0.8888888888888888,
             "#000019"
            ],
            [
             1,
             "#000020"
            ]
           ],
           "sequentialminus": [
            [
             0,
             "#000011"
            ],
            [
             0.1111111111111111,
             "#000012"
            ],
            [
             0.2222222222222222,
             "#000013"
            ],
            [
             0.3333333333333333,
             "#000014"
            ],
            [
             0.4444444444444444,
             "#000015"
            ],
            [
             0.5555555555555556,
             "#000016"
            ],
            [
             0.6666666666666666,
             "#000017"
            ],
            [
             0.7777777777777778,
             "#000018"
            ],
            [
             0.8888888888888888,
             "#000019"
            ],
            [
             1,
             "#000020"
            ]
           ]
          },
          "colorway": [
           "#000001",
           "#000002",
           "#000003",
           "#000004",
           "#000005",
           "#000006",
           "#000007",
           "#000008",
           "#000009",
           "#000010"
          ]
         }
        }
       }
      }
     },
     "metadata": {},
     "output_type": "display_data"
    }
   ],
   "source": [
    "import plotly.express as px\n",
    "# df = px.data.gapminder().query(\"year==2007\")\n",
    "\n",
    "fig = px.scatter_geo(country_totals, \n",
    "                    lon='Longitude', \n",
    "                    lat='Latitude', \n",
    "                    size=\"views_to_pop\", \n",
    "                    color='subscribers',\n",
    "                    projection=\"equirectangular\", \n",
    "                    # scope='usa',\n",
    "                    color_continuous_scale=px.colors.sequential.Viridis)\n",
    "fig.show()"
   ]
  },
  {
   "cell_type": "code",
   "execution_count": 163,
   "id": "1d5d8a02",
   "metadata": {},
   "outputs": [],
   "source": [
    "\n",
    "df_usa = df[df['Country'] == 'United States']"
   ]
  },
  {
   "cell_type": "code",
   "execution_count": 283,
   "id": "40ba8794",
   "metadata": {},
   "outputs": [
    {
     "data": {
      "text/html": [
       "<div>\n",
       "<style scoped>\n",
       "    .dataframe tbody tr th:only-of-type {\n",
       "        vertical-align: middle;\n",
       "    }\n",
       "\n",
       "    .dataframe tbody tr th {\n",
       "        vertical-align: top;\n",
       "    }\n",
       "\n",
       "    .dataframe thead th {\n",
       "        text-align: right;\n",
       "    }\n",
       "</style>\n",
       "<table border=\"1\" class=\"dataframe\">\n",
       "  <thead>\n",
       "    <tr style=\"text-align: right;\">\n",
       "      <th></th>\n",
       "      <th>index</th>\n",
       "      <th>rank</th>\n",
       "      <th>Youtuber</th>\n",
       "      <th>subscribers</th>\n",
       "      <th>video views</th>\n",
       "      <th>category</th>\n",
       "      <th>Title</th>\n",
       "      <th>uploads</th>\n",
       "      <th>Country</th>\n",
       "      <th>Abbreviation</th>\n",
       "      <th>...</th>\n",
       "      <th>created_month</th>\n",
       "      <th>created_date</th>\n",
       "      <th>Gross tertiary education enrollment (%)</th>\n",
       "      <th>Population</th>\n",
       "      <th>Unemployment rate</th>\n",
       "      <th>Urban_population</th>\n",
       "      <th>Latitude</th>\n",
       "      <th>Longitude</th>\n",
       "      <th>lat_jittered</th>\n",
       "      <th>lon_jittered</th>\n",
       "    </tr>\n",
       "  </thead>\n",
       "  <tbody>\n",
       "    <tr>\n",
       "      <th>1</th>\n",
       "      <td>2</td>\n",
       "      <td>3</td>\n",
       "      <td>MrBeast</td>\n",
       "      <td>166000000</td>\n",
       "      <td>2.836884e+10</td>\n",
       "      <td>Entertainment</td>\n",
       "      <td>MrBeast</td>\n",
       "      <td>741</td>\n",
       "      <td>United States</td>\n",
       "      <td>US</td>\n",
       "      <td>...</td>\n",
       "      <td>Feb</td>\n",
       "      <td>20.0</td>\n",
       "      <td>88.2</td>\n",
       "      <td>328239523.0</td>\n",
       "      <td>14.7</td>\n",
       "      <td>270663028.0</td>\n",
       "      <td>37.09024</td>\n",
       "      <td>-95.712891</td>\n",
       "      <td>31.747038</td>\n",
       "      <td>-86.220379</td>\n",
       "    </tr>\n",
       "    <tr>\n",
       "      <th>2</th>\n",
       "      <td>3</td>\n",
       "      <td>4</td>\n",
       "      <td>Cocomelon - Nursery Rhymes</td>\n",
       "      <td>162000000</td>\n",
       "      <td>1.640000e+11</td>\n",
       "      <td>Education</td>\n",
       "      <td>Cocomelon - Nursery Rhymes</td>\n",
       "      <td>966</td>\n",
       "      <td>United States</td>\n",
       "      <td>US</td>\n",
       "      <td>...</td>\n",
       "      <td>Sep</td>\n",
       "      <td>1.0</td>\n",
       "      <td>88.2</td>\n",
       "      <td>328239523.0</td>\n",
       "      <td>14.7</td>\n",
       "      <td>270663028.0</td>\n",
       "      <td>37.09024</td>\n",
       "      <td>-95.712891</td>\n",
       "      <td>32.635652</td>\n",
       "      <td>-89.801561</td>\n",
       "    </tr>\n",
       "    <tr>\n",
       "      <th>4</th>\n",
       "      <td>6</td>\n",
       "      <td>7</td>\n",
       "      <td>Kids Diana Show</td>\n",
       "      <td>112000000</td>\n",
       "      <td>9.324704e+10</td>\n",
       "      <td>People &amp; Blogs</td>\n",
       "      <td>Kids Diana Show</td>\n",
       "      <td>1111</td>\n",
       "      <td>United States</td>\n",
       "      <td>US</td>\n",
       "      <td>...</td>\n",
       "      <td>May</td>\n",
       "      <td>12.0</td>\n",
       "      <td>88.2</td>\n",
       "      <td>328239523.0</td>\n",
       "      <td>14.7</td>\n",
       "      <td>270663028.0</td>\n",
       "      <td>37.09024</td>\n",
       "      <td>-95.712891</td>\n",
       "      <td>37.018552</td>\n",
       "      <td>-99.019406</td>\n",
       "    </tr>\n",
       "    <tr>\n",
       "      <th>7</th>\n",
       "      <td>9</td>\n",
       "      <td>10</td>\n",
       "      <td>Vlad and Niki</td>\n",
       "      <td>98900000</td>\n",
       "      <td>7.718017e+10</td>\n",
       "      <td>Entertainment</td>\n",
       "      <td>Vlad and Niki</td>\n",
       "      <td>574</td>\n",
       "      <td>United States</td>\n",
       "      <td>US</td>\n",
       "      <td>...</td>\n",
       "      <td>Apr</td>\n",
       "      <td>23.0</td>\n",
       "      <td>88.2</td>\n",
       "      <td>328239523.0</td>\n",
       "      <td>14.7</td>\n",
       "      <td>270663028.0</td>\n",
       "      <td>37.09024</td>\n",
       "      <td>-95.712891</td>\n",
       "      <td>32.669407</td>\n",
       "      <td>-100.530485</td>\n",
       "    </tr>\n",
       "    <tr>\n",
       "      <th>9</th>\n",
       "      <td>11</td>\n",
       "      <td>12</td>\n",
       "      <td>WWE</td>\n",
       "      <td>96000000</td>\n",
       "      <td>7.742847e+10</td>\n",
       "      <td>Sports</td>\n",
       "      <td>WWE</td>\n",
       "      <td>70127</td>\n",
       "      <td>United States</td>\n",
       "      <td>US</td>\n",
       "      <td>...</td>\n",
       "      <td>May</td>\n",
       "      <td>11.0</td>\n",
       "      <td>88.2</td>\n",
       "      <td>328239523.0</td>\n",
       "      <td>14.7</td>\n",
       "      <td>270663028.0</td>\n",
       "      <td>37.09024</td>\n",
       "      <td>-95.712891</td>\n",
       "      <td>27.491777</td>\n",
       "      <td>-104.670301</td>\n",
       "    </tr>\n",
       "    <tr>\n",
       "      <th>18</th>\n",
       "      <td>22</td>\n",
       "      <td>23</td>\n",
       "      <td>Pinkfong Baby Shark - Kids' Songs &amp; Stories</td>\n",
       "      <td>68200000</td>\n",
       "      <td>3.884323e+10</td>\n",
       "      <td>Education</td>\n",
       "      <td>Pinkfong Baby Shark - Kids' Songs &amp; Stories</td>\n",
       "      <td>2865</td>\n",
       "      <td>United States</td>\n",
       "      <td>US</td>\n",
       "      <td>...</td>\n",
       "      <td>Dec</td>\n",
       "      <td>14.0</td>\n",
       "      <td>88.2</td>\n",
       "      <td>328239523.0</td>\n",
       "      <td>14.7</td>\n",
       "      <td>270663028.0</td>\n",
       "      <td>37.09024</td>\n",
       "      <td>-95.712891</td>\n",
       "      <td>41.861748</td>\n",
       "      <td>-85.943358</td>\n",
       "    </tr>\n",
       "    <tr>\n",
       "      <th>24</th>\n",
       "      <td>28</td>\n",
       "      <td>29</td>\n",
       "      <td>Dude Perfect</td>\n",
       "      <td>59500000</td>\n",
       "      <td>1.624155e+10</td>\n",
       "      <td>Sports</td>\n",
       "      <td>Dude Perfect</td>\n",
       "      <td>389</td>\n",
       "      <td>United States</td>\n",
       "      <td>US</td>\n",
       "      <td>...</td>\n",
       "      <td>Mar</td>\n",
       "      <td>17.0</td>\n",
       "      <td>88.2</td>\n",
       "      <td>328239523.0</td>\n",
       "      <td>14.7</td>\n",
       "      <td>270663028.0</td>\n",
       "      <td>37.09024</td>\n",
       "      <td>-95.712891</td>\n",
       "      <td>38.959728</td>\n",
       "      <td>-88.242111</td>\n",
       "    </tr>\n",
       "    <tr>\n",
       "      <th>25</th>\n",
       "      <td>29</td>\n",
       "      <td>30</td>\n",
       "      <td>Movieclips</td>\n",
       "      <td>59500000</td>\n",
       "      <td>5.931647e+10</td>\n",
       "      <td>Film &amp; Animation</td>\n",
       "      <td>Movieclips</td>\n",
       "      <td>39113</td>\n",
       "      <td>United States</td>\n",
       "      <td>US</td>\n",
       "      <td>...</td>\n",
       "      <td>Apr</td>\n",
       "      <td>28.0</td>\n",
       "      <td>88.2</td>\n",
       "      <td>328239523.0</td>\n",
       "      <td>14.7</td>\n",
       "      <td>270663028.0</td>\n",
       "      <td>37.09024</td>\n",
       "      <td>-95.712891</td>\n",
       "      <td>31.167139</td>\n",
       "      <td>-85.868515</td>\n",
       "    </tr>\n",
       "    <tr>\n",
       "      <th>31</th>\n",
       "      <td>35</td>\n",
       "      <td>36</td>\n",
       "      <td>EminemMusic</td>\n",
       "      <td>56900000</td>\n",
       "      <td>2.707387e+10</td>\n",
       "      <td>Music</td>\n",
       "      <td>EminemMusic</td>\n",
       "      <td>156</td>\n",
       "      <td>United States</td>\n",
       "      <td>US</td>\n",
       "      <td>...</td>\n",
       "      <td>Feb</td>\n",
       "      <td>9.0</td>\n",
       "      <td>88.2</td>\n",
       "      <td>328239523.0</td>\n",
       "      <td>14.7</td>\n",
       "      <td>270663028.0</td>\n",
       "      <td>37.09024</td>\n",
       "      <td>-95.712891</td>\n",
       "      <td>35.365502</td>\n",
       "      <td>-99.578118</td>\n",
       "    </tr>\n",
       "    <tr>\n",
       "      <th>32</th>\n",
       "      <td>36</td>\n",
       "      <td>37</td>\n",
       "      <td>Marshmello</td>\n",
       "      <td>56400000</td>\n",
       "      <td>1.469600e+10</td>\n",
       "      <td>Entertainment</td>\n",
       "      <td>Marshmello</td>\n",
       "      <td>436</td>\n",
       "      <td>United States</td>\n",
       "      <td>US</td>\n",
       "      <td>...</td>\n",
       "      <td>Apr</td>\n",
       "      <td>6.0</td>\n",
       "      <td>88.2</td>\n",
       "      <td>328239523.0</td>\n",
       "      <td>14.7</td>\n",
       "      <td>270663028.0</td>\n",
       "      <td>37.09024</td>\n",
       "      <td>-95.712891</td>\n",
       "      <td>40.518067</td>\n",
       "      <td>-103.275254</td>\n",
       "    </tr>\n",
       "  </tbody>\n",
       "</table>\n",
       "<p>10 rows × 31 columns</p>\n",
       "</div>"
      ],
      "text/plain": [
       "    index  rank                                     Youtuber  subscribers  \\\n",
       "1       2     3                                      MrBeast    166000000   \n",
       "2       3     4                   Cocomelon - Nursery Rhymes    162000000   \n",
       "4       6     7                              Kids Diana Show    112000000   \n",
       "7       9    10                                Vlad and Niki     98900000   \n",
       "9      11    12                                          WWE     96000000   \n",
       "18     22    23  Pinkfong Baby Shark - Kids' Songs & Stories     68200000   \n",
       "24     28    29                                 Dude Perfect     59500000   \n",
       "25     29    30                                   Movieclips     59500000   \n",
       "31     35    36                                  EminemMusic     56900000   \n",
       "32     36    37                                   Marshmello     56400000   \n",
       "\n",
       "     video views          category  \\\n",
       "1   2.836884e+10     Entertainment   \n",
       "2   1.640000e+11         Education   \n",
       "4   9.324704e+10    People & Blogs   \n",
       "7   7.718017e+10     Entertainment   \n",
       "9   7.742847e+10            Sports   \n",
       "18  3.884323e+10         Education   \n",
       "24  1.624155e+10            Sports   \n",
       "25  5.931647e+10  Film & Animation   \n",
       "31  2.707387e+10             Music   \n",
       "32  1.469600e+10     Entertainment   \n",
       "\n",
       "                                          Title  uploads        Country  \\\n",
       "1                                       MrBeast      741  United States   \n",
       "2                    Cocomelon - Nursery Rhymes      966  United States   \n",
       "4                               Kids Diana Show     1111  United States   \n",
       "7                                 Vlad and Niki      574  United States   \n",
       "9                                           WWE    70127  United States   \n",
       "18  Pinkfong Baby Shark - Kids' Songs & Stories     2865  United States   \n",
       "24                                 Dude Perfect      389  United States   \n",
       "25                                   Movieclips    39113  United States   \n",
       "31                                  EminemMusic      156  United States   \n",
       "32                                   Marshmello      436  United States   \n",
       "\n",
       "   Abbreviation  ... created_month  created_date  \\\n",
       "1            US  ...           Feb          20.0   \n",
       "2            US  ...           Sep           1.0   \n",
       "4            US  ...           May          12.0   \n",
       "7            US  ...           Apr          23.0   \n",
       "9            US  ...           May          11.0   \n",
       "18           US  ...           Dec          14.0   \n",
       "24           US  ...           Mar          17.0   \n",
       "25           US  ...           Apr          28.0   \n",
       "31           US  ...           Feb           9.0   \n",
       "32           US  ...           Apr           6.0   \n",
       "\n",
       "    Gross tertiary education enrollment (%)   Population  Unemployment rate  \\\n",
       "1                                      88.2  328239523.0               14.7   \n",
       "2                                      88.2  328239523.0               14.7   \n",
       "4                                      88.2  328239523.0               14.7   \n",
       "7                                      88.2  328239523.0               14.7   \n",
       "9                                      88.2  328239523.0               14.7   \n",
       "18                                     88.2  328239523.0               14.7   \n",
       "24                                     88.2  328239523.0               14.7   \n",
       "25                                     88.2  328239523.0               14.7   \n",
       "31                                     88.2  328239523.0               14.7   \n",
       "32                                     88.2  328239523.0               14.7   \n",
       "\n",
       "    Urban_population  Latitude  Longitude  lat_jittered  lon_jittered  \n",
       "1        270663028.0  37.09024 -95.712891     31.747038    -86.220379  \n",
       "2        270663028.0  37.09024 -95.712891     32.635652    -89.801561  \n",
       "4        270663028.0  37.09024 -95.712891     37.018552    -99.019406  \n",
       "7        270663028.0  37.09024 -95.712891     32.669407   -100.530485  \n",
       "9        270663028.0  37.09024 -95.712891     27.491777   -104.670301  \n",
       "18       270663028.0  37.09024 -95.712891     41.861748    -85.943358  \n",
       "24       270663028.0  37.09024 -95.712891     38.959728    -88.242111  \n",
       "25       270663028.0  37.09024 -95.712891     31.167139    -85.868515  \n",
       "31       270663028.0  37.09024 -95.712891     35.365502    -99.578118  \n",
       "32       270663028.0  37.09024 -95.712891     40.518067   -103.275254  \n",
       "\n",
       "[10 rows x 31 columns]"
      ]
     },
     "execution_count": 283,
     "metadata": {},
     "output_type": "execute_result"
    }
   ],
   "source": [
    "df_usa.iloc[:10]"
   ]
  },
  {
   "cell_type": "code",
   "execution_count": 180,
   "id": "dd0f02be",
   "metadata": {},
   "outputs": [
    {
     "data": {
      "application/vnd.plotly.v1+json": {
       "config": {
        "plotlyServerURL": "https://plot.ly"
       },
       "data": [
        {
         "alignmentgroup": "True",
         "hovertemplate": "variable=subscribers<br>Youtuber=%{x}<br>value=%{y}<extra></extra>",
         "legendgroup": "subscribers",
         "marker": {
          "color": "#3366CC",
          "pattern": {
           "shape": ""
          }
         },
         "name": "subscribers",
         "offsetgroup": "subscribers",
         "orientation": "v",
         "showlegend": true,
         "textposition": "auto",
         "type": "bar",
         "x": [
          "MrBeast",
          "Cocomelon - Nursery Rhymes",
          " Kids Diana Show",
          "Vlad and Niki",
          "WWE",
          "Pinkfong Baby Shark - Kids' Songs & Stories",
          "Dude Perfect",
          "Movieclips",
          "EminemMusic",
          "Marshmello"
         ],
         "xaxis": "x",
         "y": {
          "bdata": "AAAAAOvJo0EAAAAA2U+jQQAAAADws5pBAAAAgGCUl0EAAAAAYOOWQQAAAACZQpBBAAAAAC9fjEEAAAAAL1+MQQAAAADNIYtBAAAAAMTkikE=",
          "dtype": "f8"
         },
         "yaxis": "y"
        },
        {
         "alignmentgroup": "True",
         "hovertemplate": "variable=video views<br>Youtuber=%{x}<br>value=%{y}<extra></extra>",
         "legendgroup": "video views",
         "marker": {
          "color": "#DC3912",
          "pattern": {
           "shape": ""
          }
         },
         "name": "video views",
         "offsetgroup": "video views",
         "orientation": "v",
         "showlegend": true,
         "textposition": "auto",
         "type": "bar",
         "x": [
          "MrBeast",
          "Cocomelon - Nursery Rhymes",
          " Kids Diana Show",
          "Vlad and Niki",
          "WWE",
          "Pinkfong Baby Shark - Kids' Songs & Stories",
          "Dude Perfect",
          "Movieclips",
          "EminemMusic",
          "Marshmello"
         ],
         "xaxis": "x",
         "y": {
          "bdata": "AAA4sqhrGkIAAAC0lBdDQgAAG+z0tTVCAACm7kv4MUIAAD6/GAcyQgAAFk55FiJCAAAw+5JADkIAAGQXE58rQgAAYA/qNhlCAADotJlfC0I=",
          "dtype": "f8"
         },
         "yaxis": "y"
        }
       ],
       "layout": {
        "barmode": "group",
        "legend": {
         "title": {
          "text": "variable"
         },
         "tracegroupgap": 0
        },
        "margin": {
         "t": 60
        },
        "template": {
         "data": {
          "candlestick": [
           {
            "decreasing": {
             "line": {
              "color": "#000033"
             }
            },
            "increasing": {
             "line": {
              "color": "#000032"
             }
            },
            "type": "candlestick"
           }
          ],
          "contour": [
           {
            "colorscale": [
             [
              0,
              "#000011"
             ],
             [
              0.1111111111111111,
              "#000012"
             ],
             [
              0.2222222222222222,
              "#000013"
             ],
             [
              0.3333333333333333,
              "#000014"
             ],
             [
              0.4444444444444444,
              "#000015"
             ],
             [
              0.5555555555555556,
              "#000016"
             ],
             [
              0.6666666666666666,
              "#000017"
             ],
             [
              0.7777777777777778,
              "#000018"
             ],
             [
              0.8888888888888888,
              "#000019"
             ],
             [
              1,
              "#000020"
             ]
            ],
            "type": "contour"
           }
          ],
          "contourcarpet": [
           {
            "colorscale": [
             [
              0,
              "#000011"
             ],
             [
              0.1111111111111111,
              "#000012"
             ],
             [
              0.2222222222222222,
              "#000013"
             ],
             [
              0.3333333333333333,
              "#000014"
             ],
             [
              0.4444444444444444,
              "#000015"
             ],
             [
              0.5555555555555556,
              "#000016"
             ],
             [
              0.6666666666666666,
              "#000017"
             ],
             [
              0.7777777777777778,
              "#000018"
             ],
             [
              0.8888888888888888,
              "#000019"
             ],
             [
              1,
              "#000020"
             ]
            ],
            "type": "contourcarpet"
           }
          ],
          "heatmap": [
           {
            "colorscale": [
             [
              0,
              "#000011"
             ],
             [
              0.1111111111111111,
              "#000012"
             ],
             [
              0.2222222222222222,
              "#000013"
             ],
             [
              0.3333333333333333,
              "#000014"
             ],
             [
              0.4444444444444444,
              "#000015"
             ],
             [
              0.5555555555555556,
              "#000016"
             ],
             [
              0.6666666666666666,
              "#000017"
             ],
             [
              0.7777777777777778,
              "#000018"
             ],
             [
              0.8888888888888888,
              "#000019"
             ],
             [
              1,
              "#000020"
             ]
            ],
            "type": "heatmap"
           }
          ],
          "histogram2d": [
           {
            "colorscale": [
             [
              0,
              "#000011"
             ],
             [
              0.1111111111111111,
              "#000012"
             ],
             [
              0.2222222222222222,
              "#000013"
             ],
             [
              0.3333333333333333,
              "#000014"
             ],
             [
              0.4444444444444444,
              "#000015"
             ],
             [
              0.5555555555555556,
              "#000016"
             ],
             [
              0.6666666666666666,
              "#000017"
             ],
             [
              0.7777777777777778,
              "#000018"
             ],
             [
              0.8888888888888888,
              "#000019"
             ],
             [
              1,
              "#000020"
             ]
            ],
            "type": "histogram2d"
           }
          ],
          "icicle": [
           {
            "textfont": {
             "color": "white"
            },
            "type": "icicle"
           }
          ],
          "sankey": [
           {
            "textfont": {
             "color": "#000036"
            },
            "type": "sankey"
           }
          ],
          "scatter": [
           {
            "marker": {
             "line": {
              "width": 0
             }
            },
            "type": "scatter"
           }
          ],
          "table": [
           {
            "cells": {
             "fill": {
              "color": "#000038"
             },
             "font": {
              "color": "#000037"
             },
             "line": {
              "color": "#000039"
             }
            },
            "header": {
             "fill": {
              "color": "#000040"
             },
             "font": {
              "color": "#000036"
             },
             "line": {
              "color": "#000039"
             }
            },
            "type": "table"
           }
          ],
          "waterfall": [
           {
            "connector": {
             "line": {
              "color": "#000036",
              "width": 2
             }
            },
            "decreasing": {
             "marker": {
              "color": "#000033"
             }
            },
            "increasing": {
             "marker": {
              "color": "#000032"
             }
            },
            "totals": {
             "marker": {
              "color": "#000034"
             }
            },
            "type": "waterfall"
           }
          ]
         },
         "layout": {
          "coloraxis": {
           "colorscale": [
            [
             0,
             "#000011"
            ],
            [
             0.1111111111111111,
             "#000012"
            ],
            [
             0.2222222222222222,
             "#000013"
            ],
            [
             0.3333333333333333,
             "#000014"
            ],
            [
             0.4444444444444444,
             "#000015"
            ],
            [
             0.5555555555555556,
             "#000016"
            ],
            [
             0.6666666666666666,
             "#000017"
            ],
            [
             0.7777777777777778,
             "#000018"
            ],
            [
             0.8888888888888888,
             "#000019"
            ],
            [
             1,
             "#000020"
            ]
           ]
          },
          "colorscale": {
           "diverging": [
            [
             0,
             "#000021"
            ],
            [
             0.1,
             "#000022"
            ],
            [
             0.2,
             "#000023"
            ],
            [
             0.3,
             "#000024"
            ],
            [
             0.4,
             "#000025"
            ],
            [
             0.5,
             "#000026"
            ],
            [
             0.6,
             "#000027"
            ],
            [
             0.7,
             "#000028"
            ],
            [
             0.8,
             "#000029"
            ],
            [
             0.9,
             "#000030"
            ],
            [
             1,
             "#000031"
            ]
           ],
           "sequential": [
            [
             0,
             "#000011"
            ],
            [
             0.1111111111111111,
             "#000012"
            ],
            [
             0.2222222222222222,
             "#000013"
            ],
            [
             0.3333333333333333,
             "#000014"
            ],
            [
             0.4444444444444444,
             "#000015"
            ],
            [
             0.5555555555555556,
             "#000016"
            ],
            [
             0.6666666666666666,
             "#000017"
            ],
            [
             0.7777777777777778,
             "#000018"
            ],
            [
             0.8888888888888888,
             "#000019"
            ],
            [
             1,
             "#000020"
            ]
           ],
           "sequentialminus": [
            [
             0,
             "#000011"
            ],
            [
             0.1111111111111111,
             "#000012"
            ],
            [
             0.2222222222222222,
             "#000013"
            ],
            [
             0.3333333333333333,
             "#000014"
            ],
            [
             0.4444444444444444,
             "#000015"
            ],
            [
             0.5555555555555556,
             "#000016"
            ],
            [
             0.6666666666666666,
             "#000017"
            ],
            [
             0.7777777777777778,
             "#000018"
            ],
            [
             0.8888888888888888,
             "#000019"
            ],
            [
             1,
             "#000020"
            ]
           ]
          },
          "colorway": [
           "#000001",
           "#000002",
           "#000003",
           "#000004",
           "#000005",
           "#000006",
           "#000007",
           "#000008",
           "#000009",
           "#000010"
          ]
         }
        },
        "xaxis": {
         "anchor": "y",
         "domain": [
          0,
          1
         ],
         "title": {
          "text": "Youtuber"
         }
        },
        "yaxis": {
         "anchor": "x",
         "domain": [
          0,
          1
         ],
         "title": {
          "text": "value"
         },
         "type": "log"
        }
       }
      }
     },
     "metadata": {},
     "output_type": "display_data"
    }
   ],
   "source": [
    "import plotly.express as px\n",
    "# df = px.data.gapminder().query(\"year==2007\")\n",
    "\n",
    "# Add jitter (degrees of latitude/longitude)\n",
    "# jitter_strength = 10  # ~1000km\n",
    "# df_usa.loc[:, 'lat_jittered'] = df_usa['Latitude'] + np.random.uniform(-jitter_strength, jitter_strength, size=len(df_usa))\n",
    "# df_usa.loc[:, 'lon_jittered'] = df_usa['Longitude'] + np.random.uniform(-jitter_strength, jitter_strength, size=len(df_usa))\n",
    "\n",
    "fig = px.bar(df_usa[:10], x='Youtuber', \n",
    "            y=['subscribers', 'video views'], \n",
    "            log_y=True,\n",
    "            barmode='group', \n",
    "            color_discrete_sequence=px.colors.qualitative.G10)\n",
    "# fig = px.scatter_geo(df_usa, \n",
    "#                     lon='lon_jittered', \n",
    "#                     lat='lat_jittered', \n",
    "#                     size=\"video views\", \n",
    "#                     color='subscribers',\n",
    "#                     # projection=\"equirectangular\", \n",
    "#                     scope='usa',\n",
    "#                     color_continuous_scale=px.colors.sequential.Viridis)\n",
    "\n",
    "fig.show()"
   ]
  },
  {
   "cell_type": "code",
   "execution_count": 13,
   "id": "b8036228",
   "metadata": {},
   "outputs": [],
   "source": [
    "df_geo_example = px.data.gapminder().query(\"year==2007\")"
   ]
  },
  {
   "cell_type": "code",
   "execution_count": 14,
   "id": "eb400bb3",
   "metadata": {},
   "outputs": [
    {
     "data": {
      "text/html": [
       "<div>\n",
       "<style scoped>\n",
       "    .dataframe tbody tr th:only-of-type {\n",
       "        vertical-align: middle;\n",
       "    }\n",
       "\n",
       "    .dataframe tbody tr th {\n",
       "        vertical-align: top;\n",
       "    }\n",
       "\n",
       "    .dataframe thead th {\n",
       "        text-align: right;\n",
       "    }\n",
       "</style>\n",
       "<table border=\"1\" class=\"dataframe\">\n",
       "  <thead>\n",
       "    <tr style=\"text-align: right;\">\n",
       "      <th></th>\n",
       "      <th>country</th>\n",
       "      <th>continent</th>\n",
       "      <th>year</th>\n",
       "      <th>lifeExp</th>\n",
       "      <th>pop</th>\n",
       "      <th>gdpPercap</th>\n",
       "      <th>iso_alpha</th>\n",
       "      <th>iso_num</th>\n",
       "    </tr>\n",
       "  </thead>\n",
       "  <tbody>\n",
       "    <tr>\n",
       "      <th>11</th>\n",
       "      <td>Afghanistan</td>\n",
       "      <td>Asia</td>\n",
       "      <td>2007</td>\n",
       "      <td>43.828</td>\n",
       "      <td>31889923</td>\n",
       "      <td>974.580338</td>\n",
       "      <td>AFG</td>\n",
       "      <td>4</td>\n",
       "    </tr>\n",
       "    <tr>\n",
       "      <th>23</th>\n",
       "      <td>Albania</td>\n",
       "      <td>Europe</td>\n",
       "      <td>2007</td>\n",
       "      <td>76.423</td>\n",
       "      <td>3600523</td>\n",
       "      <td>5937.029526</td>\n",
       "      <td>ALB</td>\n",
       "      <td>8</td>\n",
       "    </tr>\n",
       "    <tr>\n",
       "      <th>35</th>\n",
       "      <td>Algeria</td>\n",
       "      <td>Africa</td>\n",
       "      <td>2007</td>\n",
       "      <td>72.301</td>\n",
       "      <td>33333216</td>\n",
       "      <td>6223.367465</td>\n",
       "      <td>DZA</td>\n",
       "      <td>12</td>\n",
       "    </tr>\n",
       "    <tr>\n",
       "      <th>47</th>\n",
       "      <td>Angola</td>\n",
       "      <td>Africa</td>\n",
       "      <td>2007</td>\n",
       "      <td>42.731</td>\n",
       "      <td>12420476</td>\n",
       "      <td>4797.231267</td>\n",
       "      <td>AGO</td>\n",
       "      <td>24</td>\n",
       "    </tr>\n",
       "    <tr>\n",
       "      <th>59</th>\n",
       "      <td>Argentina</td>\n",
       "      <td>Americas</td>\n",
       "      <td>2007</td>\n",
       "      <td>75.320</td>\n",
       "      <td>40301927</td>\n",
       "      <td>12779.379640</td>\n",
       "      <td>ARG</td>\n",
       "      <td>32</td>\n",
       "    </tr>\n",
       "    <tr>\n",
       "      <th>...</th>\n",
       "      <td>...</td>\n",
       "      <td>...</td>\n",
       "      <td>...</td>\n",
       "      <td>...</td>\n",
       "      <td>...</td>\n",
       "      <td>...</td>\n",
       "      <td>...</td>\n",
       "      <td>...</td>\n",
       "    </tr>\n",
       "    <tr>\n",
       "      <th>1655</th>\n",
       "      <td>Vietnam</td>\n",
       "      <td>Asia</td>\n",
       "      <td>2007</td>\n",
       "      <td>74.249</td>\n",
       "      <td>85262356</td>\n",
       "      <td>2441.576404</td>\n",
       "      <td>VNM</td>\n",
       "      <td>704</td>\n",
       "    </tr>\n",
       "    <tr>\n",
       "      <th>1667</th>\n",
       "      <td>West Bank and Gaza</td>\n",
       "      <td>Asia</td>\n",
       "      <td>2007</td>\n",
       "      <td>73.422</td>\n",
       "      <td>4018332</td>\n",
       "      <td>3025.349798</td>\n",
       "      <td>PSE</td>\n",
       "      <td>275</td>\n",
       "    </tr>\n",
       "    <tr>\n",
       "      <th>1679</th>\n",
       "      <td>Yemen, Rep.</td>\n",
       "      <td>Asia</td>\n",
       "      <td>2007</td>\n",
       "      <td>62.698</td>\n",
       "      <td>22211743</td>\n",
       "      <td>2280.769906</td>\n",
       "      <td>YEM</td>\n",
       "      <td>887</td>\n",
       "    </tr>\n",
       "    <tr>\n",
       "      <th>1691</th>\n",
       "      <td>Zambia</td>\n",
       "      <td>Africa</td>\n",
       "      <td>2007</td>\n",
       "      <td>42.384</td>\n",
       "      <td>11746035</td>\n",
       "      <td>1271.211593</td>\n",
       "      <td>ZMB</td>\n",
       "      <td>894</td>\n",
       "    </tr>\n",
       "    <tr>\n",
       "      <th>1703</th>\n",
       "      <td>Zimbabwe</td>\n",
       "      <td>Africa</td>\n",
       "      <td>2007</td>\n",
       "      <td>43.487</td>\n",
       "      <td>12311143</td>\n",
       "      <td>469.709298</td>\n",
       "      <td>ZWE</td>\n",
       "      <td>716</td>\n",
       "    </tr>\n",
       "  </tbody>\n",
       "</table>\n",
       "<p>142 rows × 8 columns</p>\n",
       "</div>"
      ],
      "text/plain": [
       "                 country continent  year  lifeExp       pop     gdpPercap  \\\n",
       "11           Afghanistan      Asia  2007   43.828  31889923    974.580338   \n",
       "23               Albania    Europe  2007   76.423   3600523   5937.029526   \n",
       "35               Algeria    Africa  2007   72.301  33333216   6223.367465   \n",
       "47                Angola    Africa  2007   42.731  12420476   4797.231267   \n",
       "59             Argentina  Americas  2007   75.320  40301927  12779.379640   \n",
       "...                  ...       ...   ...      ...       ...           ...   \n",
       "1655             Vietnam      Asia  2007   74.249  85262356   2441.576404   \n",
       "1667  West Bank and Gaza      Asia  2007   73.422   4018332   3025.349798   \n",
       "1679         Yemen, Rep.      Asia  2007   62.698  22211743   2280.769906   \n",
       "1691              Zambia    Africa  2007   42.384  11746035   1271.211593   \n",
       "1703            Zimbabwe    Africa  2007   43.487  12311143    469.709298   \n",
       "\n",
       "     iso_alpha  iso_num  \n",
       "11         AFG        4  \n",
       "23         ALB        8  \n",
       "35         DZA       12  \n",
       "47         AGO       24  \n",
       "59         ARG       32  \n",
       "...        ...      ...  \n",
       "1655       VNM      704  \n",
       "1667       PSE      275  \n",
       "1679       YEM      887  \n",
       "1691       ZMB      894  \n",
       "1703       ZWE      716  \n",
       "\n",
       "[142 rows x 8 columns]"
      ]
     },
     "execution_count": 14,
     "metadata": {},
     "output_type": "execute_result"
    }
   ],
   "source": [
    "df_geo_example"
   ]
  },
  {
   "cell_type": "code",
   "execution_count": 288,
   "id": "c15a3b2d",
   "metadata": {},
   "outputs": [],
   "source": [
    "df_pop = df.pivot_table(\n",
    "    values=['Population'],\n",
    "    index='Country',\n",
    "    aggfunc=lambda x: x.iloc[0]\n",
    ")\n"
   ]
  },
  {
   "cell_type": "code",
   "execution_count": null,
   "id": "f8146bc3",
   "metadata": {},
   "outputs": [
    {
     "ename": "AttributeError",
     "evalue": "'logsum' is not a valid function for 'DataFrameGroupBy' object",
     "output_type": "error",
     "traceback": [
      "\u001b[31m---------------------------------------------------------------------------\u001b[39m",
      "\u001b[31mAttributeError\u001b[39m                            Traceback (most recent call last)",
      "\u001b[36mCell\u001b[39m\u001b[36m \u001b[39m\u001b[32mIn[333]\u001b[39m\u001b[32m, line 1\u001b[39m\n\u001b[32m----> \u001b[39m\u001b[32m1\u001b[39m df_totals = \u001b[43mdf\u001b[49m\u001b[43m.\u001b[49m\u001b[43mpivot_table\u001b[49m\u001b[43m(\u001b[49m\n\u001b[32m      2\u001b[39m \u001b[43m     \u001b[49m\u001b[43mvalues\u001b[49m\u001b[43m=\u001b[49m\u001b[43m[\u001b[49m\u001b[33;43m\"\u001b[39;49m\u001b[33;43mvideo views\u001b[39;49m\u001b[33;43m\"\u001b[39;49m\u001b[43m,\u001b[49m\u001b[43m \u001b[49m\u001b[33;43m\"\u001b[39;49m\u001b[33;43msubscribers\u001b[39;49m\u001b[33;43m\"\u001b[39;49m\u001b[43m]\u001b[49m\u001b[43m,\u001b[49m\u001b[43m \u001b[49m\n\u001b[32m      3\u001b[39m \u001b[43m     \u001b[49m\u001b[43mindex\u001b[49m\u001b[43m=\u001b[49m\u001b[33;43m\"\u001b[39;49m\u001b[33;43mCountry\u001b[39;49m\u001b[33;43m\"\u001b[39;49m\u001b[43m,\u001b[49m\n\u001b[32m      4\u001b[39m \u001b[43m     \u001b[49m\u001b[43maggfunc\u001b[49m\u001b[43m=\u001b[49m\u001b[33;43m\"\u001b[39;49m\u001b[33;43mlogsum\u001b[39;49m\u001b[33;43m\"\u001b[39;49m\u001b[43m,\u001b[49m\n\u001b[32m      5\u001b[39m \u001b[43m \u001b[49m\u001b[43m)\u001b[49m.reset_index()\n",
      "\u001b[36mFile \u001b[39m\u001b[32m~/miniconda3/envs/.venv/lib/python3.13/site-packages/pandas/core/frame.py:9509\u001b[39m, in \u001b[36mDataFrame.pivot_table\u001b[39m\u001b[34m(self, values, index, columns, aggfunc, fill_value, margins, dropna, margins_name, observed, sort)\u001b[39m\n\u001b[32m   9492\u001b[39m \u001b[38;5;129m@Substitution\u001b[39m(\u001b[33m\"\u001b[39m\u001b[33m\"\u001b[39m)\n\u001b[32m   9493\u001b[39m \u001b[38;5;129m@Appender\u001b[39m(_shared_docs[\u001b[33m\"\u001b[39m\u001b[33mpivot_table\u001b[39m\u001b[33m\"\u001b[39m])\n\u001b[32m   9494\u001b[39m \u001b[38;5;28;01mdef\u001b[39;00m\u001b[38;5;250m \u001b[39m\u001b[34mpivot_table\u001b[39m(\n\u001b[32m   (...)\u001b[39m\u001b[32m   9505\u001b[39m     sort: \u001b[38;5;28mbool\u001b[39m = \u001b[38;5;28;01mTrue\u001b[39;00m,\n\u001b[32m   9506\u001b[39m ) -> DataFrame:\n\u001b[32m   9507\u001b[39m     \u001b[38;5;28;01mfrom\u001b[39;00m\u001b[38;5;250m \u001b[39m\u001b[34;01mpandas\u001b[39;00m\u001b[34;01m.\u001b[39;00m\u001b[34;01mcore\u001b[39;00m\u001b[34;01m.\u001b[39;00m\u001b[34;01mreshape\u001b[39;00m\u001b[34;01m.\u001b[39;00m\u001b[34;01mpivot\u001b[39;00m\u001b[38;5;250m \u001b[39m\u001b[38;5;28;01mimport\u001b[39;00m pivot_table\n\u001b[32m-> \u001b[39m\u001b[32m9509\u001b[39m     \u001b[38;5;28;01mreturn\u001b[39;00m \u001b[43mpivot_table\u001b[49m\u001b[43m(\u001b[49m\n\u001b[32m   9510\u001b[39m \u001b[43m        \u001b[49m\u001b[38;5;28;43mself\u001b[39;49m\u001b[43m,\u001b[49m\n\u001b[32m   9511\u001b[39m \u001b[43m        \u001b[49m\u001b[43mvalues\u001b[49m\u001b[43m=\u001b[49m\u001b[43mvalues\u001b[49m\u001b[43m,\u001b[49m\n\u001b[32m   9512\u001b[39m \u001b[43m        \u001b[49m\u001b[43mindex\u001b[49m\u001b[43m=\u001b[49m\u001b[43mindex\u001b[49m\u001b[43m,\u001b[49m\n\u001b[32m   9513\u001b[39m \u001b[43m        \u001b[49m\u001b[43mcolumns\u001b[49m\u001b[43m=\u001b[49m\u001b[43mcolumns\u001b[49m\u001b[43m,\u001b[49m\n\u001b[32m   9514\u001b[39m \u001b[43m        \u001b[49m\u001b[43maggfunc\u001b[49m\u001b[43m=\u001b[49m\u001b[43maggfunc\u001b[49m\u001b[43m,\u001b[49m\n\u001b[32m   9515\u001b[39m \u001b[43m        \u001b[49m\u001b[43mfill_value\u001b[49m\u001b[43m=\u001b[49m\u001b[43mfill_value\u001b[49m\u001b[43m,\u001b[49m\n\u001b[32m   9516\u001b[39m \u001b[43m        \u001b[49m\u001b[43mmargins\u001b[49m\u001b[43m=\u001b[49m\u001b[43mmargins\u001b[49m\u001b[43m,\u001b[49m\n\u001b[32m   9517\u001b[39m \u001b[43m        \u001b[49m\u001b[43mdropna\u001b[49m\u001b[43m=\u001b[49m\u001b[43mdropna\u001b[49m\u001b[43m,\u001b[49m\n\u001b[32m   9518\u001b[39m \u001b[43m        \u001b[49m\u001b[43mmargins_name\u001b[49m\u001b[43m=\u001b[49m\u001b[43mmargins_name\u001b[49m\u001b[43m,\u001b[49m\n\u001b[32m   9519\u001b[39m \u001b[43m        \u001b[49m\u001b[43mobserved\u001b[49m\u001b[43m=\u001b[49m\u001b[43mobserved\u001b[49m\u001b[43m,\u001b[49m\n\u001b[32m   9520\u001b[39m \u001b[43m        \u001b[49m\u001b[43msort\u001b[49m\u001b[43m=\u001b[49m\u001b[43msort\u001b[49m\u001b[43m,\u001b[49m\n\u001b[32m   9521\u001b[39m \u001b[43m    \u001b[49m\u001b[43m)\u001b[49m\n",
      "\u001b[36mFile \u001b[39m\u001b[32m~/miniconda3/envs/.venv/lib/python3.13/site-packages/pandas/core/reshape/pivot.py:102\u001b[39m, in \u001b[36mpivot_table\u001b[39m\u001b[34m(data, values, index, columns, aggfunc, fill_value, margins, dropna, margins_name, observed, sort)\u001b[39m\n\u001b[32m     99\u001b[39m     table = concat(pieces, keys=keys, axis=\u001b[32m1\u001b[39m)\n\u001b[32m    100\u001b[39m     \u001b[38;5;28;01mreturn\u001b[39;00m table.__finalize__(data, method=\u001b[33m\"\u001b[39m\u001b[33mpivot_table\u001b[39m\u001b[33m\"\u001b[39m)\n\u001b[32m--> \u001b[39m\u001b[32m102\u001b[39m table = \u001b[43m__internal_pivot_table\u001b[49m\u001b[43m(\u001b[49m\n\u001b[32m    103\u001b[39m \u001b[43m    \u001b[49m\u001b[43mdata\u001b[49m\u001b[43m,\u001b[49m\n\u001b[32m    104\u001b[39m \u001b[43m    \u001b[49m\u001b[43mvalues\u001b[49m\u001b[43m,\u001b[49m\n\u001b[32m    105\u001b[39m \u001b[43m    \u001b[49m\u001b[43mindex\u001b[49m\u001b[43m,\u001b[49m\n\u001b[32m    106\u001b[39m \u001b[43m    \u001b[49m\u001b[43mcolumns\u001b[49m\u001b[43m,\u001b[49m\n\u001b[32m    107\u001b[39m \u001b[43m    \u001b[49m\u001b[43maggfunc\u001b[49m\u001b[43m,\u001b[49m\n\u001b[32m    108\u001b[39m \u001b[43m    \u001b[49m\u001b[43mfill_value\u001b[49m\u001b[43m,\u001b[49m\n\u001b[32m    109\u001b[39m \u001b[43m    \u001b[49m\u001b[43mmargins\u001b[49m\u001b[43m,\u001b[49m\n\u001b[32m    110\u001b[39m \u001b[43m    \u001b[49m\u001b[43mdropna\u001b[49m\u001b[43m,\u001b[49m\n\u001b[32m    111\u001b[39m \u001b[43m    \u001b[49m\u001b[43mmargins_name\u001b[49m\u001b[43m,\u001b[49m\n\u001b[32m    112\u001b[39m \u001b[43m    \u001b[49m\u001b[43mobserved\u001b[49m\u001b[43m,\u001b[49m\n\u001b[32m    113\u001b[39m \u001b[43m    \u001b[49m\u001b[43msort\u001b[49m\u001b[43m,\u001b[49m\n\u001b[32m    114\u001b[39m \u001b[43m\u001b[49m\u001b[43m)\u001b[49m\n\u001b[32m    115\u001b[39m \u001b[38;5;28;01mreturn\u001b[39;00m table.__finalize__(data, method=\u001b[33m\"\u001b[39m\u001b[33mpivot_table\u001b[39m\u001b[33m\"\u001b[39m)\n",
      "\u001b[36mFile \u001b[39m\u001b[32m~/miniconda3/envs/.venv/lib/python3.13/site-packages/pandas/core/reshape/pivot.py:183\u001b[39m, in \u001b[36m__internal_pivot_table\u001b[39m\u001b[34m(data, values, index, columns, aggfunc, fill_value, margins, dropna, margins_name, observed, sort)\u001b[39m\n\u001b[32m    173\u001b[39m \u001b[38;5;28;01mif\u001b[39;00m observed \u001b[38;5;129;01mis\u001b[39;00m lib.no_default \u001b[38;5;129;01mand\u001b[39;00m \u001b[38;5;28many\u001b[39m(\n\u001b[32m    174\u001b[39m     ping._passed_categorical \u001b[38;5;28;01mfor\u001b[39;00m ping \u001b[38;5;129;01min\u001b[39;00m grouped._grouper.groupings\n\u001b[32m    175\u001b[39m ):\n\u001b[32m    176\u001b[39m     warnings.warn(\n\u001b[32m    177\u001b[39m         \u001b[33m\"\u001b[39m\u001b[33mThe default value of observed=False is deprecated and will change \u001b[39m\u001b[33m\"\u001b[39m\n\u001b[32m    178\u001b[39m         \u001b[33m\"\u001b[39m\u001b[33mto observed=True in a future version of pandas. Specify \u001b[39m\u001b[33m\"\u001b[39m\n\u001b[32m   (...)\u001b[39m\u001b[32m    181\u001b[39m         stacklevel=find_stack_level(),\n\u001b[32m    182\u001b[39m     )\n\u001b[32m--> \u001b[39m\u001b[32m183\u001b[39m agged = \u001b[43mgrouped\u001b[49m\u001b[43m.\u001b[49m\u001b[43magg\u001b[49m\u001b[43m(\u001b[49m\u001b[43maggfunc\u001b[49m\u001b[43m)\u001b[49m\n\u001b[32m    185\u001b[39m \u001b[38;5;28;01mif\u001b[39;00m dropna \u001b[38;5;129;01mand\u001b[39;00m \u001b[38;5;28misinstance\u001b[39m(agged, ABCDataFrame) \u001b[38;5;129;01mand\u001b[39;00m \u001b[38;5;28mlen\u001b[39m(agged.columns):\n\u001b[32m    186\u001b[39m     agged = agged.dropna(how=\u001b[33m\"\u001b[39m\u001b[33mall\u001b[39m\u001b[33m\"\u001b[39m)\n",
      "\u001b[36mFile \u001b[39m\u001b[32m~/miniconda3/envs/.venv/lib/python3.13/site-packages/pandas/core/groupby/generic.py:1432\u001b[39m, in \u001b[36mDataFrameGroupBy.aggregate\u001b[39m\u001b[34m(self, func, engine, engine_kwargs, *args, **kwargs)\u001b[39m\n\u001b[32m   1429\u001b[39m     kwargs[\u001b[33m\"\u001b[39m\u001b[33mengine_kwargs\u001b[39m\u001b[33m\"\u001b[39m] = engine_kwargs\n\u001b[32m   1431\u001b[39m op = GroupByApply(\u001b[38;5;28mself\u001b[39m, func, args=args, kwargs=kwargs)\n\u001b[32m-> \u001b[39m\u001b[32m1432\u001b[39m result = \u001b[43mop\u001b[49m\u001b[43m.\u001b[49m\u001b[43magg\u001b[49m\u001b[43m(\u001b[49m\u001b[43m)\u001b[49m\n\u001b[32m   1433\u001b[39m \u001b[38;5;28;01mif\u001b[39;00m \u001b[38;5;129;01mnot\u001b[39;00m is_dict_like(func) \u001b[38;5;129;01mand\u001b[39;00m result \u001b[38;5;129;01mis\u001b[39;00m \u001b[38;5;129;01mnot\u001b[39;00m \u001b[38;5;28;01mNone\u001b[39;00m:\n\u001b[32m   1434\u001b[39m     \u001b[38;5;66;03m# GH #52849\u001b[39;00m\n\u001b[32m   1435\u001b[39m     \u001b[38;5;28;01mif\u001b[39;00m \u001b[38;5;129;01mnot\u001b[39;00m \u001b[38;5;28mself\u001b[39m.as_index \u001b[38;5;129;01mand\u001b[39;00m is_list_like(func):\n",
      "\u001b[36mFile \u001b[39m\u001b[32m~/miniconda3/envs/.venv/lib/python3.13/site-packages/pandas/core/apply.py:187\u001b[39m, in \u001b[36mApply.agg\u001b[39m\u001b[34m(self)\u001b[39m\n\u001b[32m    184\u001b[39m kwargs = \u001b[38;5;28mself\u001b[39m.kwargs\n\u001b[32m    186\u001b[39m \u001b[38;5;28;01mif\u001b[39;00m \u001b[38;5;28misinstance\u001b[39m(func, \u001b[38;5;28mstr\u001b[39m):\n\u001b[32m--> \u001b[39m\u001b[32m187\u001b[39m     \u001b[38;5;28;01mreturn\u001b[39;00m \u001b[38;5;28;43mself\u001b[39;49m\u001b[43m.\u001b[49m\u001b[43mapply_str\u001b[49m\u001b[43m(\u001b[49m\u001b[43m)\u001b[49m\n\u001b[32m    189\u001b[39m \u001b[38;5;28;01mif\u001b[39;00m is_dict_like(func):\n\u001b[32m    190\u001b[39m     \u001b[38;5;28;01mreturn\u001b[39;00m \u001b[38;5;28mself\u001b[39m.agg_dict_like()\n",
      "\u001b[36mFile \u001b[39m\u001b[32m~/miniconda3/envs/.venv/lib/python3.13/site-packages/pandas/core/apply.py:603\u001b[39m, in \u001b[36mApply.apply_str\u001b[39m\u001b[34m(self)\u001b[39m\n\u001b[32m    601\u001b[39m         \u001b[38;5;28;01melse\u001b[39;00m:\n\u001b[32m    602\u001b[39m             \u001b[38;5;28mself\u001b[39m.kwargs[\u001b[33m\"\u001b[39m\u001b[33maxis\u001b[39m\u001b[33m\"\u001b[39m] = \u001b[38;5;28mself\u001b[39m.axis\n\u001b[32m--> \u001b[39m\u001b[32m603\u001b[39m \u001b[38;5;28;01mreturn\u001b[39;00m \u001b[38;5;28;43mself\u001b[39;49m\u001b[43m.\u001b[49m\u001b[43m_apply_str\u001b[49m\u001b[43m(\u001b[49m\u001b[43mobj\u001b[49m\u001b[43m,\u001b[49m\u001b[43m \u001b[49m\u001b[43mfunc\u001b[49m\u001b[43m,\u001b[49m\u001b[43m \u001b[49m\u001b[43m*\u001b[49m\u001b[38;5;28;43mself\u001b[39;49m\u001b[43m.\u001b[49m\u001b[43margs\u001b[49m\u001b[43m,\u001b[49m\u001b[43m \u001b[49m\u001b[43m*\u001b[49m\u001b[43m*\u001b[49m\u001b[38;5;28;43mself\u001b[39;49m\u001b[43m.\u001b[49m\u001b[43mkwargs\u001b[49m\u001b[43m)\u001b[49m\n",
      "\u001b[36mFile \u001b[39m\u001b[32m~/miniconda3/envs/.venv/lib/python3.13/site-packages/pandas/core/apply.py:706\u001b[39m, in \u001b[36mApply._apply_str\u001b[39m\u001b[34m(self, obj, func, *args, **kwargs)\u001b[39m\n\u001b[32m    704\u001b[39m \u001b[38;5;28;01melse\u001b[39;00m:\n\u001b[32m    705\u001b[39m     msg = \u001b[33mf\u001b[39m\u001b[33m\"\u001b[39m\u001b[33m'\u001b[39m\u001b[38;5;132;01m{\u001b[39;00mfunc\u001b[38;5;132;01m}\u001b[39;00m\u001b[33m'\u001b[39m\u001b[33m is not a valid function for \u001b[39m\u001b[33m'\u001b[39m\u001b[38;5;132;01m{\u001b[39;00m\u001b[38;5;28mtype\u001b[39m(obj).\u001b[34m__name__\u001b[39m\u001b[38;5;132;01m}\u001b[39;00m\u001b[33m'\u001b[39m\u001b[33m object\u001b[39m\u001b[33m\"\u001b[39m\n\u001b[32m--> \u001b[39m\u001b[32m706\u001b[39m     \u001b[38;5;28;01mraise\u001b[39;00m \u001b[38;5;167;01mAttributeError\u001b[39;00m(msg)\n",
      "\u001b[31mAttributeError\u001b[39m: 'logsum' is not a valid function for 'DataFrameGroupBy' object"
     ]
    }
   ],
   "source": [
    "df_totals = df.pivot_table(\n",
    "     values=[\"video views\", \"subscribers\"], \n",
    "     index=\"Country\",\n",
    "     aggfunc=\"sum\",\n",
    " ).reset_index()"
   ]
  },
  {
   "cell_type": "code",
   "execution_count": 316,
   "id": "9aa5290f",
   "metadata": {},
   "outputs": [],
   "source": [
    "df_totals.loc[:,'Population'] = df_pop['Population'].values"
   ]
  },
  {
   "cell_type": "code",
   "execution_count": 334,
   "id": "235736e0",
   "metadata": {},
   "outputs": [],
   "source": [
    "df_totals['subscribers'] = np.log(df_totals['subscribers'])"
   ]
  },
  {
   "cell_type": "code",
   "execution_count": 339,
   "id": "05ad2f33",
   "metadata": {},
   "outputs": [
    {
     "data": {
      "application/vnd.plotly.v1+json": {
       "config": {
        "plotlyServerURL": "https://plot.ly"
       },
       "data": [
        {
         "coloraxis": "coloraxis",
         "geo": "geo",
         "hovertemplate": "Country=%{location}<br>subscribers=%{z}<extra></extra>",
         "locationmode": "country names",
         "locations": [
          "Afghanistan",
          "Argentina",
          "Australia",
          "Bangladesh",
          "Barbados",
          "Brazil",
          "Canada",
          "Chile",
          "China",
          "Colombia",
          "Cuba",
          "Ecuador",
          "Egypt",
          "El Salvador",
          "Finland",
          "France",
          "Germany",
          "India",
          "Indonesia",
          "Iraq",
          "Italy",
          "Japan",
          "Jordan",
          "Kuwait",
          "Latvia",
          "Malaysia",
          "Mexico",
          "Morocco",
          "Netherlands",
          "Pakistan",
          "Peru",
          "Philippines",
          "Russia",
          "Samoa",
          "Saudi Arabia",
          "Singapore",
          "South Korea",
          "Spain",
          "Sweden",
          "Switzerland",
          "Thailand",
          "Turkey",
          "Ukraine",
          "United Arab Emirates",
          "United Kingdom",
          "United States",
          "Venezuela",
          "Vietnam"
         ],
         "name": "",
         "type": "choropleth",
         "z": {
          "bdata": "7BgrZb/UMEBcWu4QLJwzQPFAen+H9jJA8hdXxIhyMEAk3uv9AI0xQFL2AXZw7DRAwsw+K1+2M0DdH/mJoUgyQFWDIOzzrjBA/ZpEtLJkM0BTaNopkaYxQPCJzrEOIzFATRfe9Is8MUCOWhl1daUxQOev22NOZTBA82N/PsE+MkD7GyUvkpIyQC1UXRkxLzZAuvXXl5kYNEASJ9egLTkxQO0vajdBfTFAnBUoGcsOM0AbBBIJLAUyQATJlG+1OzFAiRUQtznSMEC87207Z7AwQIjpIbicQTRAxe1JTlp9MEDzM41jr+AxQMt1nh2M3DJAzTyGxJR7MEDD693A60szQGDlzRMn0zNARgfaA1xjMEDw6Axr4gAzQMAYYsOj5zFAofEdPir+M0Ag9kAT3sQzQNfFAMdp9TFA+3mCb+HHMED9It/ky8UzQP3K/aw7VTJAs0w/fQumMkAdvxobZ9AyQNyg6foVozRAU9VjfmGuNkBXzEmKhEExQCNvNrG6rjFA",
          "dtype": "f8"
         }
        }
       ],
       "layout": {
        "coloraxis": {
         "cmax": 22.681175135968555,
         "cmin": 16.38812278817138,
         "colorbar": {
          "title": {
           "text": "subscribers"
          }
         },
         "colorscale": [
          [
           0,
           "#fde725"
          ],
          [
           0.1111111111111111,
           "#b5de2b"
          ],
          [
           0.2222222222222222,
           "#6ece58"
          ],
          [
           0.3333333333333333,
           "#35b779"
          ],
          [
           0.4444444444444444,
           "#1f9e89"
          ],
          [
           0.5555555555555556,
           "#26828e"
          ],
          [
           0.6666666666666666,
           "#31688e"
          ],
          [
           0.7777777777777778,
           "#3e4989"
          ],
          [
           0.8888888888888888,
           "#482878"
          ],
          [
           1,
           "#440154"
          ]
         ]
        },
        "geo": {
         "center": {},
         "domain": {
          "x": [
           0,
           1
          ],
          "y": [
           0,
           1
          ]
         }
        },
        "legend": {
         "tracegroupgap": 0
        },
        "template": {
         "data": {
          "candlestick": [
           {
            "decreasing": {
             "line": {
              "color": "#000033"
             }
            },
            "increasing": {
             "line": {
              "color": "#000032"
             }
            },
            "type": "candlestick"
           }
          ],
          "contour": [
           {
            "colorscale": [
             [
              0,
              "#000011"
             ],
             [
              0.1111111111111111,
              "#000012"
             ],
             [
              0.2222222222222222,
              "#000013"
             ],
             [
              0.3333333333333333,
              "#000014"
             ],
             [
              0.4444444444444444,
              "#000015"
             ],
             [
              0.5555555555555556,
              "#000016"
             ],
             [
              0.6666666666666666,
              "#000017"
             ],
             [
              0.7777777777777778,
              "#000018"
             ],
             [
              0.8888888888888888,
              "#000019"
             ],
             [
              1,
              "#000020"
             ]
            ],
            "type": "contour"
           }
          ],
          "contourcarpet": [
           {
            "colorscale": [
             [
              0,
              "#000011"
             ],
             [
              0.1111111111111111,
              "#000012"
             ],
             [
              0.2222222222222222,
              "#000013"
             ],
             [
              0.3333333333333333,
              "#000014"
             ],
             [
              0.4444444444444444,
              "#000015"
             ],
             [
              0.5555555555555556,
              "#000016"
             ],
             [
              0.6666666666666666,
              "#000017"
             ],
             [
              0.7777777777777778,
              "#000018"
             ],
             [
              0.8888888888888888,
              "#000019"
             ],
             [
              1,
              "#000020"
             ]
            ],
            "type": "contourcarpet"
           }
          ],
          "heatmap": [
           {
            "colorscale": [
             [
              0,
              "#000011"
             ],
             [
              0.1111111111111111,
              "#000012"
             ],
             [
              0.2222222222222222,
              "#000013"
             ],
             [
              0.3333333333333333,
              "#000014"
             ],
             [
              0.4444444444444444,
              "#000015"
             ],
             [
              0.5555555555555556,
              "#000016"
             ],
             [
              0.6666666666666666,
              "#000017"
             ],
             [
              0.7777777777777778,
              "#000018"
             ],
             [
              0.8888888888888888,
              "#000019"
             ],
             [
              1,
              "#000020"
             ]
            ],
            "type": "heatmap"
           }
          ],
          "histogram2d": [
           {
            "colorscale": [
             [
              0,
              "#000011"
             ],
             [
              0.1111111111111111,
              "#000012"
             ],
             [
              0.2222222222222222,
              "#000013"
             ],
             [
              0.3333333333333333,
              "#000014"
             ],
             [
              0.4444444444444444,
              "#000015"
             ],
             [
              0.5555555555555556,
              "#000016"
             ],
             [
              0.6666666666666666,
              "#000017"
             ],
             [
              0.7777777777777778,
              "#000018"
             ],
             [
              0.8888888888888888,
              "#000019"
             ],
             [
              1,
              "#000020"
             ]
            ],
            "type": "histogram2d"
           }
          ],
          "icicle": [
           {
            "textfont": {
             "color": "white"
            },
            "type": "icicle"
           }
          ],
          "sankey": [
           {
            "textfont": {
             "color": "#000036"
            },
            "type": "sankey"
           }
          ],
          "scatter": [
           {
            "marker": {
             "line": {
              "width": 0
             }
            },
            "type": "scatter"
           }
          ],
          "table": [
           {
            "cells": {
             "fill": {
              "color": "#000038"
             },
             "font": {
              "color": "#000037"
             },
             "line": {
              "color": "#000039"
             }
            },
            "header": {
             "fill": {
              "color": "#000040"
             },
             "font": {
              "color": "#000036"
             },
             "line": {
              "color": "#000039"
             }
            },
            "type": "table"
           }
          ],
          "waterfall": [
           {
            "connector": {
             "line": {
              "color": "#000036",
              "width": 2
             }
            },
            "decreasing": {
             "marker": {
              "color": "#000033"
             }
            },
            "increasing": {
             "marker": {
              "color": "#000032"
             }
            },
            "totals": {
             "marker": {
              "color": "#000034"
             }
            },
            "type": "waterfall"
           }
          ]
         },
         "layout": {
          "coloraxis": {
           "colorscale": [
            [
             0,
             "#000011"
            ],
            [
             0.1111111111111111,
             "#000012"
            ],
            [
             0.2222222222222222,
             "#000013"
            ],
            [
             0.3333333333333333,
             "#000014"
            ],
            [
             0.4444444444444444,
             "#000015"
            ],
            [
             0.5555555555555556,
             "#000016"
            ],
            [
             0.6666666666666666,
             "#000017"
            ],
            [
             0.7777777777777778,
             "#000018"
            ],
            [
             0.8888888888888888,
             "#000019"
            ],
            [
             1,
             "#000020"
            ]
           ]
          },
          "colorscale": {
           "diverging": [
            [
             0,
             "#000021"
            ],
            [
             0.1,
             "#000022"
            ],
            [
             0.2,
             "#000023"
            ],
            [
             0.3,
             "#000024"
            ],
            [
             0.4,
             "#000025"
            ],
            [
             0.5,
             "#000026"
            ],
            [
             0.6,
             "#000027"
            ],
            [
             0.7,
             "#000028"
            ],
            [
             0.8,
             "#000029"
            ],
            [
             0.9,
             "#000030"
            ],
            [
             1,
             "#000031"
            ]
           ],
           "sequential": [
            [
             0,
             "#000011"
            ],
            [
             0.1111111111111111,
             "#000012"
            ],
            [
             0.2222222222222222,
             "#000013"
            ],
            [
             0.3333333333333333,
             "#000014"
            ],
            [
             0.4444444444444444,
             "#000015"
            ],
            [
             0.5555555555555556,
             "#000016"
            ],
            [
             0.6666666666666666,
             "#000017"
            ],
            [
             0.7777777777777778,
             "#000018"
            ],
            [
             0.8888888888888888,
             "#000019"
            ],
            [
             1,
             "#000020"
            ]
           ],
           "sequentialminus": [
            [
             0,
             "#000011"
            ],
            [
             0.1111111111111111,
             "#000012"
            ],
            [
             0.2222222222222222,
             "#000013"
            ],
            [
             0.3333333333333333,
             "#000014"
            ],
            [
             0.4444444444444444,
             "#000015"
            ],
            [
             0.5555555555555556,
             "#000016"
            ],
            [
             0.6666666666666666,
             "#000017"
            ],
            [
             0.7777777777777778,
             "#000018"
            ],
            [
             0.8888888888888888,
             "#000019"
            ],
            [
             1,
             "#000020"
            ]
           ]
          },
          "colorway": [
           "#000001",
           "#000002",
           "#000003",
           "#000004",
           "#000005",
           "#000006",
           "#000007",
           "#000008",
           "#000009",
           "#000010"
          ]
         }
        },
        "title": {
         "text": "Global Total Video Views"
        }
       }
      }
     },
     "metadata": {},
     "output_type": "display_data"
    }
   ],
   "source": [
    "\n",
    "df_totals['subs_to_pop'] = df_totals['subscribers']/df_totals['Population']\n",
    "\n",
    "data_col = 'subscribers'\n",
    "avg_video_views = df_totals[data_col].mean()\n",
    "fig = px.choropleth(df_totals, locations=\"Country\", locationmode='country names', color=data_col,\n",
    "                    color_continuous_scale=px.colors.sequential.Viridis[::-1],\n",
    "                    # color_continuous_midpoint=avg_video_views,\n",
    "                    range_color=[df_totals[data_col].min(), df_totals[data_col].max()],\n",
    "                    title=\"Global Total Video Views\")\n",
    "\n",
    "fig.show()"
   ]
  },
  {
   "cell_type": "code",
   "execution_count": 332,
   "id": "b6faa13a",
   "metadata": {},
   "outputs": [
    {
     "data": {
      "text/plain": [
       "([0,\n",
       "  1,\n",
       "  2,\n",
       "  3,\n",
       "  4,\n",
       "  5,\n",
       "  6,\n",
       "  7,\n",
       "  8,\n",
       "  9,\n",
       "  10,\n",
       "  11,\n",
       "  12,\n",
       "  13,\n",
       "  14,\n",
       "  15,\n",
       "  16,\n",
       "  17,\n",
       "  18,\n",
       "  19,\n",
       "  20,\n",
       "  21,\n",
       "  22,\n",
       "  23,\n",
       "  24,\n",
       "  25,\n",
       "  26,\n",
       "  27,\n",
       "  28,\n",
       "  29,\n",
       "  30,\n",
       "  31,\n",
       "  32,\n",
       "  33,\n",
       "  34,\n",
       "  35,\n",
       "  36,\n",
       "  37,\n",
       "  38,\n",
       "  39,\n",
       "  40,\n",
       "  41,\n",
       "  42,\n",
       "  43,\n",
       "  44,\n",
       "  45,\n",
       "  46,\n",
       "  47],\n",
       " [Text(0, 0, 'Afghanistan'),\n",
       "  Text(1, 0, 'Argentina'),\n",
       "  Text(2, 0, 'Australia'),\n",
       "  Text(3, 0, 'Bangladesh'),\n",
       "  Text(4, 0, 'Barbados'),\n",
       "  Text(5, 0, 'Brazil'),\n",
       "  Text(6, 0, 'Canada'),\n",
       "  Text(7, 0, 'Chile'),\n",
       "  Text(8, 0, 'China'),\n",
       "  Text(9, 0, 'Colombia'),\n",
       "  Text(10, 0, 'Cuba'),\n",
       "  Text(11, 0, 'Ecuador'),\n",
       "  Text(12, 0, 'Egypt'),\n",
       "  Text(13, 0, 'El Salvador'),\n",
       "  Text(14, 0, 'Finland'),\n",
       "  Text(15, 0, 'France'),\n",
       "  Text(16, 0, 'Germany'),\n",
       "  Text(17, 0, 'India'),\n",
       "  Text(18, 0, 'Indonesia'),\n",
       "  Text(19, 0, 'Iraq'),\n",
       "  Text(20, 0, 'Italy'),\n",
       "  Text(21, 0, 'Japan'),\n",
       "  Text(22, 0, 'Jordan'),\n",
       "  Text(23, 0, 'Kuwait'),\n",
       "  Text(24, 0, 'Latvia'),\n",
       "  Text(25, 0, 'Malaysia'),\n",
       "  Text(26, 0, 'Mexico'),\n",
       "  Text(27, 0, 'Morocco'),\n",
       "  Text(28, 0, 'Netherlands'),\n",
       "  Text(29, 0, 'Pakistan'),\n",
       "  Text(30, 0, 'Peru'),\n",
       "  Text(31, 0, 'Philippines'),\n",
       "  Text(32, 0, 'Russia'),\n",
       "  Text(33, 0, 'Samoa'),\n",
       "  Text(34, 0, 'Saudi Arabia'),\n",
       "  Text(35, 0, 'Singapore'),\n",
       "  Text(36, 0, 'South Korea'),\n",
       "  Text(37, 0, 'Spain'),\n",
       "  Text(38, 0, 'Sweden'),\n",
       "  Text(39, 0, 'Switzerland'),\n",
       "  Text(40, 0, 'Thailand'),\n",
       "  Text(41, 0, 'Turkey'),\n",
       "  Text(42, 0, 'Ukraine'),\n",
       "  Text(43, 0, 'United Arab Emirates'),\n",
       "  Text(44, 0, 'United Kingdom'),\n",
       "  Text(45, 0, 'United States'),\n",
       "  Text(46, 0, 'Venezuela'),\n",
       "  Text(47, 0, 'Vietnam')])"
      ]
     },
     "execution_count": 332,
     "metadata": {},
     "output_type": "execute_result"
    },
    {
     "data": {
      "image/png": "[encoded data removed]",
      "text/plain": [
       "<Figure size 640x480 with 1 Axes>"
      ]
     },
     "metadata": {},
     "output_type": "display_data"
    }
   ],
   "source": [
    "import numpy as np\n",
    "sns.barplot(x=df_totals['Country'], y=np.log(df_totals['subscribers']))\n",
    "plt.xticks(rotation=90)"
   ]
  },
  {
   "cell_type": "code",
   "execution_count": 322,
   "id": "03ee939f",
   "metadata": {},
   "outputs": [
    {
     "data": {
      "text/plain": [
       "'Barbados'"
      ]
     },
     "execution_count": 322,
     "metadata": {},
     "output_type": "execute_result"
    }
   ],
   "source": [
    "df_totals['Country'].iloc[df_totals['views_to_pop'].argmax()]"
   ]
  },
  {
   "cell_type": "code",
   "execution_count": null,
   "id": "ae641b2c",
   "metadata": {},
   "outputs": [],
   "source": [
    "df_total_subs = df.pivot_table(\n",
    "     values=[\"video views\", \"subscribers\"], index=\"Country\",\n",
    "     aggfunc=\"sum\"\n",
    " ).reset_index()\n",
    "avg_video_views = df_total_subscribers['subscribers'].median()\n",
    "\n",
    "for x in countries:\n",
    "    country_totals.loc[x, 'Longitude'] = df_countries[df_countries['Country'] == x]['Longitude'].iloc[0]\n",
    "    country_totals.loc[x, 'Latitude'] = df_countries[df_countries['Country'] == x]['Latitude'].iloc[0]\n",
    "    country_totals.loc[x, 'views_to_pop'] = country_totals.loc[x, 'subscribers'] / df_countries[df_countries['Country'] == x]['Population'].iloc[0]\n"
   ]
  },
  {
   "cell_type": "code",
   "execution_count": 212,
   "id": "b877fd1c",
   "metadata": {},
   "outputs": [
    {
     "data": {
      "text/html": [
       "<div>\n",
       "<style scoped>\n",
       "    .dataframe tbody tr th:only-of-type {\n",
       "        vertical-align: middle;\n",
       "    }\n",
       "\n",
       "    .dataframe tbody tr th {\n",
       "        vertical-align: top;\n",
       "    }\n",
       "\n",
       "    .dataframe thead th {\n",
       "        text-align: right;\n",
       "    }\n",
       "</style>\n",
       "<table border=\"1\" class=\"dataframe\">\n",
       "  <thead>\n",
       "    <tr style=\"text-align: right;\">\n",
       "      <th></th>\n",
       "      <th>index</th>\n",
       "      <th>rank</th>\n",
       "      <th>Youtuber</th>\n",
       "      <th>subscribers</th>\n",
       "      <th>video views</th>\n",
       "      <th>category</th>\n",
       "      <th>Title</th>\n",
       "      <th>uploads</th>\n",
       "      <th>Country</th>\n",
       "      <th>Abbreviation</th>\n",
       "      <th>...</th>\n",
       "      <th>subscribers_for_last_30_days</th>\n",
       "      <th>created_year</th>\n",
       "      <th>created_month</th>\n",
       "      <th>created_date</th>\n",
       "      <th>Gross tertiary education enrollment (%)</th>\n",
       "      <th>Population</th>\n",
       "      <th>Unemployment rate</th>\n",
       "      <th>Urban_population</th>\n",
       "      <th>Latitude</th>\n",
       "      <th>Longitude</th>\n",
       "    </tr>\n",
       "  </thead>\n",
       "  <tbody>\n",
       "    <tr>\n",
       "      <th>11</th>\n",
       "      <td>14</td>\n",
       "      <td>15</td>\n",
       "      <td>Goldmines</td>\n",
       "      <td>86900000</td>\n",
       "      <td>2.411823e+10</td>\n",
       "      <td>Film &amp; Animation</td>\n",
       "      <td>goldmines</td>\n",
       "      <td>1</td>\n",
       "      <td>NaN</td>\n",
       "      <td>NaN</td>\n",
       "      <td>...</td>\n",
       "      <td>NaN</td>\n",
       "      <td>2006.0</td>\n",
       "      <td>Aug</td>\n",
       "      <td>15.0</td>\n",
       "      <td>NaN</td>\n",
       "      <td>NaN</td>\n",
       "      <td>NaN</td>\n",
       "      <td>NaN</td>\n",
       "      <td>NaN</td>\n",
       "      <td>NaN</td>\n",
       "    </tr>\n",
       "    <tr>\n",
       "      <th>34</th>\n",
       "      <td>38</td>\n",
       "      <td>39</td>\n",
       "      <td>LooLoo Kids - Nursery Rhymes and Children's Songs</td>\n",
       "      <td>54000000</td>\n",
       "      <td>3.231243e+10</td>\n",
       "      <td>Music</td>\n",
       "      <td>LooLoo Kids - Nursery Rhymes and Children's �</td>\n",
       "      <td>11</td>\n",
       "      <td>NaN</td>\n",
       "      <td>NaN</td>\n",
       "      <td>...</td>\n",
       "      <td>NaN</td>\n",
       "      <td>2016.0</td>\n",
       "      <td>Nov</td>\n",
       "      <td>29.0</td>\n",
       "      <td>NaN</td>\n",
       "      <td>NaN</td>\n",
       "      <td>NaN</td>\n",
       "      <td>NaN</td>\n",
       "      <td>NaN</td>\n",
       "      <td>NaN</td>\n",
       "    </tr>\n",
       "    <tr>\n",
       "      <th>44</th>\n",
       "      <td>48</td>\n",
       "      <td>49</td>\n",
       "      <td>Badabun</td>\n",
       "      <td>46800000</td>\n",
       "      <td>1.939805e+10</td>\n",
       "      <td>Entertainment</td>\n",
       "      <td>badabun</td>\n",
       "      <td>1</td>\n",
       "      <td>NaN</td>\n",
       "      <td>NaN</td>\n",
       "      <td>...</td>\n",
       "      <td>75.0</td>\n",
       "      <td>2007.0</td>\n",
       "      <td>Jul</td>\n",
       "      <td>21.0</td>\n",
       "      <td>NaN</td>\n",
       "      <td>NaN</td>\n",
       "      <td>NaN</td>\n",
       "      <td>NaN</td>\n",
       "      <td>NaN</td>\n",
       "      <td>NaN</td>\n",
       "    </tr>\n",
       "    <tr>\n",
       "      <th>47</th>\n",
       "      <td>51</td>\n",
       "      <td>52</td>\n",
       "      <td>Bad Bunny</td>\n",
       "      <td>46100000</td>\n",
       "      <td>3.068634e+10</td>\n",
       "      <td>Music</td>\n",
       "      <td>badbunny</td>\n",
       "      <td>1</td>\n",
       "      <td>NaN</td>\n",
       "      <td>NaN</td>\n",
       "      <td>...</td>\n",
       "      <td>NaN</td>\n",
       "      <td>2005.0</td>\n",
       "      <td>Nov</td>\n",
       "      <td>15.0</td>\n",
       "      <td>NaN</td>\n",
       "      <td>NaN</td>\n",
       "      <td>NaN</td>\n",
       "      <td>NaN</td>\n",
       "      <td>NaN</td>\n",
       "      <td>NaN</td>\n",
       "    </tr>\n",
       "    <tr>\n",
       "      <th>53</th>\n",
       "      <td>57</td>\n",
       "      <td>58</td>\n",
       "      <td>BRIGHT SIDE</td>\n",
       "      <td>44500000</td>\n",
       "      <td>1.070853e+10</td>\n",
       "      <td>Howto &amp; Style</td>\n",
       "      <td>brightside</td>\n",
       "      <td>0</td>\n",
       "      <td>NaN</td>\n",
       "      <td>NaN</td>\n",
       "      <td>...</td>\n",
       "      <td>1.0</td>\n",
       "      <td>2005.0</td>\n",
       "      <td>Nov</td>\n",
       "      <td>18.0</td>\n",
       "      <td>NaN</td>\n",
       "      <td>NaN</td>\n",
       "      <td>NaN</td>\n",
       "      <td>NaN</td>\n",
       "      <td>NaN</td>\n",
       "      <td>NaN</td>\n",
       "    </tr>\n",
       "    <tr>\n",
       "      <th>...</th>\n",
       "      <td>...</td>\n",
       "      <td>...</td>\n",
       "      <td>...</td>\n",
       "      <td>...</td>\n",
       "      <td>...</td>\n",
       "      <td>...</td>\n",
       "      <td>...</td>\n",
       "      <td>...</td>\n",
       "      <td>...</td>\n",
       "      <td>...</td>\n",
       "      <td>...</td>\n",
       "      <td>...</td>\n",
       "      <td>...</td>\n",
       "      <td>...</td>\n",
       "      <td>...</td>\n",
       "      <td>...</td>\n",
       "      <td>...</td>\n",
       "      <td>...</td>\n",
       "      <td>...</td>\n",
       "      <td>...</td>\n",
       "      <td>...</td>\n",
       "    </tr>\n",
       "    <tr>\n",
       "      <th>950</th>\n",
       "      <td>958</td>\n",
       "      <td>959</td>\n",
       "      <td>Troom Troom PT</td>\n",
       "      <td>12500000</td>\n",
       "      <td>4.384178e+09</td>\n",
       "      <td>Howto &amp; Style</td>\n",
       "      <td>Troom Troom PT</td>\n",
       "      <td>2738</td>\n",
       "      <td>NaN</td>\n",
       "      <td>NaN</td>\n",
       "      <td>...</td>\n",
       "      <td>NaN</td>\n",
       "      <td>2015.0</td>\n",
       "      <td>Apr</td>\n",
       "      <td>19.0</td>\n",
       "      <td>NaN</td>\n",
       "      <td>NaN</td>\n",
       "      <td>NaN</td>\n",
       "      <td>NaN</td>\n",
       "      <td>NaN</td>\n",
       "      <td>NaN</td>\n",
       "    </tr>\n",
       "    <tr>\n",
       "      <th>959</th>\n",
       "      <td>967</td>\n",
       "      <td>968</td>\n",
       "      <td>Troom Troom Indonesia</td>\n",
       "      <td>12500000</td>\n",
       "      <td>5.379684e+09</td>\n",
       "      <td>People &amp; Blogs</td>\n",
       "      <td>TROOM TROOM INDONESIA</td>\n",
       "      <td>8</td>\n",
       "      <td>NaN</td>\n",
       "      <td>NaN</td>\n",
       "      <td>...</td>\n",
       "      <td>NaN</td>\n",
       "      <td>2020.0</td>\n",
       "      <td>Jul</td>\n",
       "      <td>29.0</td>\n",
       "      <td>NaN</td>\n",
       "      <td>NaN</td>\n",
       "      <td>NaN</td>\n",
       "      <td>NaN</td>\n",
       "      <td>NaN</td>\n",
       "      <td>NaN</td>\n",
       "    </tr>\n",
       "    <tr>\n",
       "      <th>964</th>\n",
       "      <td>972</td>\n",
       "      <td>973</td>\n",
       "      <td>Hero Movies 2023</td>\n",
       "      <td>12400000</td>\n",
       "      <td>1.689091e+09</td>\n",
       "      <td>People &amp; Blogs</td>\n",
       "      <td>Hero Movies 2023</td>\n",
       "      <td>689</td>\n",
       "      <td>NaN</td>\n",
       "      <td>NaN</td>\n",
       "      <td>...</td>\n",
       "      <td>NaN</td>\n",
       "      <td>2017.0</td>\n",
       "      <td>Feb</td>\n",
       "      <td>22.0</td>\n",
       "      <td>NaN</td>\n",
       "      <td>NaN</td>\n",
       "      <td>NaN</td>\n",
       "      <td>NaN</td>\n",
       "      <td>NaN</td>\n",
       "      <td>NaN</td>\n",
       "    </tr>\n",
       "    <tr>\n",
       "      <th>977</th>\n",
       "      <td>985</td>\n",
       "      <td>986</td>\n",
       "      <td>TKOR</td>\n",
       "      <td>12400000</td>\n",
       "      <td>3.392023e+09</td>\n",
       "      <td>Education</td>\n",
       "      <td>TKoR</td>\n",
       "      <td>0</td>\n",
       "      <td>NaN</td>\n",
       "      <td>NaN</td>\n",
       "      <td>...</td>\n",
       "      <td>NaN</td>\n",
       "      <td>2006.0</td>\n",
       "      <td>Aug</td>\n",
       "      <td>16.0</td>\n",
       "      <td>NaN</td>\n",
       "      <td>NaN</td>\n",
       "      <td>NaN</td>\n",
       "      <td>NaN</td>\n",
       "      <td>NaN</td>\n",
       "      <td>NaN</td>\n",
       "    </tr>\n",
       "    <tr>\n",
       "      <th>978</th>\n",
       "      <td>986</td>\n",
       "      <td>987</td>\n",
       "      <td>ANNA KOVA</td>\n",
       "      <td>12400000</td>\n",
       "      <td>1.395959e+10</td>\n",
       "      <td>People &amp; Blogs</td>\n",
       "      <td>annakova</td>\n",
       "      <td>1</td>\n",
       "      <td>NaN</td>\n",
       "      <td>NaN</td>\n",
       "      <td>...</td>\n",
       "      <td>NaN</td>\n",
       "      <td>2006.0</td>\n",
       "      <td>Jun</td>\n",
       "      <td>18.0</td>\n",
       "      <td>NaN</td>\n",
       "      <td>NaN</td>\n",
       "      <td>NaN</td>\n",
       "      <td>NaN</td>\n",
       "      <td>NaN</td>\n",
       "      <td>NaN</td>\n",
       "    </tr>\n",
       "  </tbody>\n",
       "</table>\n",
       "<p>117 rows × 29 columns</p>\n",
       "</div>"
      ],
      "text/plain": [
       "     index  rank                                           Youtuber  \\\n",
       "11      14    15                                          Goldmines   \n",
       "34      38    39  LooLoo Kids - Nursery Rhymes and Children's Songs   \n",
       "44      48    49                                            Badabun   \n",
       "47      51    52                                          Bad Bunny   \n",
       "53      57    58                                        BRIGHT SIDE   \n",
       "..     ...   ...                                                ...   \n",
       "950    958   959                                     Troom Troom PT   \n",
       "959    967   968                              Troom Troom Indonesia   \n",
       "964    972   973                                   Hero Movies 2023   \n",
       "977    985   986                                               TKOR   \n",
       "978    986   987                                          ANNA KOVA   \n",
       "\n",
       "     subscribers   video views          category  \\\n",
       "11      86900000  2.411823e+10  Film & Animation   \n",
       "34      54000000  3.231243e+10             Music   \n",
       "44      46800000  1.939805e+10     Entertainment   \n",
       "47      46100000  3.068634e+10             Music   \n",
       "53      44500000  1.070853e+10     Howto & Style   \n",
       "..           ...           ...               ...   \n",
       "950     12500000  4.384178e+09     Howto & Style   \n",
       "959     12500000  5.379684e+09    People & Blogs   \n",
       "964     12400000  1.689091e+09    People & Blogs   \n",
       "977     12400000  3.392023e+09         Education   \n",
       "978     12400000  1.395959e+10    People & Blogs   \n",
       "\n",
       "                                             Title  uploads Country  \\\n",
       "11                                       goldmines        1     NaN   \n",
       "34   LooLoo Kids - Nursery Rhymes and Children's �       11     NaN   \n",
       "44                                         badabun        1     NaN   \n",
       "47                                        badbunny        1     NaN   \n",
       "53                                      brightside        0     NaN   \n",
       "..                                             ...      ...     ...   \n",
       "950                                 Troom Troom PT     2738     NaN   \n",
       "959                          TROOM TROOM INDONESIA        8     NaN   \n",
       "964                               Hero Movies 2023      689     NaN   \n",
       "977                                           TKoR        0     NaN   \n",
       "978                                       annakova        1     NaN   \n",
       "\n",
       "    Abbreviation  ... subscribers_for_last_30_days  created_year  \\\n",
       "11           NaN  ...                          NaN        2006.0   \n",
       "34           NaN  ...                          NaN        2016.0   \n",
       "44           NaN  ...                         75.0        2007.0   \n",
       "47           NaN  ...                          NaN        2005.0   \n",
       "53           NaN  ...                          1.0        2005.0   \n",
       "..           ...  ...                          ...           ...   \n",
       "950          NaN  ...                          NaN        2015.0   \n",
       "959          NaN  ...                          NaN        2020.0   \n",
       "964          NaN  ...                          NaN        2017.0   \n",
       "977          NaN  ...                          NaN        2006.0   \n",
       "978          NaN  ...                          NaN        2006.0   \n",
       "\n",
       "     created_month  created_date  Gross tertiary education enrollment (%)  \\\n",
       "11             Aug          15.0                                      NaN   \n",
       "34             Nov          29.0                                      NaN   \n",
       "44             Jul          21.0                                      NaN   \n",
       "47             Nov          15.0                                      NaN   \n",
       "53             Nov          18.0                                      NaN   \n",
       "..             ...           ...                                      ...   \n",
       "950            Apr          19.0                                      NaN   \n",
       "959            Jul          29.0                                      NaN   \n",
       "964            Feb          22.0                                      NaN   \n",
       "977            Aug          16.0                                      NaN   \n",
       "978            Jun          18.0                                      NaN   \n",
       "\n",
       "     Population  Unemployment rate  Urban_population  Latitude  Longitude  \n",
       "11          NaN                NaN               NaN       NaN        NaN  \n",
       "34          NaN                NaN               NaN       NaN        NaN  \n",
       "44          NaN                NaN               NaN       NaN        NaN  \n",
       "47          NaN                NaN               NaN       NaN        NaN  \n",
       "53          NaN                NaN               NaN       NaN        NaN  \n",
       "..          ...                ...               ...       ...        ...  \n",
       "950         NaN                NaN               NaN       NaN        NaN  \n",
       "959         NaN                NaN               NaN       NaN        NaN  \n",
       "964         NaN                NaN               NaN       NaN        NaN  \n",
       "977         NaN                NaN               NaN       NaN        NaN  \n",
       "978         NaN                NaN               NaN       NaN        NaN  \n",
       "\n",
       "[117 rows x 29 columns]"
      ]
     },
     "execution_count": 212,
     "metadata": {},
     "output_type": "execute_result"
    }
   ],
   "source": [
    "df[df['Population'].isna()]"
   ]
  },
  {
   "cell_type": "code",
   "execution_count": 210,
   "id": "2914237a",
   "metadata": {},
   "outputs": [
    {
     "name": "stdout",
     "output_type": "stream",
     "text": [
      "0               India\n",
      "1       United States\n",
      "2       United States\n",
      "3               India\n",
      "4       United States\n",
      "            ...      \n",
      "982            Brazil\n",
      "983             India\n",
      "984    United Kingdom\n",
      "985            Sweden\n",
      "986             India\n",
      "Name: Country, Length: 987, dtype: object\n",
      "38041754.0\n",
      "0               India\n",
      "1       United States\n",
      "2       United States\n",
      "3               India\n",
      "4       United States\n",
      "            ...      \n",
      "982            Brazil\n",
      "983             India\n",
      "984    United Kingdom\n",
      "985            Sweden\n",
      "986             India\n",
      "Name: Country, Length: 987, dtype: object\n",
      "nan\n",
      "0               India\n",
      "1       United States\n",
      "2       United States\n",
      "3               India\n",
      "4       United States\n",
      "            ...      \n",
      "982            Brazil\n",
      "983             India\n",
      "984    United Kingdom\n",
      "985            Sweden\n",
      "986             India\n",
      "Name: Country, Length: 987, dtype: object\n",
      "44938712.0\n",
      "0               India\n",
      "1       United States\n",
      "2       United States\n",
      "3               India\n",
      "4       United States\n",
      "            ...      \n",
      "982            Brazil\n",
      "983             India\n",
      "984    United Kingdom\n",
      "985            Sweden\n",
      "986             India\n",
      "Name: Country, Length: 987, dtype: object\n",
      "25766605.0\n",
      "0               India\n",
      "1       United States\n",
      "2       United States\n",
      "3               India\n",
      "4       United States\n",
      "            ...      \n",
      "982            Brazil\n",
      "983             India\n",
      "984    United Kingdom\n",
      "985            Sweden\n",
      "986             India\n",
      "Name: Country, Length: 987, dtype: object\n",
      "167310838.0\n",
      "0               India\n",
      "1       United States\n",
      "2       United States\n",
      "3               India\n",
      "4       United States\n",
      "            ...      \n",
      "982            Brazil\n",
      "983             India\n",
      "984    United Kingdom\n",
      "985            Sweden\n",
      "986             India\n",
      "Name: Country, Length: 987, dtype: object\n",
      "287025.0\n",
      "0               India\n",
      "1       United States\n",
      "2       United States\n",
      "3               India\n",
      "4       United States\n",
      "            ...      \n",
      "982            Brazil\n",
      "983             India\n",
      "984    United Kingdom\n",
      "985            Sweden\n",
      "986             India\n",
      "Name: Country, Length: 987, dtype: object\n",
      "212559417.0\n",
      "0               India\n",
      "1       United States\n",
      "2       United States\n",
      "3               India\n",
      "4       United States\n",
      "            ...      \n",
      "982            Brazil\n",
      "983             India\n",
      "984    United Kingdom\n",
      "985            Sweden\n",
      "986             India\n",
      "Name: Country, Length: 987, dtype: object\n",
      "36991981.0\n",
      "0               India\n",
      "1       United States\n",
      "2       United States\n",
      "3               India\n",
      "4       United States\n",
      "            ...      \n",
      "982            Brazil\n",
      "983             India\n",
      "984    United Kingdom\n",
      "985            Sweden\n",
      "986             India\n",
      "Name: Country, Length: 987, dtype: object\n",
      "18952038.0\n",
      "0               India\n",
      "1       United States\n",
      "2       United States\n",
      "3               India\n",
      "4       United States\n",
      "            ...      \n",
      "982            Brazil\n",
      "983             India\n",
      "984    United Kingdom\n",
      "985            Sweden\n",
      "986             India\n",
      "Name: Country, Length: 987, dtype: object\n",
      "1397715000.0\n",
      "0               India\n",
      "1       United States\n",
      "2       United States\n",
      "3               India\n",
      "4       United States\n",
      "            ...      \n",
      "982            Brazil\n",
      "983             India\n",
      "984    United Kingdom\n",
      "985            Sweden\n",
      "986             India\n",
      "Name: Country, Length: 987, dtype: object\n",
      "50339443.0\n",
      "0               India\n",
      "1       United States\n",
      "2       United States\n",
      "3               India\n",
      "4       United States\n",
      "            ...      \n",
      "982            Brazil\n",
      "983             India\n",
      "984    United Kingdom\n",
      "985            Sweden\n",
      "986             India\n",
      "Name: Country, Length: 987, dtype: object\n",
      "11333483.0\n",
      "0               India\n",
      "1       United States\n",
      "2       United States\n",
      "3               India\n",
      "4       United States\n",
      "            ...      \n",
      "982            Brazil\n",
      "983             India\n",
      "984    United Kingdom\n",
      "985            Sweden\n",
      "986             India\n",
      "Name: Country, Length: 987, dtype: object\n",
      "17373662.0\n",
      "0               India\n",
      "1       United States\n",
      "2       United States\n",
      "3               India\n",
      "4       United States\n",
      "            ...      \n",
      "982            Brazil\n",
      "983             India\n",
      "984    United Kingdom\n",
      "985            Sweden\n",
      "986             India\n",
      "Name: Country, Length: 987, dtype: object\n",
      "100388073.0\n",
      "0               India\n",
      "1       United States\n",
      "2       United States\n",
      "3               India\n",
      "4       United States\n",
      "            ...      \n",
      "982            Brazil\n",
      "983             India\n",
      "984    United Kingdom\n",
      "985            Sweden\n",
      "986             India\n",
      "Name: Country, Length: 987, dtype: object\n",
      "6453553.0\n",
      "0               India\n",
      "1       United States\n",
      "2       United States\n",
      "3               India\n",
      "4       United States\n",
      "            ...      \n",
      "982            Brazil\n",
      "983             India\n",
      "984    United Kingdom\n",
      "985            Sweden\n",
      "986             India\n",
      "Name: Country, Length: 987, dtype: object\n",
      "5520314.0\n",
      "0               India\n",
      "1       United States\n",
      "2       United States\n",
      "3               India\n",
      "4       United States\n",
      "            ...      \n",
      "982            Brazil\n",
      "983             India\n",
      "984    United Kingdom\n",
      "985            Sweden\n",
      "986             India\n",
      "Name: Country, Length: 987, dtype: object\n",
      "67059887.0\n",
      "0               India\n",
      "1       United States\n",
      "2       United States\n",
      "3               India\n",
      "4       United States\n",
      "            ...      \n",
      "982            Brazil\n",
      "983             India\n",
      "984    United Kingdom\n",
      "985            Sweden\n",
      "986             India\n",
      "Name: Country, Length: 987, dtype: object\n",
      "83132799.0\n",
      "0               India\n",
      "1       United States\n",
      "2       United States\n",
      "3               India\n",
      "4       United States\n",
      "            ...      \n",
      "982            Brazil\n",
      "983             India\n",
      "984    United Kingdom\n",
      "985            Sweden\n",
      "986             India\n",
      "Name: Country, Length: 987, dtype: object\n",
      "1366417754.0\n",
      "0               India\n",
      "1       United States\n",
      "2       United States\n",
      "3               India\n",
      "4       United States\n",
      "            ...      \n",
      "982            Brazil\n",
      "983             India\n",
      "984    United Kingdom\n",
      "985            Sweden\n",
      "986             India\n",
      "Name: Country, Length: 987, dtype: object\n",
      "270203917.0\n",
      "0               India\n",
      "1       United States\n",
      "2       United States\n",
      "3               India\n",
      "4       United States\n",
      "            ...      \n",
      "982            Brazil\n",
      "983             India\n",
      "984    United Kingdom\n",
      "985            Sweden\n",
      "986             India\n",
      "Name: Country, Length: 987, dtype: object\n",
      "39309783.0\n",
      "0               India\n",
      "1       United States\n",
      "2       United States\n",
      "3               India\n",
      "4       United States\n",
      "            ...      \n",
      "982            Brazil\n",
      "983             India\n",
      "984    United Kingdom\n",
      "985            Sweden\n",
      "986             India\n",
      "Name: Country, Length: 987, dtype: object\n",
      "60297396.0\n",
      "0               India\n",
      "1       United States\n",
      "2       United States\n",
      "3               India\n",
      "4       United States\n",
      "            ...      \n",
      "982            Brazil\n",
      "983             India\n",
      "984    United Kingdom\n",
      "985            Sweden\n",
      "986             India\n",
      "Name: Country, Length: 987, dtype: object\n",
      "126226568.0\n",
      "0               India\n",
      "1       United States\n",
      "2       United States\n",
      "3               India\n",
      "4       United States\n",
      "            ...      \n",
      "982            Brazil\n",
      "983             India\n",
      "984    United Kingdom\n",
      "985            Sweden\n",
      "986             India\n",
      "Name: Country, Length: 987, dtype: object\n",
      "10101694.0\n",
      "0               India\n",
      "1       United States\n",
      "2       United States\n",
      "3               India\n",
      "4       United States\n",
      "            ...      \n",
      "982            Brazil\n",
      "983             India\n",
      "984    United Kingdom\n",
      "985            Sweden\n",
      "986             India\n",
      "Name: Country, Length: 987, dtype: object\n",
      "4207083.0\n",
      "0               India\n",
      "1       United States\n",
      "2       United States\n",
      "3               India\n",
      "4       United States\n",
      "            ...      \n",
      "982            Brazil\n",
      "983             India\n",
      "984    United Kingdom\n",
      "985            Sweden\n",
      "986             India\n",
      "Name: Country, Length: 987, dtype: object\n",
      "1912789.0\n",
      "0               India\n",
      "1       United States\n",
      "2       United States\n",
      "3               India\n",
      "4       United States\n",
      "            ...      \n",
      "982            Brazil\n",
      "983             India\n",
      "984    United Kingdom\n",
      "985            Sweden\n",
      "986             India\n",
      "Name: Country, Length: 987, dtype: object\n",
      "32447385.0\n",
      "0               India\n",
      "1       United States\n",
      "2       United States\n",
      "3               India\n",
      "4       United States\n",
      "            ...      \n",
      "982            Brazil\n",
      "983             India\n",
      "984    United Kingdom\n",
      "985            Sweden\n",
      "986             India\n",
      "Name: Country, Length: 987, dtype: object\n",
      "126014024.0\n",
      "0               India\n",
      "1       United States\n",
      "2       United States\n",
      "3               India\n",
      "4       United States\n",
      "            ...      \n",
      "982            Brazil\n",
      "983             India\n",
      "984    United Kingdom\n",
      "985            Sweden\n",
      "986             India\n",
      "Name: Country, Length: 987, dtype: object\n",
      "36910560.0\n",
      "0               India\n",
      "1       United States\n",
      "2       United States\n",
      "3               India\n",
      "4       United States\n",
      "            ...      \n",
      "982            Brazil\n",
      "983             India\n",
      "984    United Kingdom\n",
      "985            Sweden\n",
      "986             India\n",
      "Name: Country, Length: 987, dtype: object\n",
      "17332850.0\n",
      "0               India\n",
      "1       United States\n",
      "2       United States\n",
      "3               India\n",
      "4       United States\n",
      "            ...      \n",
      "982            Brazil\n",
      "983             India\n",
      "984    United Kingdom\n",
      "985            Sweden\n",
      "986             India\n",
      "Name: Country, Length: 987, dtype: object\n",
      "216565318.0\n",
      "0               India\n",
      "1       United States\n",
      "2       United States\n",
      "3               India\n",
      "4       United States\n",
      "            ...      \n",
      "982            Brazil\n",
      "983             India\n",
      "984    United Kingdom\n",
      "985            Sweden\n",
      "986             India\n",
      "Name: Country, Length: 987, dtype: object\n",
      "32510453.0\n",
      "0               India\n",
      "1       United States\n",
      "2       United States\n",
      "3               India\n",
      "4       United States\n",
      "            ...      \n",
      "982            Brazil\n",
      "983             India\n",
      "984    United Kingdom\n",
      "985            Sweden\n",
      "986             India\n",
      "Name: Country, Length: 987, dtype: object\n",
      "108116615.0\n",
      "0               India\n",
      "1       United States\n",
      "2       United States\n",
      "3               India\n",
      "4       United States\n",
      "            ...      \n",
      "982            Brazil\n",
      "983             India\n",
      "984    United Kingdom\n",
      "985            Sweden\n",
      "986             India\n",
      "Name: Country, Length: 987, dtype: object\n",
      "144373535.0\n",
      "0               India\n",
      "1       United States\n",
      "2       United States\n",
      "3               India\n",
      "4       United States\n",
      "            ...      \n",
      "982            Brazil\n",
      "983             India\n",
      "984    United Kingdom\n",
      "985            Sweden\n",
      "986             India\n",
      "Name: Country, Length: 987, dtype: object\n",
      "202506.0\n",
      "0               India\n",
      "1       United States\n",
      "2       United States\n",
      "3               India\n",
      "4       United States\n",
      "            ...      \n",
      "982            Brazil\n",
      "983             India\n",
      "984    United Kingdom\n",
      "985            Sweden\n",
      "986             India\n",
      "Name: Country, Length: 987, dtype: object\n",
      "34268528.0\n",
      "0               India\n",
      "1       United States\n",
      "2       United States\n",
      "3               India\n",
      "4       United States\n",
      "            ...      \n",
      "982            Brazil\n",
      "983             India\n",
      "984    United Kingdom\n",
      "985            Sweden\n",
      "986             India\n",
      "Name: Country, Length: 987, dtype: object\n",
      "5703569.0\n",
      "0               India\n",
      "1       United States\n",
      "2       United States\n",
      "3               India\n",
      "4       United States\n",
      "            ...      \n",
      "982            Brazil\n",
      "983             India\n",
      "984    United Kingdom\n",
      "985            Sweden\n",
      "986             India\n",
      "Name: Country, Length: 987, dtype: object\n",
      "51709098.0\n",
      "0               India\n",
      "1       United States\n",
      "2       United States\n",
      "3               India\n",
      "4       United States\n",
      "            ...      \n",
      "982            Brazil\n",
      "983             India\n",
      "984    United Kingdom\n",
      "985            Sweden\n",
      "986             India\n",
      "Name: Country, Length: 987, dtype: object\n",
      "47076781.0\n",
      "0               India\n",
      "1       United States\n",
      "2       United States\n",
      "3               India\n",
      "4       United States\n",
      "            ...      \n",
      "982            Brazil\n",
      "983             India\n",
      "984    United Kingdom\n",
      "985            Sweden\n",
      "986             India\n",
      "Name: Country, Length: 987, dtype: object\n",
      "10285453.0\n",
      "0               India\n",
      "1       United States\n",
      "2       United States\n",
      "3               India\n",
      "4       United States\n",
      "            ...      \n",
      "982            Brazil\n",
      "983             India\n",
      "984    United Kingdom\n",
      "985            Sweden\n",
      "986             India\n",
      "Name: Country, Length: 987, dtype: object\n",
      "8574832.0\n",
      "0               India\n",
      "1       United States\n",
      "2       United States\n",
      "3               India\n",
      "4       United States\n",
      "            ...      \n",
      "982            Brazil\n",
      "983             India\n",
      "984    United Kingdom\n",
      "985            Sweden\n",
      "986             India\n",
      "Name: Country, Length: 987, dtype: object\n",
      "69625582.0\n",
      "0               India\n",
      "1       United States\n",
      "2       United States\n",
      "3               India\n",
      "4       United States\n",
      "            ...      \n",
      "982            Brazil\n",
      "983             India\n",
      "984    United Kingdom\n",
      "985            Sweden\n",
      "986             India\n",
      "Name: Country, Length: 987, dtype: object\n",
      "83429615.0\n",
      "0               India\n",
      "1       United States\n",
      "2       United States\n",
      "3               India\n",
      "4       United States\n",
      "            ...      \n",
      "982            Brazil\n",
      "983             India\n",
      "984    United Kingdom\n",
      "985            Sweden\n",
      "986             India\n",
      "Name: Country, Length: 987, dtype: object\n",
      "44385155.0\n",
      "0               India\n",
      "1       United States\n",
      "2       United States\n",
      "3               India\n",
      "4       United States\n",
      "            ...      \n",
      "982            Brazil\n",
      "983             India\n",
      "984    United Kingdom\n",
      "985            Sweden\n",
      "986             India\n",
      "Name: Country, Length: 987, dtype: object\n",
      "9770529.0\n",
      "0               India\n",
      "1       United States\n",
      "2       United States\n",
      "3               India\n",
      "4       United States\n",
      "            ...      \n",
      "982            Brazil\n",
      "983             India\n",
      "984    United Kingdom\n",
      "985            Sweden\n",
      "986             India\n",
      "Name: Country, Length: 987, dtype: object\n",
      "66834405.0\n",
      "0               India\n",
      "1       United States\n",
      "2       United States\n",
      "3               India\n",
      "4       United States\n",
      "            ...      \n",
      "982            Brazil\n",
      "983             India\n",
      "984    United Kingdom\n",
      "985            Sweden\n",
      "986             India\n",
      "Name: Country, Length: 987, dtype: object\n",
      "328239523.0\n",
      "0               India\n",
      "1       United States\n",
      "2       United States\n",
      "3               India\n",
      "4       United States\n",
      "            ...      \n",
      "982            Brazil\n",
      "983             India\n",
      "984    United Kingdom\n",
      "985            Sweden\n",
      "986             India\n",
      "Name: Country, Length: 987, dtype: object\n",
      "28515829.0\n",
      "0               India\n",
      "1       United States\n",
      "2       United States\n",
      "3               India\n",
      "4       United States\n",
      "            ...      \n",
      "982            Brazil\n",
      "983             India\n",
      "984    United Kingdom\n",
      "985            Sweden\n",
      "986             India\n",
      "Name: Country, Length: 987, dtype: object\n",
      "96462106.0\n"
     ]
    }
   ],
   "source": [
    "for i, x in df_total_subs.iterrows():\n",
    "    print(df['Country'])\n",
    "    print(df[df['Country'] == x['Country']]['Population'].iloc[0])"
   ]
  },
  {
   "cell_type": "code",
   "execution_count": null,
   "id": "3c56dbfb",
   "metadata": {},
   "outputs": [],
   "source": []
  }
 ],
 "metadata": {
  "kernelspec": {
   "display_name": ".venv",
   "language": "python",
   "name": "python3"
  },
  "language_info": {
   "codemirror_mode": {
    "name": "ipython",
    "version": 3
   },
   "file_extension": ".py",
   "mimetype": "text/x-python",
   "name": "python",
   "nbconvert_exporter": "python",
   "pygments_lexer": "ipython3",
   "version": "3.13.5"
  }
 },
 "nbformat": 4,
 "nbformat_minor": 5
}
