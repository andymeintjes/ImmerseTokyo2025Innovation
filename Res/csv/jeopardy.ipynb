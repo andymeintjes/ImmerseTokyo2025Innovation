{
 "cells": [
  {
   "cell_type": "code",
   "execution_count": 161,
   "id": "2bcdaa97",
   "metadata": {},
   "outputs": [],
   "source": [
    "import pandas as pd\n",
    "\n",
    "df = pd.read_csv('top_insta_influencers.csv').drop(0)\n"
   ]
  },
  {
   "cell_type": "code",
   "execution_count": 138,
   "id": "43093263",
   "metadata": {},
   "outputs": [
    {
     "data": {
      "text/plain": [
       "17500"
      ]
     },
     "execution_count": 138,
     "metadata": {},
     "output_type": "execute_result"
    }
   ],
   "source": [
    "df['posts'].max()"
   ]
  },
  {
   "cell_type": "code",
   "execution_count": 148,
   "id": "d6b531aa",
   "metadata": {},
   "outputs": [
    {
     "data": {
      "text/plain": [
       "np.float64(11.342805320435309)"
      ]
     },
     "execution_count": 148,
     "metadata": {},
     "output_type": "execute_result"
    }
   ],
   "source": [
    "df.head()['followers'].sum()/df.tail()['followers'].sum()\n"
   ]
  },
  {
   "cell_type": "code",
   "execution_count": 155,
   "id": "32ecd69c",
   "metadata": {},
   "outputs": [
    {
     "data": {
      "text/plain": [
       "139"
      ]
     },
     "execution_count": 155,
     "metadata": {},
     "output_type": "execute_result"
    }
   ],
   "source": [
    "df['posts'].idxmin()"
   ]
  },
  {
   "cell_type": "code",
   "execution_count": 156,
   "id": "2dde47f9",
   "metadata": {},
   "outputs": [
    {
     "data": {
      "text/plain": [
       "np.int64(138)"
      ]
     },
     "execution_count": 156,
     "metadata": {},
     "output_type": "execute_result"
    }
   ],
   "source": [
    "df['posts'].argmin()"
   ]
  },
  {
   "cell_type": "code",
   "execution_count": 154,
   "id": "8d72e3f1",
   "metadata": {},
   "outputs": [
    {
     "data": {
      "text/plain": [
       "rank                        139\n",
       "channel_info         badbunnypr\n",
       "influence_score              83\n",
       "posts                        10\n",
       "followers              42100000\n",
       "avg_likes               3700000\n",
       "60_day_eng_rate           13.09\n",
       "new_post_avg_like       5400000\n",
       "total_likes            67500000\n",
       "country                     NaN\n",
       "Name: 139, dtype: object"
      ]
     },
     "execution_count": 154,
     "metadata": {},
     "output_type": "execute_result"
    }
   ],
   "source": [
    "df.loc[df['posts'].idxmin()]"
   ]
  },
  {
   "cell_type": "code",
   "execution_count": null,
   "id": "8c63fb79",
   "metadata": {},
   "outputs": [
    {
     "data": {
      "text/html": [
       "<div>\n",
       "<style scoped>\n",
       "    .dataframe tbody tr th:only-of-type {\n",
       "        vertical-align: middle;\n",
       "    }\n",
       "\n",
       "    .dataframe tbody tr th {\n",
       "        vertical-align: top;\n",
       "    }\n",
       "\n",
       "    .dataframe thead th {\n",
       "        text-align: right;\n",
       "    }\n",
       "</style>\n",
       "<table border=\"1\" class=\"dataframe\">\n",
       "  <thead>\n",
       "    <tr style=\"text-align: right;\">\n",
       "      <th></th>\n",
       "      <th>rank</th>\n",
       "      <th>channel_info</th>\n",
       "      <th>influence_score</th>\n",
       "      <th>posts</th>\n",
       "      <th>followers</th>\n",
       "      <th>avg_likes</th>\n",
       "      <th>60_day_eng_rate</th>\n",
       "      <th>new_post_avg_like</th>\n",
       "      <th>total_likes</th>\n",
       "      <th>country</th>\n",
       "    </tr>\n",
       "  </thead>\n",
       "  <tbody>\n",
       "    <tr>\n",
       "      <th>56</th>\n",
       "      <td>56</td>\n",
       "      <td>emmawatson</td>\n",
       "      <td>87</td>\n",
       "      <td>340</td>\n",
       "      <td>67300000</td>\n",
       "      <td>1900000</td>\n",
       "      <td>0.01</td>\n",
       "      <td>0</td>\n",
       "      <td>639000000</td>\n",
       "      <td>United States</td>\n",
       "    </tr>\n",
       "    <tr>\n",
       "      <th>147</th>\n",
       "      <td>147</td>\n",
       "      <td>marinaruybarbosa</td>\n",
       "      <td>81</td>\n",
       "      <td>2100</td>\n",
       "      <td>40700000</td>\n",
       "      <td>586400</td>\n",
       "      <td>0.01</td>\n",
       "      <td>0</td>\n",
       "      <td>1200000000</td>\n",
       "      <td>Brazil</td>\n",
       "    </tr>\n",
       "  </tbody>\n",
       "</table>\n",
       "</div>"
      ],
      "text/plain": [
       "     rank      channel_info  influence_score  posts  followers  avg_likes  \\\n",
       "56     56        emmawatson               87    340   67300000    1900000   \n",
       "147   147  marinaruybarbosa               81   2100   40700000     586400   \n",
       "\n",
       "     60_day_eng_rate  new_post_avg_like  total_likes        country  \n",
       "56              0.01                  0    639000000  United States  \n",
       "147             0.01                  0   1200000000         Brazil  "
      ]
     },
     "execution_count": 178,
     "metadata": {},
     "output_type": "execute_result"
    }
   ],
   "source": [
    "df[df['60_day_eng_rate'] == df[df['country'] == 'United States']['60_day_eng_rate'].min()]\n"
   ]
  },
  {
   "cell_type": "code",
   "execution_count": 181,
   "id": "c9b40b5b",
   "metadata": {},
   "outputs": [
    {
     "data": {
      "text/plain": [
       "np.int64(731622500000)"
      ]
     },
     "execution_count": 181,
     "metadata": {},
     "output_type": "execute_result"
    }
   ],
   "source": [
    "df['total_likes'].sum()"
   ]
  },
  {
   "cell_type": "code",
   "execution_count": 184,
   "id": "e43fc3d0",
   "metadata": {},
   "outputs": [
    {
     "data": {
      "text/plain": [
       "np.float64(24.507989949748744)"
      ]
     },
     "execution_count": 184,
     "metadata": {},
     "output_type": "execute_result"
    }
   ],
   "source": [
    "df['60_day_eng_rate'].max() - df['60_day_eng_rate'].mean()"
   ]
  },
  {
   "cell_type": "code",
   "execution_count": 188,
   "id": "e286a51b",
   "metadata": {},
   "outputs": [
    {
     "data": {
      "text/html": [
       "<div>\n",
       "<style scoped>\n",
       "    .dataframe tbody tr th:only-of-type {\n",
       "        vertical-align: middle;\n",
       "    }\n",
       "\n",
       "    .dataframe tbody tr th {\n",
       "        vertical-align: top;\n",
       "    }\n",
       "\n",
       "    .dataframe thead th {\n",
       "        text-align: right;\n",
       "    }\n",
       "</style>\n",
       "<table border=\"1\" class=\"dataframe\">\n",
       "  <thead>\n",
       "    <tr style=\"text-align: right;\">\n",
       "      <th></th>\n",
       "      <th>rank</th>\n",
       "      <th>channel_info</th>\n",
       "      <th>influence_score</th>\n",
       "      <th>posts</th>\n",
       "      <th>followers</th>\n",
       "      <th>avg_likes</th>\n",
       "      <th>60_day_eng_rate</th>\n",
       "      <th>new_post_avg_like</th>\n",
       "      <th>total_likes</th>\n",
       "      <th>country</th>\n",
       "    </tr>\n",
       "  </thead>\n",
       "  <tbody>\n",
       "    <tr>\n",
       "      <th>2</th>\n",
       "      <td>2</td>\n",
       "      <td>kyliejenner</td>\n",
       "      <td>91</td>\n",
       "      <td>6900</td>\n",
       "      <td>366200000</td>\n",
       "      <td>8300000</td>\n",
       "      <td>1.62</td>\n",
       "      <td>5900000</td>\n",
       "      <td>57400000000</td>\n",
       "      <td>United States</td>\n",
       "    </tr>\n",
       "    <tr>\n",
       "      <th>11</th>\n",
       "      <td>11</td>\n",
       "      <td>kendalljenner</td>\n",
       "      <td>90</td>\n",
       "      <td>660</td>\n",
       "      <td>254000000</td>\n",
       "      <td>5500000</td>\n",
       "      <td>2.04</td>\n",
       "      <td>5100000</td>\n",
       "      <td>3700000000</td>\n",
       "      <td>United States</td>\n",
       "    </tr>\n",
       "    <tr>\n",
       "      <th>23</th>\n",
       "      <td>23</td>\n",
       "      <td>zendaya</td>\n",
       "      <td>87</td>\n",
       "      <td>3500</td>\n",
       "      <td>150700000</td>\n",
       "      <td>5800000</td>\n",
       "      <td>3.17</td>\n",
       "      <td>4800000</td>\n",
       "      <td>20600000000</td>\n",
       "      <td>United States</td>\n",
       "    </tr>\n",
       "    <tr>\n",
       "      <th>33</th>\n",
       "      <td>33</td>\n",
       "      <td>billieeilish</td>\n",
       "      <td>73</td>\n",
       "      <td>690</td>\n",
       "      <td>105200000</td>\n",
       "      <td>8500000</td>\n",
       "      <td>5.02</td>\n",
       "      <td>5200000</td>\n",
       "      <td>5900000000</td>\n",
       "      <td>NaN</td>\n",
       "    </tr>\n",
       "    <tr>\n",
       "      <th>37</th>\n",
       "      <td>37</td>\n",
       "      <td>nasa</td>\n",
       "      <td>88</td>\n",
       "      <td>3600</td>\n",
       "      <td>81300000</td>\n",
       "      <td>1200000</td>\n",
       "      <td>1.53</td>\n",
       "      <td>1200000</td>\n",
       "      <td>4200000000</td>\n",
       "      <td>United States</td>\n",
       "    </tr>\n",
       "    <tr>\n",
       "      <th>...</th>\n",
       "      <td>...</td>\n",
       "      <td>...</td>\n",
       "      <td>...</td>\n",
       "      <td>...</td>\n",
       "      <td>...</td>\n",
       "      <td>...</td>\n",
       "      <td>...</td>\n",
       "      <td>...</td>\n",
       "      <td>...</td>\n",
       "      <td>...</td>\n",
       "    </tr>\n",
       "    <tr>\n",
       "      <th>180</th>\n",
       "      <td>180</td>\n",
       "      <td>sachintendulkar</td>\n",
       "      <td>76</td>\n",
       "      <td>1000</td>\n",
       "      <td>35300000</td>\n",
       "      <td>800400</td>\n",
       "      <td>2.03</td>\n",
       "      <td>664500</td>\n",
       "      <td>810000000</td>\n",
       "      <td>NaN</td>\n",
       "    </tr>\n",
       "    <tr>\n",
       "      <th>184</th>\n",
       "      <td>184</td>\n",
       "      <td>toni.kr8s</td>\n",
       "      <td>83</td>\n",
       "      <td>940</td>\n",
       "      <td>34700000</td>\n",
       "      <td>597200</td>\n",
       "      <td>1.68</td>\n",
       "      <td>533500</td>\n",
       "      <td>561300000</td>\n",
       "      <td>NaN</td>\n",
       "    </tr>\n",
       "    <tr>\n",
       "      <th>185</th>\n",
       "      <td>185</td>\n",
       "      <td>dannapaola</td>\n",
       "      <td>68</td>\n",
       "      <td>1900</td>\n",
       "      <td>34700000</td>\n",
       "      <td>1500000</td>\n",
       "      <td>3.49</td>\n",
       "      <td>1200000</td>\n",
       "      <td>2800000000</td>\n",
       "      <td>Mexico</td>\n",
       "    </tr>\n",
       "    <tr>\n",
       "      <th>192</th>\n",
       "      <td>192</td>\n",
       "      <td>danbilzerian</td>\n",
       "      <td>84</td>\n",
       "      <td>1400</td>\n",
       "      <td>33600000</td>\n",
       "      <td>2000000</td>\n",
       "      <td>3.58</td>\n",
       "      <td>1200000</td>\n",
       "      <td>2800000000</td>\n",
       "      <td>Canada</td>\n",
       "    </tr>\n",
       "    <tr>\n",
       "      <th>194</th>\n",
       "      <td>194</td>\n",
       "      <td>zidane</td>\n",
       "      <td>41</td>\n",
       "      <td>370</td>\n",
       "      <td>33500000</td>\n",
       "      <td>1100000</td>\n",
       "      <td>1.61</td>\n",
       "      <td>532700</td>\n",
       "      <td>391900000</td>\n",
       "      <td>France</td>\n",
       "    </tr>\n",
       "  </tbody>\n",
       "</table>\n",
       "<p>65 rows × 10 columns</p>\n",
       "</div>"
      ],
      "text/plain": [
       "     rank     channel_info  influence_score  posts  followers  avg_likes  \\\n",
       "2       2      kyliejenner               91   6900  366200000    8300000   \n",
       "11     11    kendalljenner               90    660  254000000    5500000   \n",
       "23     23          zendaya               87   3500  150700000    5800000   \n",
       "33     33     billieeilish               73    690  105200000    8500000   \n",
       "37     37             nasa               88   3600   81300000    1200000   \n",
       "..    ...              ...              ...    ...        ...        ...   \n",
       "180   180  sachintendulkar               76   1000   35300000     800400   \n",
       "184   184        toni.kr8s               83    940   34700000     597200   \n",
       "185   185       dannapaola               68   1900   34700000    1500000   \n",
       "192   192     danbilzerian               84   1400   33600000    2000000   \n",
       "194   194           zidane               41    370   33500000    1100000   \n",
       "\n",
       "     60_day_eng_rate  new_post_avg_like  total_likes        country  \n",
       "2               1.62            5900000  57400000000  United States  \n",
       "11              2.04            5100000   3700000000  United States  \n",
       "23              3.17            4800000  20600000000  United States  \n",
       "33              5.02            5200000   5900000000            NaN  \n",
       "37              1.53            1200000   4200000000  United States  \n",
       "..               ...                ...          ...            ...  \n",
       "180             2.03             664500    810000000            NaN  \n",
       "184             1.68             533500    561300000            NaN  \n",
       "185             3.49            1200000   2800000000         Mexico  \n",
       "192             3.58            1200000   2800000000         Canada  \n",
       "194             1.61             532700    391900000         France  \n",
       "\n",
       "[65 rows x 10 columns]"
      ]
     },
     "execution_count": 188,
     "metadata": {},
     "output_type": "execute_result"
    }
   ],
   "source": [
    "df[df['60_day_eng_rate'] > 1.5]"
   ]
  },
  {
   "cell_type": "code",
   "execution_count": null,
   "id": "5475fc83",
   "metadata": {},
   "outputs": [],
   "source": [
    "# df_usa\n",
    "df_brz = df[df['country'] == 'Brazil']\n"
   ]
  },
  {
   "cell_type": "code",
   "execution_count": 193,
   "id": "d7b6dc67",
   "metadata": {},
   "outputs": [
    {
     "data": {
      "text/plain": [
       "2.0677583286278938"
      ]
     },
     "execution_count": 193,
     "metadata": {},
     "output_type": "execute_result"
    }
   ],
   "source": [
    "df_usa['followers'].max()/df_brz['followers'].max()"
   ]
  },
  {
   "cell_type": "code",
   "execution_count": 197,
   "id": "bea018c4",
   "metadata": {},
   "outputs": [
    {
     "data": {
      "text/plain": [
       "14"
      ]
     },
     "execution_count": 197,
     "metadata": {},
     "output_type": "execute_result"
    }
   ],
   "source": [
    "df_fol = df_usa[df_usa['followers'] > 100000000]\n",
    "sum(df_fol['posts'] > 2000)"
   ]
  },
  {
   "cell_type": "code",
   "execution_count": null,
   "id": "c6ab1d7a",
   "metadata": {},
   "outputs": [],
   "source": []
  }
 ],
 "metadata": {
  "kernelspec": {
   "display_name": ".venv",
   "language": "python",
   "name": "python3"
  },
  "language_info": {
   "codemirror_mode": {
    "name": "ipython",
    "version": 3
   },
   "file_extension": ".py",
   "mimetype": "text/x-python",
   "name": "python",
   "nbconvert_exporter": "python",
   "pygments_lexer": "ipython3",
   "version": "3.13.5"
  }
 },
 "nbformat": 4,
 "nbformat_minor": 5
}
